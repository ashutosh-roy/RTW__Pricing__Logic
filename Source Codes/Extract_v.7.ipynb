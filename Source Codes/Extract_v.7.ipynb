{
  "nbformat": 4,
  "nbformat_minor": 0,
  "metadata": {
    "colab": {
      "name": "Extract_v.6.ipynb",
      "provenance": [],
      "collapsed_sections": []
    },
    "kernelspec": {
      "name": "python3",
      "display_name": "Python 3.9.0 64-bit",
      "metadata": {
        "interpreter": {
          "hash": "979f596de77a14df90d8571d9c3b2c64911dcbd90147564c8d29615a4c4484b8"
        }
      }
    }
  },
  "cells": [
    {
      "cell_type": "code",
      "metadata": {
        "id": "F-ekZFnpyI6O"
      },
      "source": [
        "import xlrd \n",
        "import json\n",
        "import csv\n",
        "import sys\n",
        "# from google.colab import files\n",
        "# uploaded = files.upload()"
      ],
      "execution_count": 2,
      "outputs": []
    },
    {
      "cell_type": "code",
      "metadata": {
        "id": "n7xQTEn4yOLl"
      },
      "source": [
        "book = xlrd.open_workbook(\"../RTW.xls\")"
      ],
      "execution_count": 3,
      "outputs": []
    },
    {
      "cell_type": "code",
      "metadata": {
        "id": "SipqwZleyOV8",
        "colab": {
          "base_uri": "https://localhost:8080/"
        },
        "outputId": "18d96f47-f37c-45da-8665-5e0816126d96"
      },
      "source": [
        "print(\"The number of worksheets is {0}\".format(book.nsheets))\n",
        "print(\"Worksheet name(s): {0}\".format(book.sheet_names()))"
      ],
      "execution_count": 4,
      "outputs": [
        {
          "output_type": "stream",
          "name": "stdout",
          "text": [
            "The number of worksheets is 19\nWorksheet name(s): ['JOHOR', 'MELAKA', 'N9', 'ZON SELATAN', 'PERLIS', 'KEDAH', 'PP', 'PERAK', 'ZON UTARA', 'PAHANG', 'KELANTAN', 'TERENGGANU', 'ZON TIMUR', 'SABAH', 'SARAWAK', 'ZON BORNEO', 'KUALA LUMPUR', 'SELANGOR', 'ZON LEMBAH KLANG NEW']\n"
          ]
        }
      ]
    },
    {
      "cell_type": "markdown",
      "metadata": {
        "id": "LycjCyvopWm-"
      },
      "source": [
        "<h1> Service Types </h1>"
      ]
    },
    {
      "cell_type": "markdown",
      "metadata": {
        "id": "yS3EAIYIpdw_"
      },
      "source": [
        "<h2>Service Type To Service Code Mapping </h2>"
      ]
    },
    {
      "cell_type": "code",
      "execution_count": 6,
      "metadata": {},
      "outputs": [
        {
          "output_type": "stream",
          "name": "stdout",
          "text": [
            "['PHYSIOTHERAPY', 'OCCUPATIONAL THERAPY', 'SPEECH THERAPY', 'FUNCTIONAL CAPACITY EVALUATION & REPORT', 'SERVICES BY PACKAGE', 'ASSESSMENT & REPORT', 'DRY NEEDLING/ACUPUNCTURE', 'SERVICES BY MODALITIES', 'CONSULTATION', 'HOSTEL', 'PSYCHOLOGY', 'ADMINISTRATION SERVICES']\n"
          ]
        }
      ],
      "source": [
        "data = open('Service Type.txt', 'r') \n",
        "serv_type = []\n",
        "service_type_to_service_code = {}\n",
        "count = 0\n",
        "for i in data:\n",
        "    count+=1\n",
        "    serv_type.append(i.strip(\"\\n\"))\n",
        "print(serv_type)"
      ]
    },
    {
      "cell_type": "code",
      "metadata": {
        "id": "_8FLjZdYU1xh",
        "outputId": "ca47167d-b593-4d7f-8f12-01428d02fdd9"
      },
      "source": [
        "print(\"-----------------\\n\")\n",
        "print(\"Service Type TO Service Code Mapping\\n\") \n",
        "print(\"-----------------\\n\")\n",
        "service_type_to_service_code = {}\n",
        "count = 0\n",
        "for i in serv_type:\n",
        "    if(i.lower()==\"services by package\"):\n",
        "        a = \"serv_by_pack\"\n",
        "    elif(i.lower()==\"services by modalities\"):\n",
        "        a = \"serv_by_mod\"\n",
        "    else:\n",
        "        a = i.lower()[0:3]\n",
        "    service_type_to_service_code.update({i.lower():\"rtw_st_\"+a})\n",
        "    \n",
        "print(json.dumps(service_type_to_service_code,indent=1))"
      ],
      "execution_count": 7,
      "outputs": [
        {
          "output_type": "stream",
          "name": "stdout",
          "text": [
            "-----------------\n\nService Type TO Service Code Mapping\n\n-----------------\n\n{\n \"physiotherapy\": \"rtw_st_phy\",\n \"occupational therapy\": \"rtw_st_occ\",\n \"speech therapy\": \"rtw_st_spe\",\n \"functional capacity evaluation & report\": \"rtw_st_fun\",\n \"services by package\": \"rtw_st_serv_by_pack\",\n \"assessment & report\": \"rtw_st_ass\",\n \"dry needling/acupuncture\": \"rtw_st_dry\",\n \"services by modalities\": \"rtw_st_serv_by_mod\",\n \"consultation\": \"rtw_st_con\",\n \"hostel\": \"rtw_st_hos\",\n \"psychology\": \"rtw_st_psy\",\n \"administration services\": \"rtw_st_adm\"\n}\n"
          ]
        }
      ]
    },
    {
      "cell_type": "code",
      "execution_count": 8,
      "metadata": {},
      "outputs": [],
      "source": [
        "def get_service_type_code(i):\n",
        "    if i in service_type_to_service_code:\n",
        "        return service_type_to_service_code[i]"
      ]
    },
    {
      "cell_type": "markdown",
      "metadata": {
        "id": "adCm53M8WEfG"
      },
      "source": [
        "<h1> Services</h1>"
      ]
    },
    {
      "cell_type": "code",
      "execution_count": 10,
      "metadata": {},
      "outputs": [
        {
          "output_type": "stream",
          "name": "stdout",
          "text": [
            "['physiotherapy treatment', 'manual therapy', 'pain management', 'musculoskeletal rehabilitation', 'sport injuries rehabilitation', 'stroke rehabilitation', 'spinal cord injury rehabilitation', 'traumatic brain injury rehabilitation', 'amputee rehabilitation', 'cardiorespiratory rehabilitation', 'hydrotherapy', 'home therapy + mileage', 'group therapy and exercises', 'burn management', 'patient and family education including talk workshop and training', 'women and men health', 'other neurological or rare diseases rehabilitation such as parkinson/multiple sclerosis/muscular dysthropy/systemic lupus/ankylosing spondylotis/gullain barre 1syndrome', 'alter-g (anti graviti) physio', 'tbion (tibion bionic technology) rehab', 'chest physiotherapy manual', 'chest physiotherapy suction machine', 'hand function training', 'fine motor training', 'cognitive training', 'occupational therapy treatment', 'adl training (basic and instrumental adl)', 'therapeutic activities', 'splinting', 'pressure garment', 'cognitive and perceptual training', 'ot tx/ therapeutic exercise', 'home therapy + mileage', 'aids and adaptations', 'work rehabilitation (conditioning & hardening)', 'work simulation training / work hardening', 'driving training', 'vehicle modification', 'functional ergonomic training', 'mobility training (wheelchair/ walking aids/ prosthetic etc)', 'patient and family education including talk workshop and training', 'transitional living care facility)', 'sensory education', 'treatment', 'treatment', 'rehab specialist - initial session', 'rehab specialist - follow up session', 'medical officer - initial session', 'medical officer - follow up session', 'general pt assessment & report', 'general ot assessment & report', 'neuro/ spinal cord injury assessment & report', 'cognitive assessment (cognab)/ perceptual assessment & report', 'home modification assessment & report', 'worksite assessment & report', 'driving assessment & report', 'wheelchair assessment & report', 'prosthetic/ amputation assessment & report', 'speech therapy assessment & report', 'psychological assessment & report', 'sensory perception test', 'clinical observation neuromotor performance', 'visual perception test', 'general fce & report', 'basic fce', 'complete fce (bte primus)', 'by part fce (bte primus)', 'upper extremity & hand fce & report', 'trunk & lower extremity fce & report', 'upper, trunk, lower extremity fce & report', 'neurological fce & report', 'cardiopulmonary fce & report', 'cognitive/ perceptuan function fce & report', 'first registration fees', 'follow up session fees', 'inpatient - hostel & makan', 'dry needling package', 'therapeutic ultrasound', 'hydrocollator pack', 'tens', 'cryocuff', 'ice pack', 'paraffin wax', 'dumb bell', 'sandbag', 'gym ball', 'pulley', 'wall bar', 'parallel bar', 'tilt table', 'plinth and bobath plinth', 'exercise mat', 'static cycle', 'mechanical traction', 'stairs', 'adl kits', 'fine motor kits', 'splint', 'pressure garment', 'thera putty', 'thera band', 'hand exerciser equipment', 'swd', 'continuous passive machine', 'interferential ift', 'ambulation', 'hot pack', 'traction', 'treadmill', 'electrical stimulation', 'hydro collator pack', 'infrared', 'basic - desensitisation kit', 'exercise in gym', 'mobilizing exercise', 'advance - multi gym equipment', 'walking hoist', 'biofeedback equipment', 'erigo stand', 'armeo arm', 'locomat', 'bte primus', 'bte evaltech', 'vienna test system', 'lowenstein occupational therapy cognitive assessment (lotca) / chessington occupational therapy neurological assessment (cotnab)', 'chessington occupational therapy neurological assessment (cotnab)', 'driving simulator', 't/pal', 'valpar', 'laser â€“ low intensity or high intensity', 'shock wave therapy', 'short wave therapy', 'magnetotherapy', 'motomed', 'hydro pool', 'cybernic rehab', 'cryotherapy', 'faradic', 'pakej - neuro rehab', 'pakej - spine/back injury', 'pakej - neck injury', 'pakej - shoulder injury', 'pakej - hand injury', 'pakej - knee injury', 'pakej - fracture', 'pakej - pain management', 'pakej - sport rehab', 'pakej - cardiac rehab', 'pakej - general exercise', 'pakej - respiratory exercise', 'pakej - 2 electrical modalities', 'pakej - 3 electrical modalities/ more']\n"
          ]
        }
      ],
      "source": [
        "data = open('appendix_sheet.txt', 'r') \n",
        "serv = []\n",
        "count=0\n",
        "for i in data:\n",
        "    count+=1\n",
        "    serv.append((i.strip(\"\\n\")).lower())\n",
        "print(serv)"
      ]
    },
    {
      "cell_type": "code",
      "metadata": {
        "colab": {
          "base_uri": "https://localhost:8080/"
        },
        "id": "z51gcUyGsv8V",
        "outputId": "09aa62f1-0a97-403f-a97d-ac5db37a9e33"
      },
      "source": [
        "# print(\"-----------------\\n\")\n",
        "# print(\"Service\\n\") \n",
        "# print(\"-----------------\\n\")\n",
        "# serv = []\n",
        "# s=\"\"\n",
        "# for a in worksheet.row_values(1):\n",
        "#   if(a!=\"\"):\n",
        "#     a = (a.replace(\"\\n\",\" \")).strip()\n",
        "#     for i in a.split(' '):\n",
        "#       if(i!=\"\"):\n",
        "#           s = s + i + \" \"\n",
        "#   serv.append(s.strip())\n",
        "#   s=\"\"\n",
        "# # Removing Bil & Panel Treatment options\n",
        "# serv.pop(0)\n",
        "# serv.pop(0)\n",
        "# print(json.dumps(serv,indent=1))"
      ],
      "execution_count": 11,
      "outputs": []
    },
    {
      "cell_type": "markdown",
      "metadata": {
        "id": "6ZXRxh5LeIaT"
      },
      "source": [
        "<h2>Service TO Service Code Mapping </h2>"
      ]
    },
    {
      "cell_type": "code",
      "execution_count": 14,
      "metadata": {},
      "outputs": [
        {
          "output_type": "stream",
          "name": "stdout",
          "text": [
            "-----------------\n\nService TO Service Code Mapping\n\n-----------------\n\n151\n{\n \"physiotherapy treatment\": \"rtw_s1_phy\",\n \"manual therapy\": \"rtw_s2_man\",\n \"pain management\": \"rtw_s3_pai\",\n \"musculoskeletal rehabilitation\": \"rtw_s4_mus\",\n \"sport injuries rehabilitation\": \"rtw_s5_spo\",\n \"stroke rehabilitation\": \"rtw_s6_str\",\n \"spinal cord injury rehabilitation\": \"rtw_s7_spi\",\n \"traumatic brain injury rehabilitation\": \"rtw_s8_tra\",\n \"amputee rehabilitation\": \"rtw_s9_amp\",\n \"cardiorespiratory rehabilitation\": \"rtw_s10_car\",\n \"hydrotherapy\": \"rtw_s11_hyd\",\n \"home therapy + mileage\": \"rtw_s32_hom\",\n \"group therapy and exercises\": \"rtw_s13_gro\",\n \"burn management\": \"rtw_s14_bur\",\n \"patient and family education including talk workshop and training\": \"rtw_s40_pat\",\n \"women and men health\": \"rtw_s16_wom\",\n \"other neurological or rare diseases rehabilitation such as parkinson/multiple sclerosis/muscular dysthropy/systemic lupus/ankylosing spondylotis/gullain barre 1syndrome\": \"rtw_s17_oth\",\n \"alter-g (anti graviti) physio\": \"rtw_s18_alt\",\n \"tbion (tibion bionic technology) rehab\": \"rtw_s19_tbi\",\n \"chest physiotherapy manual\": \"rtw_s20_che\",\n \"chest physiotherapy suction machine\": \"rtw_s21_che\",\n \"hand function training\": \"rtw_s22_han\",\n \"fine motor training\": \"rtw_s23_fin\",\n \"cognitive training\": \"rtw_s24_cog\",\n \"occupational therapy treatment\": \"rtw_s25_occ\",\n \"adl training (basic and instrumental adl)\": \"rtw_s26_adl\",\n \"therapeutic activities\": \"rtw_s27_the\",\n \"splinting\": \"rtw_s28_spl\",\n \"pressure garment\": \"rtw_s98_pre\",\n \"cognitive and perceptual training\": \"rtw_s30_cog\",\n \"ot tx/ therapeutic exercise\": \"rtw_s31_ot\",\n \"aids and adaptations\": \"rtw_s33_aid\",\n \"work rehabilitation (conditioning & hardening)\": \"rtw_s34_wor\",\n \"work simulation training / work hardening\": \"rtw_s35_wor\",\n \"driving training\": \"rtw_s36_dri\",\n \"vehicle modification\": \"rtw_s37_veh\",\n \"functional ergonomic training\": \"rtw_s38_fun\",\n \"mobility training (wheelchair/ walking aids/ prosthetic etc)\": \"rtw_s39_mob\",\n \"transitional living care facility)\": \"rtw_s41_tra\",\n \"sensory education\": \"rtw_s42_sen\",\n \"treatment\": \"rtw_s44_tre\",\n \"rehab specialist - initial session\": \"rtw_s45_reh\",\n \"rehab specialist - follow up session\": \"rtw_s46_reh\",\n \"medical officer - initial session\": \"rtw_s47_med\",\n \"medical officer - follow up session\": \"rtw_s48_med\",\n \"general pt assessment & report\": \"rtw_s49_gen\",\n \"general ot assessment & report\": \"rtw_s50_gen\",\n \"neuro/ spinal cord injury assessment & report\": \"rtw_s51_neu\",\n \"cognitive assessment (cognab)/ perceptual assessment & report\": \"rtw_s52_cog\",\n \"home modification assessment & report\": \"rtw_s53_hom\",\n \"worksite assessment & report\": \"rtw_s54_wor\",\n \"driving assessment & report\": \"rtw_s55_dri\",\n \"wheelchair assessment & report\": \"rtw_s56_whe\",\n \"prosthetic/ amputation assessment & report\": \"rtw_s57_pro\",\n \"speech therapy assessment & report\": \"rtw_s58_spe\",\n \"psychological assessment & report\": \"rtw_s59_psy\",\n \"sensory perception test\": \"rtw_s60_sen\",\n \"clinical observation neuromotor performance\": \"rtw_s61_cli\",\n \"visual perception test\": \"rtw_s62_vis\",\n \"general fce & report\": \"rtw_s63_gen\",\n \"basic fce\": \"rtw_s64_bas\",\n \"complete fce (bte primus)\": \"rtw_s65_com\",\n \"by part fce (bte primus)\": \"rtw_s66_by\",\n \"upper extremity & hand fce & report\": \"rtw_s67_upp\",\n \"trunk & lower extremity fce & report\": \"rtw_s68_tru\",\n \"upper, trunk, lower extremity fce & report\": \"rtw_s69_upp\",\n \"neurological fce & report\": \"rtw_s70_neu\",\n \"cardiopulmonary fce & report\": \"rtw_s71_car\",\n \"cognitive/ perceptuan function fce & report\": \"rtw_s72_cog\",\n \"first registration fees\": \"rtw_s73_fir\",\n \"follow up session fees\": \"rtw_s74_fol\",\n \"inpatient - hostel & makan\": \"rtw_s75_inp\",\n \"dry needling package\": \"rtw_s76_dry\",\n \"therapeutic ultrasound\": \"rtw_s77_the\",\n \"hydrocollator pack\": \"rtw_s78_hyd\",\n \"tens\": \"rtw_s79_ten\",\n \"cryocuff\": \"rtw_s80_cry\",\n \"ice pack\": \"rtw_s81_ice\",\n \"paraffin wax\": \"rtw_s82_par\",\n \"dumb bell\": \"rtw_s83_dum\",\n \"sandbag\": \"rtw_s84_san\",\n \"gym ball\": \"rtw_s85_gym\",\n \"pulley\": \"rtw_s86_pul\",\n \"wall bar\": \"rtw_s87_wal\",\n \"parallel bar\": \"rtw_s88_par\",\n \"tilt table\": \"rtw_s89_til\",\n \"plinth and bobath plinth\": \"rtw_s90_pli\",\n \"exercise mat\": \"rtw_s91_exe\",\n \"static cycle\": \"rtw_s92_sta\",\n \"mechanical traction\": \"rtw_s93_mec\",\n \"stairs\": \"rtw_s94_sta\",\n \"adl kits\": \"rtw_s95_adl\",\n \"fine motor kits\": \"rtw_s96_fin\",\n \"splint\": \"rtw_s97_spl\",\n \"thera putty\": \"rtw_s99_the\",\n \"thera band\": \"rtw_s100_the\",\n \"hand exerciser equipment\": \"rtw_s101_han\",\n \"swd\": \"rtw_s102_swd\",\n \"continuous passive machine\": \"rtw_s103_con\",\n \"interferential ift\": \"rtw_s104_int\",\n \"ambulation\": \"rtw_s105_amb\",\n \"hot pack\": \"rtw_s106_hot\",\n \"traction\": \"rtw_s107_tra\",\n \"treadmill\": \"rtw_s108_tre\",\n \"electrical stimulation\": \"rtw_s109_ele\",\n \"hydro collator pack\": \"rtw_s110_hyd\",\n \"infrared\": \"rtw_s111_inf\",\n \"basic - desensitisation kit\": \"rtw_s112_bas\",\n \"exercise in gym\": \"rtw_s113_exe\",\n \"mobilizing exercise\": \"rtw_s114_mob\",\n \"advance - multi gym equipment\": \"rtw_s115_adv\",\n \"walking hoist\": \"rtw_s116_wal\",\n \"biofeedback equipment\": \"rtw_s117_bio\",\n \"erigo stand\": \"rtw_s118_eri\",\n \"armeo arm\": \"rtw_s119_arm\",\n \"locomat\": \"rtw_s120_loc\",\n \"bte primus\": \"rtw_s121_bte\",\n \"bte evaltech\": \"rtw_s122_bte\",\n \"vienna test system\": \"rtw_s123_vie\",\n \"lowenstein occupational therapy cognitive assessment (lotca) / chessington occupational therapy neurological assessment (cotnab)\": \"rtw_s124_low\",\n \"chessington occupational therapy neurological assessment (cotnab)\": \"rtw_s125_che\",\n \"driving simulator\": \"rtw_s126_dri\",\n \"t/pal\": \"rtw_s127_t/p\",\n \"valpar\": \"rtw_s128_val\",\n \"laser \\u00e2\\u20ac\\u201c low intensity or high intensity\": \"rtw_s129_las\",\n \"shock wave therapy\": \"rtw_s130_sho\",\n \"short wave therapy\": \"rtw_s131_sho\",\n \"magnetotherapy\": \"rtw_s132_mag\",\n \"motomed\": \"rtw_s133_mot\",\n \"hydro pool\": \"rtw_s134_hyd\",\n \"cybernic rehab\": \"rtw_s135_cyb\",\n \"cryotherapy\": \"rtw_s136_cry\",\n \"faradic\": \"rtw_s137_far\",\n \"pakej - neuro rehab\": \"rtw_s138_pak\",\n \"pakej - spine/back injury\": \"rtw_s139_pak\",\n \"pakej - neck injury\": \"rtw_s140_pak\",\n \"pakej - shoulder injury\": \"rtw_s141_pak\",\n \"pakej - hand injury\": \"rtw_s142_pak\",\n \"pakej - knee injury\": \"rtw_s143_pak\",\n \"pakej - fracture\": \"rtw_s144_pak\",\n \"pakej - pain management\": \"rtw_s145_pak\",\n \"pakej - sport rehab\": \"rtw_s146_pak\",\n \"pakej - cardiac rehab\": \"rtw_s147_pak\",\n \"pakej - general exercise\": \"rtw_s148_pak\",\n \"pakej - respiratory exercise\": \"rtw_s149_pak\",\n \"pakej - 2 electrical modalities\": \"rtw_s150_pak\",\n \"pakej - 3 electrical modalities/ more\": \"rtw_s151_pak\"\n}\n"
          ]
        }
      ],
      "source": [
        "print(\"-----------------\\n\")\n",
        "print(\"Service TO Service Code Mapping\\n\") \n",
        "print(\"-----------------\\n\")\n",
        "service_to_service_code = {}\n",
        "a = []\n",
        "count= 0\n",
        "for i in serv:\n",
        "    count+=1\n",
        "    s = (\"rtw_s\"+str(count)+\"_\"+i.lower()[0:3]).strip()\n",
        "    service_to_service_code.update({str(i):s})\n",
        "print(count)\n",
        "print(json.dumps(service_to_service_code,indent=1))"
      ]
    },
    {
      "cell_type": "code",
      "execution_count": 510,
      "metadata": {},
      "outputs": [],
      "source": [
        "def get_service_code(i):\n",
        "    if(i==\"Advance Equipment - Laser – Low Intensity or High Intensity\"):\n",
        "        return \"rtw_s49_adv\"\n",
        "    if i in service_to_service_code:\n",
        "        return service_to_service_code[i]"
      ]
    },
    {
      "cell_type": "markdown",
      "metadata": {
        "id": "iCEu7ntGUfV5"
      },
      "source": [
        "<h1>Mapping Hierarchy :-</h1>\r\n",
        "<h2>Panel & Service TO Service Type TO State Mapping  </h2>"
      ]
    },
    {
      "cell_type": "code",
      "execution_count": 514,
      "metadata": {},
      "outputs": [],
      "source": [
        "d = []\n",
        "panel = []\n",
        "data_file1 = open('../CSV Files/Removal Of Null Data/CSV_Data_With_Mapping.csv', 'w+') \n",
        "csv_writer1 = csv.writer(data_file1,sys.stdout, lineterminator='\\n') \n",
        "data_file = open('../CSV Files//Removal Of Null Data/CSV_Data_Without_Mapping.csv', 'w+')\n",
        "csv_writer = csv.writer(data_file,sys.stdout, lineterminator='\\n') "
      ]
    },
    {
      "cell_type": "code",
      "metadata": {
        "id": "XkQPOgOtU1xl"
      },
      "source": [
        "def get_panel_code(panel_name):\n",
        "    for i in data[\"panel\"]:\n",
        "        if(panel_name.lower() == i[\"DESC_EN\"].lower()):\n",
        "        # print(\"Service Type in DB = {} \\n REF_CODE = {}\".format(serv_type,i[\"REF_CODE\"]))\n",
        "        # print(\"----------------------------\")\n",
        "            return i[\"REF_CODE\"]\n",
        "            break"
      ],
      "execution_count": 515,
      "outputs": []
    },
    {
      "cell_type": "markdown",
      "metadata": {
        "id": "uubJW7sadPAo"
      },
      "source": [
        "<h3>Price to Service Mapping </h3>"
      ]
    },
    {
      "cell_type": "markdown",
      "metadata": {
        "id": "81xbWcT9oAc0"
      },
      "source": [
        "<h3>State Name TO Code Mapping <br> Zone Name TO Code Mapping</h3>"
      ]
    },
    {
      "cell_type": "code",
      "metadata": {
        "colab": {
          "base_uri": "https://localhost:8080/"
        },
        "id": "RsYbLryNnaFL",
        "outputId": "c315e755-740e-47d8-f3a5-a0f3a95c4f59"
      },
      "source": [
        "a = [\"Johor\",\"Kedah\",\"Kelantan\",\"Melaka\",\"Negeri Sembilan\",\"Pahang\",\"Pulau Pinang\",\"Perak\",\"Perlis\",\"Selangor\",\"Terengganu\",\"Sabah\",\"Sarawak\",\"Kuala Lumpur\",\"Labuan\",\"Putrajaya\",\"N9\",\"PP\"]\n",
        "b = [\"ZON UTARA\",\"ZON SELATAN\",\"ZON TIMUR\",\"ZON BORNEO\",\"ZON TENGAH\",\"ZON LEMBAH KLANG NEW\"]\n",
        "\n",
        "states_in_DB = {}\n",
        "zones_in_DB = {}\n",
        "for i in range(0,len(a)):\n",
        "    states_in_DB.update({a[i].lower():int(i+1)})\n",
        "for i in range(0,len(b)):\n",
        "    zones_in_DB.update({b[i].lower():int(i+1)})\n",
        "print(json.dumps(states_in_DB,indent=1))\n",
        "print(json.dumps(zones_in_DB,indent=1))"
      ],
      "execution_count": 516,
      "outputs": [
        {
          "output_type": "stream",
          "name": "stdout",
          "text": [
            "{\n \"johor\": 1,\n \"kedah\": 2,\n \"kelantan\": 3,\n \"melaka\": 4,\n \"negeri sembilan\": 5,\n \"pahang\": 6,\n \"pulau pinang\": 7,\n \"perak\": 8,\n \"perlis\": 9,\n \"selangor\": 10,\n \"terengganu\": 11,\n \"sabah\": 12,\n \"sarawak\": 13,\n \"kuala lumpur\": 14,\n \"labuan\": 15,\n \"putrajaya\": 16,\n \"n9\": 17,\n \"pp\": 18\n}\n{\n \"zon utara\": 1,\n \"zon selatan\": 2,\n \"zon timur\": 3,\n \"zon borneo\": 4,\n \"zon tengah\": 5,\n \"zon lembah klang new\": 6\n}\n"
          ]
        }
      ]
    },
    {
      "cell_type": "code",
      "metadata": {
        "id": "1sLSQIjvnaFL"
      },
      "source": [
        "def checkState(state_name):\n",
        "    if state_name in states_in_DB:\n",
        "        # print(\"State ={} , Value ={}\".format(state_name,states_in_DB[state_name]))\n",
        "        return states_in_DB[state_name]\n",
        "    else:\n",
        "        return -1\n",
        "            \n",
        "def checkZone(state_name):\n",
        "    if state_name in zones_in_DB:\n",
        "    #    print(\"Zone ={} , Value ={}\".format(state_name,zones_in_DB[state_name]))\n",
        "       return zones_in_DB[state_name]\n",
        "    else:   \n",
        "        return -2"
      ],
      "execution_count": 517,
      "outputs": []
    },
    {
      "cell_type": "code",
      "execution_count": 518,
      "metadata": {},
      "outputs": [
        {
          "output_type": "stream",
          "name": "stdout",
          "text": [
            "---------------------------------------\nWithout Mapping\n---------------------------------------\n"
          ]
        }
      ],
      "source": [
        "print(\"---------------------------------------\")\n",
        "print(\"Without Mapping\")\n",
        "print(\"---------------------------------------\")\n",
        "def pricewithoutMapping(state_name,service_type,service,j,lower_bound,worksheet_no):\n",
        "  c = {}\n",
        "  d = []  \n",
        "  s = \"\"\n",
        "  flag = False\n",
        "  count=0\n",
        "  worksheet = book.sheet_by_index(worksheet_no)\n",
        "  for i in range(2,lower_bound):\n",
        "    a = worksheet.cell_value(rowx=i,colx=j)\n",
        "    b = worksheet.cell_value(rowx=i,colx=1)\n",
        "    c.update({state_name:{service_type:{service:{b:a}}}})\n",
        "    x = checkZone(state_name.lower())\n",
        "    y = checkState(state_name.lower())\n",
        "    if(type(a)==float):\n",
        "      # -------------------\n",
        "      # State Mapping\n",
        "      # -------------------\n",
        "      if(x==-2):\n",
        "        d.append(state_name)\n",
        "        d.append(\"\")\n",
        "      # -------------------\n",
        "      # Zone Mapping\n",
        "      # -------------------\n",
        "      if(y==-1):\n",
        "        d.append(\"\")\n",
        "        d.append(state_name)\n",
        "        \n",
        "      d.append(service_type)\n",
        "      d.append(service)\n",
        "      if((b!=(\"MEDIAN\")) and (b!=(\"max\")) and (b!=(\"min\"))):\n",
        "          d.append(b)\n",
        "          d.append(a)\n",
        "          d.append(\"\")\n",
        "          d.append(\"\")\n",
        "          # print(\"___________________\")\n",
        "          # print(\"{}\\t\".format(d))\n",
        "          # print(\"___________________\")\n",
        "          csv_writer1.writerow(d) \n",
        "      d = []\n",
        "  return c"
      ]
    },
    {
      "cell_type": "code",
      "metadata": {
        "id": "8ZcydeujUfAg"
      },
      "source": [
        "print(\"---------------------------------------\")\n",
        "print(\"Mapping\")\n",
        "print(\"---------------------------------------\")\n",
        "def price(state_name,service_type,service,j,lower_bound,worksheet_no):\n",
        "  c = {}\n",
        "  d = []  \n",
        "  s = \"\"\n",
        "  flag = False\n",
        "  count=0\n",
        "  worksheet = book.sheet_by_index(worksheet_no)\n",
        "  for i in range(2,lower_bound):\n",
        "    a = worksheet.cell_value(rowx=i,colx=j)\n",
        "    b = worksheet.cell_value(rowx=i,colx=1)\n",
        "    c.update({state_name:{service_type:{service:{b:a}}}})\n",
        "    x = checkZone(state_name.lower())\n",
        "    y = checkState(state_name.lower())\n",
        "    # print(\"--------------------------------\")\n",
        "    # print(\"a = {},{}\".format(a,type(a))) \n",
        "    # # print(\"Includes the null data = {}\".format(json.dumps(c,indent=1)))\n",
        "    # print(\"--------------------------------\")\n",
        "    if(type(a)==float):\n",
        "      # print(\"--------------------------------\")\n",
        "      # print(\"a = {},{}\".format(a,type(a))) \n",
        "      # # print(\"Includes the null data = {}\".format(json.dumps(c,indent=1)))\n",
        "      # print(\"--------------------------------\")\n",
        "      # print(\"--------------------------------\")\n",
        "      # print(json.dumps(c,indent=1))\n",
        "      # print(\"--------------------------------\")\n",
        "      # -------------------\n",
        "      # State Mapping\n",
        "      # -------------------\n",
        "      if(x==-2):\n",
        "        d.append(y)\n",
        "        d.append(\"\")\n",
        "        z = y\n",
        "      # -------------------\n",
        "      # Zone Mapping\n",
        "      # -------------------\n",
        "      if(y==-1):\n",
        "        d.append(\"\")\n",
        "        d.append(x)\n",
        "        z = x\n",
        "      # -------------------\n",
        "      # Service Type Mapping\n",
        "      # -------------------\n",
        "      d.append(get_service_type_code(service_type))\n",
        "      # d.append(state_name)\n",
        "      # d.append(service_type)\n",
        "      # -------------------\n",
        "      # Service Mapping\n",
        "      # -------------------\n",
        "      d.append(get_service_code(service))\n",
        "      # d.append(service)\n",
        "      # -------------------\n",
        "      # Panel Mapping\n",
        "      # -------------------\n",
        "      # d.append(\"rtw_panel_\"+(b.split(\"(\")[1][0:4]).lower())\n",
        "      # s = s + \"rtw_panel_\" + ((b[(b.index(\"(\"))+1:b.index(\")\")]).lower()).replace(\" \",\"_\")\n",
        "      s = s + \"rtw_panel_\" +str(z)+\"_\"+(b.split(' '))[0]\n",
        "      # b = b.strip()\n",
        "      if((b!=(\"MEDIAN\")) and (b!=(\"max\")) and (b!=(\"min\"))):\n",
        "        # print(type(b))\n",
        "        # print(type(b))\n",
        "        d.append(s)\n",
        "        # d.append(b)\n",
        "        d.append(a)\n",
        "        d.append(\"\")\n",
        "        d.append(\"\")\n",
        "        s = \"\"\n",
        "        # print(\"___________________\")\n",
        "        # print(\"{}\\t\".format(d))\n",
        "        # print(\"___________________\")\n",
        "        csv_writer.writerow(d) \n",
        "        d = []\n",
        "  return c"
      ],
      "execution_count": 519,
      "outputs": [
        {
          "output_type": "stream",
          "name": "stdout",
          "text": [
            "---------------------------------------\nMapping\n---------------------------------------\n"
          ]
        }
      ]
    },
    {
      "cell_type": "markdown",
      "metadata": {
        "id": "G6I2-mMwc1IQ"
      },
      "source": [
        "<h3> Service To Service Type Mapping<h3>"
      ]
    },
    {
      "cell_type": "code",
      "metadata": {
        "id": "9kbjTHDkxssw"
      },
      "source": [
        "def service_to_service_type(state_name,lower_bound,worksheet_no):\n",
        "  panel_to_serv_price = {}\n",
        "  serv_to_serv_price = {}\n",
        "  a = []\n",
        "  panel_to_serv={}\n",
        "  k = 2\n",
        "  for key,value in serv_columns.items():\n",
        "    for i in range(k,k+value):\n",
        "      b = price(state_name,key,serv[i-2],i,lower_bound,worksheet_no)\n",
        "      pricewithoutMapping(state_name,key,serv[i-2],i,lower_bound,worksheet_no)\n",
        "      # a.append(b)\n",
        "    k = k + value\n",
        "  panel_to_serv.update({state_name:a})\n",
        "  return panel_to_serv"
      ],
      "execution_count": 520,
      "outputs": []
    },
    {
      "cell_type": "markdown",
      "metadata": {
        "id": "kTIf9GTBdVux"
      },
      "source": [
        "<h3>State To Service Type Mapping </h3>"
      ]
    },
    {
      "cell_type": "code",
      "metadata": {
        "colab": {
          "base_uri": "https://localhost:8080/"
        },
        "id": "ezMSWgndnaFN",
        "outputId": "afff0881-bf6e-4e1d-b94a-3c4ea3b87bef"
      },
      "source": [
        "print(\"------------------------------\")\n",
        "print(\"Final Data For Each Sheet\")\n",
        "print(\"------------------------------\")\n",
        "a = 0\n",
        "final_result = []\n",
        "sheet_column_count = {}\n",
        "state_to_service = {}\n",
        "for i in range(0,19):\n",
        "    for j in (book.sheet_by_index(i)).col_values(1):\n",
        "        if(j!=\"\"):\n",
        "            a+=1\n",
        "    sheet_column_count.update({book.sheet_by_index(i).name:a-2})\n",
        "    final_result.append(service_to_service_type(book.sheet_by_index(i).name,a-2,i))\n",
        "    a=0\n",
        "# jsonfile.close()\n",
        "file1 = open(\"jsondata.json\",\"w+\")\n",
        "# csv_writer.close()\n",
        "# print(json.dumps(final_result,indent=1))\n",
        "file1.write(json.dumps(final_result, indent=1)) "
      ],
      "execution_count": 521,
      "outputs": [
        {
          "output_type": "stream",
          "name": "stdout",
          "text": [
            "------------------------------\nFinal Data For Each Sheet\n------------------------------\n"
          ]
        },
        {
          "output_type": "error",
          "ename": "IndexError",
          "evalue": "list index out of range",
          "traceback": [
            "\u001b[1;31m---------------------------------------------------------------------------\u001b[0m",
            "\u001b[1;31mIndexError\u001b[0m                                Traceback (most recent call last)",
            "\u001b[1;32m<ipython-input-521-a177496c6dab>\u001b[0m in \u001b[0;36m<module>\u001b[1;34m\u001b[0m\n\u001b[0;32m     11\u001b[0m             \u001b[0ma\u001b[0m\u001b[1;33m+=\u001b[0m\u001b[1;36m1\u001b[0m\u001b[1;33m\u001b[0m\u001b[1;33m\u001b[0m\u001b[0m\n\u001b[0;32m     12\u001b[0m     \u001b[0msheet_column_count\u001b[0m\u001b[1;33m.\u001b[0m\u001b[0mupdate\u001b[0m\u001b[1;33m(\u001b[0m\u001b[1;33m{\u001b[0m\u001b[0mbook\u001b[0m\u001b[1;33m.\u001b[0m\u001b[0msheet_by_index\u001b[0m\u001b[1;33m(\u001b[0m\u001b[0mi\u001b[0m\u001b[1;33m)\u001b[0m\u001b[1;33m.\u001b[0m\u001b[0mname\u001b[0m\u001b[1;33m:\u001b[0m\u001b[0ma\u001b[0m\u001b[1;33m-\u001b[0m\u001b[1;36m2\u001b[0m\u001b[1;33m}\u001b[0m\u001b[1;33m)\u001b[0m\u001b[1;33m\u001b[0m\u001b[1;33m\u001b[0m\u001b[0m\n\u001b[1;32m---> 13\u001b[1;33m     \u001b[0mfinal_result\u001b[0m\u001b[1;33m.\u001b[0m\u001b[0mappend\u001b[0m\u001b[1;33m(\u001b[0m\u001b[0mservice_to_service_type\u001b[0m\u001b[1;33m(\u001b[0m\u001b[0mbook\u001b[0m\u001b[1;33m.\u001b[0m\u001b[0msheet_by_index\u001b[0m\u001b[1;33m(\u001b[0m\u001b[0mi\u001b[0m\u001b[1;33m)\u001b[0m\u001b[1;33m.\u001b[0m\u001b[0mname\u001b[0m\u001b[1;33m,\u001b[0m\u001b[0ma\u001b[0m\u001b[1;33m-\u001b[0m\u001b[1;36m2\u001b[0m\u001b[1;33m,\u001b[0m\u001b[0mi\u001b[0m\u001b[1;33m)\u001b[0m\u001b[1;33m)\u001b[0m\u001b[1;33m\u001b[0m\u001b[1;33m\u001b[0m\u001b[0m\n\u001b[0m\u001b[0;32m     14\u001b[0m     \u001b[0ma\u001b[0m\u001b[1;33m=\u001b[0m\u001b[1;36m0\u001b[0m\u001b[1;33m\u001b[0m\u001b[1;33m\u001b[0m\u001b[0m\n\u001b[0;32m     15\u001b[0m \u001b[1;31m# jsonfile.close()\u001b[0m\u001b[1;33m\u001b[0m\u001b[1;33m\u001b[0m\u001b[1;33m\u001b[0m\u001b[0m\n",
            "\u001b[1;32m<ipython-input-520-0a2b79c98696>\u001b[0m in \u001b[0;36mservice_to_service_type\u001b[1;34m(state_name, lower_bound, worksheet_no)\u001b[0m\n\u001b[0;32m      7\u001b[0m   \u001b[1;32mfor\u001b[0m \u001b[0mkey\u001b[0m\u001b[1;33m,\u001b[0m\u001b[0mvalue\u001b[0m \u001b[1;32min\u001b[0m \u001b[0mserv_columns\u001b[0m\u001b[1;33m.\u001b[0m\u001b[0mitems\u001b[0m\u001b[1;33m(\u001b[0m\u001b[1;33m)\u001b[0m\u001b[1;33m:\u001b[0m\u001b[1;33m\u001b[0m\u001b[1;33m\u001b[0m\u001b[0m\n\u001b[0;32m      8\u001b[0m     \u001b[1;32mfor\u001b[0m \u001b[0mi\u001b[0m \u001b[1;32min\u001b[0m \u001b[0mrange\u001b[0m\u001b[1;33m(\u001b[0m\u001b[0mk\u001b[0m\u001b[1;33m,\u001b[0m\u001b[0mk\u001b[0m\u001b[1;33m+\u001b[0m\u001b[0mvalue\u001b[0m\u001b[1;33m)\u001b[0m\u001b[1;33m:\u001b[0m\u001b[1;33m\u001b[0m\u001b[1;33m\u001b[0m\u001b[0m\n\u001b[1;32m----> 9\u001b[1;33m       \u001b[0mb\u001b[0m \u001b[1;33m=\u001b[0m \u001b[0mprice\u001b[0m\u001b[1;33m(\u001b[0m\u001b[0mstate_name\u001b[0m\u001b[1;33m,\u001b[0m\u001b[0mkey\u001b[0m\u001b[1;33m,\u001b[0m\u001b[0mserv\u001b[0m\u001b[1;33m[\u001b[0m\u001b[0mi\u001b[0m\u001b[1;33m-\u001b[0m\u001b[1;36m2\u001b[0m\u001b[1;33m]\u001b[0m\u001b[1;33m,\u001b[0m\u001b[0mi\u001b[0m\u001b[1;33m,\u001b[0m\u001b[0mlower_bound\u001b[0m\u001b[1;33m,\u001b[0m\u001b[0mworksheet_no\u001b[0m\u001b[1;33m)\u001b[0m\u001b[1;33m\u001b[0m\u001b[1;33m\u001b[0m\u001b[0m\n\u001b[0m\u001b[0;32m     10\u001b[0m       \u001b[0mpricewithoutMapping\u001b[0m\u001b[1;33m(\u001b[0m\u001b[0mstate_name\u001b[0m\u001b[1;33m,\u001b[0m\u001b[0mkey\u001b[0m\u001b[1;33m,\u001b[0m\u001b[0mserv\u001b[0m\u001b[1;33m[\u001b[0m\u001b[0mi\u001b[0m\u001b[1;33m-\u001b[0m\u001b[1;36m2\u001b[0m\u001b[1;33m]\u001b[0m\u001b[1;33m,\u001b[0m\u001b[0mi\u001b[0m\u001b[1;33m,\u001b[0m\u001b[0mlower_bound\u001b[0m\u001b[1;33m,\u001b[0m\u001b[0mworksheet_no\u001b[0m\u001b[1;33m)\u001b[0m\u001b[1;33m\u001b[0m\u001b[1;33m\u001b[0m\u001b[0m\n\u001b[0;32m     11\u001b[0m       \u001b[1;31m# a.append(b)\u001b[0m\u001b[1;33m\u001b[0m\u001b[1;33m\u001b[0m\u001b[1;33m\u001b[0m\u001b[0m\n",
            "\u001b[1;31mIndexError\u001b[0m: list index out of range"
          ]
        }
      ]
    },
    {
      "cell_type": "code",
      "execution_count": 522,
      "metadata": {},
      "outputs": [
        {
          "output_type": "stream",
          "name": "stdout",
          "text": [
            "Inserting into the other CSV\n"
          ]
        }
      ],
      "source": [
        "data_file = open('../CSV Files/rtwservicetype.csv', 'w+') \n",
        "csv_write = csv.writer(data_file,sys.stdout, lineterminator='\\n') \n",
        "print(\"Inserting into the other CSV\")\n",
        "count = 6731\n",
        "for i in service_type_to_service_code:\n",
        "    # print(i)\n",
        "    d.append(count)\n",
        "    d.append(\"rtw_sp_serviceType\")\n",
        "    d.append(service_type_to_service_code[i].strip())\n",
        "    d.append(i.strip())\n",
        "    d.append(\"\")\n",
        "    d.append(\"\")\n",
        "    d.append(\"\")\n",
        "    d.append(\"\")\n",
        "    d.append(\"\")\n",
        "    d.append(\"\")\n",
        "    count= count+1\n",
        "    # print(\"______________________________\")\n",
        "    # print(d)\n",
        "    # print(\"______________________________\")\n",
        "    csv_write.writerow(d) \n",
        "    d = []\n",
        "# csv_write.close()"
      ]
    },
    {
      "cell_type": "markdown",
      "metadata": {
        "id": "jbRPYT0_WW8q"
      },
      "source": []
    },
    {
      "cell_type": "code",
      "metadata": {
        "id": "R-um--4EU1xr",
        "outputId": "b7ca829f-eba7-476d-bb68-b38e1430a226"
      },
      "source": [
        "import xlrd \n",
        "import json\n",
        "import csv\n",
        "import sys\n",
        "# from google.colab import files\n",
        "# uploaded = files.upload()"
      ],
      "execution_count": 523,
      "outputs": []
    },
    {
      "cell_type": "code",
      "execution_count": 524,
      "metadata": {},
      "outputs": [
        {
          "output_type": "stream",
          "name": "stdout",
          "text": [
            "Sheet  0:<Sheet1>\nWorksheet name(s): ['Sheet1']\n"
          ]
        }
      ],
      "source": [
        "book1 = xlrd.open_workbook(\"../SP-New Price Reference v 0.3.xls\")\n",
        "worksheet1 = book1.sheet_by_index(0)\n",
        "print(worksheet1)\n",
        "print(\"Worksheet name(s): {0}\".format(book1.sheet_names()))"
      ]
    },
    {
      "cell_type": "code",
      "execution_count": 525,
      "metadata": {},
      "outputs": [],
      "source": [
        "# finalcsv_v.1.csv\n",
        "# D:\\Downloads\\RTW Pricing Logic\\CSV Files\\Data by Girish\n",
        "data = open('../CSV Files/Final Data/final_csv_with_map.csv', 'w+') \n",
        "# data = open('../CSV Files/Final Data/final_csv_with_map.csv', 'w+') \n",
        "csv_writer_final = csv.writer(data,sys.stdout, lineterminator='\\n') "
      ]
    },
    {
      "cell_type": "code",
      "execution_count": 526,
      "metadata": {},
      "outputs": [],
      "source": [
        "# a = \"\"\n",
        "# if(not a ):\n",
        "#     print(\"Hellow World\")\n",
        "data = open('../CSV Files/Final Data/final_csv_without_map.csv', 'w+') \n",
        "# data = open('../CSV Files/Final Data/final_csv_without_map.csv', 'w+') \n",
        "csv_writer_final1 = csv.writer(data,sys.stdout, lineterminator='\\n') "
      ]
    },
    {
      "cell_type": "code",
      "execution_count": 7,
      "metadata": {},
      "outputs": [
        {
          "output_type": "stream",
          "name": "stdout",
          "text": [
            "rtw_KLUANG_KLUANG\n"
          ]
        }
      ],
      "source": [
        "z = \"KLUANG UTAMA SPECIALIST HOSPITAL (KLUANG)\"\n",
        "s = \"\"\n",
        "s = s + \"rtw_\" +(z.split(' '))[0] + \"_\"+ z[z.index(\"(\")+1:z.index(\")\")]\n",
        "print(s)"
      ]
    },
    {
      "cell_type": "code",
      "execution_count": 527,
      "metadata": {},
      "outputs": [
        {
          "output_type": "stream",
          "name": "stdout",
          "text": [
            "__________________________________\nKUALA LUMPUR\tSERVICES BY MODALITIES\tAdvance Equipment - Laser – Low Intensity or High Intensity\tNURSINAR GLOBAL ENTERPRISE (TAMAN SETIAWANGSA)\t85.0\n__________________________________\n"
          ]
        }
      ],
      "source": [
        "b = []\n",
        "e = []  \n",
        "f = []\n",
        "final = {}\n",
        "count = 0\n",
        "s= \"\"\n",
        "for i in range(1,885):\n",
        "    b = worksheet1.row_values(i)\n",
        "    a = b[0].strip()\n",
        "    if(a==\"\"):\n",
        "        state_name = b[1].strip()\n",
        "    else :\n",
        "        state_name = a\n",
        "        \n",
        "    service_type = (b[2].strip()).replace(\"\\n\",\"\")\n",
        "    service = (b[3].strip()).replace(\"\\n\",\"\")\n",
        "    panel = (b[4].strip()).replace(\"\\n\",\"\")\n",
        "    price = b[5]\n",
        "    x = checkZone(state_name.lower())\n",
        "    y = checkState(state_name.lower())\n",
        "\n",
        "    # State Mapping\n",
        "    if(x==-2):\n",
        "        e.append(y)\n",
        "        e.append(\"\")\n",
        "        z = y\n",
        "\n",
        "    # Zone Mapping\n",
        "    if(y==-1):\n",
        "        e.append(\"\")\n",
        "        e.append(x)\n",
        "        z = x\n",
        " \n",
        "    # Service Type Mapping\n",
        "    e.append(get_service_type_code(service_type))\n",
        " \n",
        "    # Service Mapping\n",
        "    e.append(get_service_code(service))\n",
        "    s = s + \"rtw_\" +str(z)+\"_\"+(panel.split(' '))[0] + panel[panel.index(\"(\")+1:panel.index(\")\")]\n",
        "    e.append(s)\n",
        "    e.append(price)\n",
        "    e.append(\"\")\n",
        "    e.append(\"\")\n",
        "    s = \"\"\n",
        "    \n",
        "    f.append(state_name)\n",
        "    f.append(b[2])\n",
        "    f.append(b[3])\n",
        "    f.append(b[4])\n",
        "    f.append(b[5])\n",
        "    if(i==272):\n",
        "        print(\"__________________________________\")\n",
        "        print(\"{}\\t{}\\t{}\\t{}\\t{}\".format(state_name,b[2],b[3],b[4],b[5]))\n",
        "        print(\"__________________________________\")\n",
        "    # print(\"__________________________________\")\n",
        "    # print(\"{}\".format(e))\n",
        "    csv_writer_final.writerow(e) \n",
        "    csv_writer_final1.writerow(f)\n",
        "    e = []\n",
        "    f = []"
      ]
    },
    {
      "cell_type": "code",
      "execution_count": 528,
      "metadata": {},
      "outputs": [],
      "source": [
        "import xlrd \n",
        "import json\n",
        "import csv\n",
        "import sys\n",
        "# from google.colab import files\n",
        "# uploaded = files.upload()"
      ]
    },
    {
      "cell_type": "code",
      "execution_count": 529,
      "metadata": {},
      "outputs": [
        {
          "output_type": "stream",
          "name": "stdout",
          "text": [
            "Sheet  0:<PERKHIDMATAN>\nWorksheet name(s): ['PERKHIDMATAN', 'MODALITIES', 'MODIFIKASI']\n"
          ]
        }
      ],
      "source": [
        "book2 = xlrd.open_workbook(\"../Appendix.xls\")\n",
        "worksheet2 = book2.sheet_by_index(0)\n",
        "print(worksheet2)\n",
        "print(\"Worksheet name(s): {0}\".format(book2.sheet_names()))"
      ]
    },
    {
      "cell_type": "code",
      "execution_count": 530,
      "metadata": {},
      "outputs": [],
      "source": [
        "data = open('../CSV Files/Final Data/SP Mapping/sp_with_map.csv', 'w+') \n",
        "csv_writer_map = csv.writer(data,sys.stdout, lineterminator='\\n') "
      ]
    },
    {
      "cell_type": "code",
      "execution_count": 531,
      "metadata": {},
      "outputs": [],
      "source": [
        "data1 = open('../CSV Files/Final Data/SP Mapping/sp_without_map.csv', 'w+') \n",
        "csv_writer_no_map = csv.writer(data1,sys.stdout, lineterminator='\\n') "
      ]
    },
    {
      "cell_type": "code",
      "execution_count": 532,
      "metadata": {},
      "outputs": [
        {
          "output_type": "stream",
          "name": "stdout",
          "text": [
            "PHYSIOTHERAPY\nOCCUPATIONAL THERAPY\nSPEECH THERAPY\nFUNCTIONAL CAPACITY EVALUATION & REPORT\nSERVICES BY PACKAGE\nASSESSMENT & REPORT\nDRY NEEDLING/ACUPUNCTURE\nSERVICES BY MODALITIES\nCONSULTATION\nHOSTEL\nPSYCHOLOGY\nADMINISTRATION SERVICES\n"
          ]
        }
      ],
      "source": [
        "for i in serv_type:\n",
        "    print(i)"
      ]
    },
    {
      "cell_type": "code",
      "execution_count": 533,
      "metadata": {},
      "outputs": [
        {
          "output_type": "stream",
          "name": "stdout",
          "text": [
            "Service TO Service Type TO Service Plan Mapping\n",
            "['rtw_st_phy', 'rtw_s1_phy', 3, '', '', '']\n",
            "['rtw_st_phy', 'rtw_s2_man', 3, '', '', '']\n",
            "['rtw_st_phy', 'rtw_s3_pai', 3, '', '', '']\n",
            "['rtw_st_phy', 'rtw_s4_mus', 3, '', '', '']\n",
            "['rtw_st_phy', 'rtw_s5_spo', 3, '', '', '']\n",
            "['rtw_st_phy', 'rtw_s6_str', 3, '', '', '']\n",
            "['rtw_st_phy', 'rtw_s7_spi', 3, '', '', '']\n",
            "['rtw_st_phy', 'rtw_s8_tra', 3, '', '', '']\n",
            "['rtw_st_phy', 'rtw_s9_amp', 3, '', '', '']\n",
            "['rtw_st_phy', 'rtw_s10_car', 3, '', '', '']\n",
            "['rtw_st_phy', 'rtw_s11_hyd', 3, '', '', '']\n",
            "['rtw_st_phy', 'rtw_s32_hom', 3, '', '', '']\n",
            "['rtw_st_phy', 'rtw_s13_gro', 3, '', '', '']\n",
            "['rtw_st_phy', 'rtw_s14_bur', 3, '', '', '']\n",
            "['rtw_st_phy', 'rtw_s40_pat', 3, '', '', '']\n",
            "['rtw_st_phy', 'rtw_s16_wom', 3, '', '', '']\n",
            "['rtw_st_phy', 'rtw_s17_oth', 3, '', '', '']\n",
            "['rtw_st_phy', 'rtw_s18_alt', 3, '', '', '']\n",
            "['rtw_st_phy', 'rtw_s19_tbi', 3, '', '', '']\n",
            "['rtw_st_phy', 'rtw_s20_che', 3, '', '', '']\n",
            "['rtw_st_phy', 'rtw_s21_che', 3, '', '', '']\n",
            "['rtw_st_phy', 'rtw_s22_han', 3, '', '', '']\n",
            "['rtw_st_phy', 'rtw_s23_fin', 3, '', '', '']\n",
            "['rtw_st_phy', 'rtw_s24_cog', 3, '', '', '']\n",
            "['rtw_st_occ', 'rtw_s25_occ', 3, '', '', '']\n",
            "['rtw_st_occ', 'rtw_s26_adl', 3, '', '', '']\n",
            "['rtw_st_occ', 'rtw_s27_the', 3, '', '', '']\n",
            "['rtw_st_occ', 'rtw_s28_spl', 3, '', '', '']\n",
            "['rtw_st_occ', 'rtw_s98_pre', 3, '', '', '']\n",
            "['rtw_st_occ', 'rtw_s30_cog', 3, '', '', '']\n",
            "['rtw_st_occ', 'rtw_s31_ot', 3, '', '', '']\n",
            "['rtw_st_occ', 'rtw_s32_hom', 3, '', '', '']\n",
            "['rtw_st_occ', 'rtw_s33_aid', 3, '', '', '']\n",
            "['rtw_st_occ', 'rtw_s34_wor', 3, '', '', '']\n",
            "['rtw_st_occ', 'rtw_s35_wor', 3, '', '', '']\n",
            "['rtw_st_occ', 'rtw_s36_dri', 3, '', '', '']\n",
            "['rtw_st_occ', 'rtw_s37_veh', 3, '', '', '']\n",
            "['rtw_st_occ', 'rtw_s38_fun', 3, '', '', '']\n",
            "['rtw_st_occ', 'rtw_s39_mob', 3, '', '', '']\n",
            "['rtw_st_occ', 'rtw_s40_pat', 3, '', '', '']\n",
            "['rtw_st_occ', 'rtw_s41_tra', 3, '', '', '']\n",
            "['rtw_st_occ', 'rtw_s42_sen', 3, '', '', '']\n",
            "['rtw_st_spe', 'rtw_s44_tre', 3, '', '', '']\n",
            "['rtw_st_psy', 'rtw_s44_tre', 3, '', '', '']\n",
            "['rtw_st_con', 'rtw_s45_reh', 3, '', '', '']\n",
            "['rtw_st_con', 'rtw_s46_reh', 3, '', '', '']\n",
            "['rtw_st_con', 'rtw_s47_med', 3, '', '', '']\n",
            "['rtw_st_con', 'rtw_s48_med', 3, '', '', '']\n",
            "['rtw_st_ass', 'rtw_s49_gen', 3, '', '', '']\n",
            "['rtw_st_ass', 'rtw_s50_gen', 3, '', '', '']\n",
            "['rtw_st_ass', 'rtw_s51_neu', 3, '', '', '']\n",
            "['rtw_st_ass', 'rtw_s52_cog', 3, '', '', '']\n",
            "['rtw_st_ass', 'rtw_s53_hom', 3, '', '', '']\n",
            "['rtw_st_ass', 'rtw_s54_wor', 3, '', '', '']\n",
            "['rtw_st_ass', 'rtw_s55_dri', 3, '', '', '']\n",
            "['rtw_st_ass', 'rtw_s56_whe', 3, '', '', '']\n",
            "['rtw_st_ass', 'rtw_s57_pro', 3, '', '', '']\n",
            "['rtw_st_ass', 'rtw_s58_spe', 3, '', '', '']\n",
            "['rtw_st_ass', 'rtw_s59_psy', 3, '', '', '']\n",
            "['rtw_st_ass', 'rtw_s60_sen', 3, '', '', '']\n",
            "['rtw_st_ass', 'rtw_s61_cli', 3, '', '', '']\n",
            "['rtw_st_ass', 'rtw_s62_vis', 3, '', '', '']\n",
            "['rtw_st_fun', 'rtw_s63_gen', 1, '', '', '']\n",
            "['rtw_st_fun', 'rtw_s64_bas', 1, '', '', '']\n",
            "['rtw_st_fun', 'rtw_s65_com', 1, '', '', '']\n",
            "['rtw_st_fun', 'rtw_s66_by', 1, '', '', '']\n",
            "['rtw_st_fun', 'rtw_s67_upp', 1, '', '', '']\n",
            "['rtw_st_fun', 'rtw_s68_tru', 1, '', '', '']\n",
            "['rtw_st_fun', 'rtw_s69_upp', 1, '', '', '']\n",
            "['rtw_st_fun', 'rtw_s70_neu', 1, '', '', '']\n",
            "['rtw_st_fun', 'rtw_s71_car', 1, '', '', '']\n",
            "['rtw_st_fun', 'rtw_s72_cog', 1, '', '', '']\n",
            "[None, None, 1, '', '', '']\n",
            "[None, None, 1, '', '', '']\n",
            "['rtw_st_hos', 'rtw_s75_inp', 3, '', '', '']\n",
            "[None, 'rtw_s76_dry']\n",
            "['rtw_st_serv_by_mod', 'rtw_s77_the', 3, '', '', '']\n",
            "['rtw_st_serv_by_mod', 'rtw_s78_hyd', 3, '', '', '']\n",
            "['rtw_st_serv_by_mod', 'rtw_s79_ten', 3, '', '', '']\n",
            "['rtw_st_serv_by_mod', 'rtw_s80_cry', 3, '', '', '']\n",
            "['rtw_st_serv_by_mod', 'rtw_s81_ice', 3, '', '', '']\n",
            "['rtw_st_serv_by_mod', 'rtw_s82_par', 3, '', '', '']\n",
            "['rtw_st_serv_by_mod', 'rtw_s83_dum', 3, '', '', '']\n",
            "['rtw_st_serv_by_mod', 'rtw_s84_san', 3, '', '', '']\n",
            "['rtw_st_serv_by_mod', 'rtw_s85_gym', 3, '', '', '']\n",
            "['rtw_st_serv_by_mod', 'rtw_s86_pul', 3, '', '', '']\n",
            "['rtw_st_serv_by_mod', 'rtw_s87_wal', 3, '', '', '']\n",
            "['rtw_st_serv_by_mod', 'rtw_s88_par', 3, '', '', '']\n",
            "['rtw_st_serv_by_mod', 'rtw_s89_til', 3, '', '', '']\n",
            "['rtw_st_serv_by_mod', 'rtw_s90_pli', 3, '', '', '']\n",
            "['rtw_st_serv_by_mod', 'rtw_s91_exe', 3, '', '', '']\n",
            "['rtw_st_serv_by_mod', 'rtw_s92_sta', 3, '', '', '']\n",
            "['rtw_st_serv_by_mod', 'rtw_s93_mec', 3, '', '', '']\n",
            "['rtw_st_serv_by_mod', 'rtw_s94_sta', 3, '', '', '']\n",
            "['rtw_st_serv_by_mod', 'rtw_s95_adl', 3, '', '', '']\n",
            "['rtw_st_serv_by_mod', 'rtw_s96_fin', 3, '', '', '']\n",
            "['rtw_st_serv_by_mod', 'rtw_s97_spl', 3, '', '', '']\n",
            "['rtw_st_serv_by_mod', 'rtw_s98_pre', 3, '', '', '']\n",
            "['rtw_st_serv_by_mod', 'rtw_s99_the', 3, '', '', '']\n",
            "['rtw_st_serv_by_mod', 'rtw_s100_the', 3, '', '', '']\n",
            "['rtw_st_serv_by_mod', 'rtw_s101_han', 3, '', '', '']\n",
            "['rtw_st_serv_by_mod', 'rtw_s102_swd', 3, '', '', '']\n",
            "['rtw_st_serv_by_mod', 'rtw_s103_con', 3, '', '', '']\n",
            "['rtw_st_serv_by_mod', 'rtw_s104_int', 3, '', '', '']\n",
            "['rtw_st_serv_by_mod', 'rtw_s105_amb', 3, '', '', '']\n",
            "['rtw_st_serv_by_mod', 'rtw_s106_hot', 3, '', '', '']\n",
            "['rtw_st_serv_by_mod', 'rtw_s107_tra', 3, '', '', '']\n",
            "['rtw_st_serv_by_mod', 'rtw_s108_tre', 3, '', '', '']\n",
            "['rtw_st_serv_by_mod', 'rtw_s109_ele', 3, '', '', '']\n",
            "['rtw_st_serv_by_mod', 'rtw_s110_hyd', 3, '', '', '']\n",
            "['rtw_st_serv_by_mod', 'rtw_s111_inf', 3, '', '', '']\n",
            "['rtw_st_serv_by_mod', 'rtw_s112_bas', 3, '', '', '']\n",
            "['rtw_st_serv_by_mod', 'rtw_s113_exe', 3, '', '', '']\n",
            "['rtw_st_serv_by_mod', 'rtw_s114_mob', 3, '', '', '']\n",
            "[None, 'rtw_s115_adv', 3, '', '', '']\n",
            "[None, 'rtw_s116_wal', 3, '', '', '']\n",
            "[None, 'rtw_s117_bio', 3, '', '', '']\n",
            "[None, 'rtw_s118_eri', 3, '', '', '']\n",
            "[None, 'rtw_s119_arm', 3, '', '', '']\n",
            "[None, 'rtw_s120_loc', 3, '', '', '']\n",
            "[None, 'rtw_s121_bte', 3, '', '', '']\n",
            "[None, 'rtw_s122_bte', 3, '', '', '']\n",
            "[None, 'rtw_s123_vie', 3, '', '', '']\n",
            "[None, 'rtw_s124_low', 3, '', '', '']\n",
            "[None, 'rtw_s125_che', 3, '', '', '']\n",
            "[None, 'rtw_s126_dri', 3, '', '', '']\n",
            "[None, 'rtw_s127_t/p', 3, '', '', '']\n",
            "[None, 'rtw_s128_val', 3, '', '', '']\n",
            "[None, None, 3, '', '', '']\n",
            "[None, 'rtw_s130_sho', 3, '', '', '']\n",
            "[None, 'rtw_s131_sho', 3, '', '', '']\n",
            "[None, 'rtw_s132_mag', 3, '', '', '']\n",
            "[None, 'rtw_s133_mot', 3, '', '', '']\n",
            "[None, 'rtw_s134_hyd', 3, '', '', '']\n",
            "[None, 'rtw_s135_cyb', 3, '', '', '']\n",
            "[None, 'rtw_s136_cry', 3, '', '', '']\n",
            "[None, 'rtw_s137_far', 3, '', '', '']\n",
            "['rtw_st_serv_by_pack', 'rtw_s138_pak', 3, '', '', '']\n",
            "['rtw_st_serv_by_pack', 'rtw_s139_pak', 3, '', '', '']\n",
            "['rtw_st_serv_by_pack', 'rtw_s140_pak', 3, '', '', '']\n",
            "['rtw_st_serv_by_pack', 'rtw_s141_pak', 3, '', '', '']\n",
            "['rtw_st_serv_by_pack', 'rtw_s142_pak', 3, '', '', '']\n",
            "['rtw_st_serv_by_pack', 'rtw_s143_pak', 3, '', '', '']\n",
            "['rtw_st_serv_by_pack', 'rtw_s144_pak', 3, '', '', '']\n",
            "['rtw_st_serv_by_pack', 'rtw_s145_pak', 3, '', '', '']\n",
            "['rtw_st_serv_by_pack', 'rtw_s146_pak', 3, '', '', '']\n",
            "['rtw_st_serv_by_pack', 'rtw_s147_pak', 3, '', '', '']\n",
            "['rtw_st_serv_by_pack', 'rtw_s148_pak', 3, '', '', '']\n",
            "['rtw_st_serv_by_pack', 'rtw_s149_pak', 3, '', '', '']\n",
            "['rtw_st_serv_by_pack', 'rtw_s150_pak', 3, '', '', '']\n",
            "['rtw_st_serv_by_pack', 'rtw_s151_pak', 3, '', '', '']\n"
          ]
        }
      ],
      "source": [
        "print(\"Service TO Service Type TO Service Plan Mapping\")\n",
        "e = []\n",
        "f = []\n",
        "for i in range(1,152):\n",
        "    b = worksheet2.row_values(i)\n",
        "    c = (b[0].strip()).replace(\"\\n\",\"\")\n",
        "    \n",
        "    if(c!=\"\"):\n",
        "        service_type = c\n",
        "\n",
        "    service = (b[4].strip())\n",
        "\n",
        "    e.append(service_type)\n",
        "    e.append(service)\n",
        "\n",
        "    f.append(get_service_type_code(service_type.lower()))\n",
        "    f.append(get_service_code(service.lower()))\n",
        "\n",
        "    if(b[2]==\"PRM\"):\n",
        "        e.append(3)\n",
        "        e.append(\"\")\n",
        "        e.append(\"\")\n",
        "        e.append(\"\")\n",
        "\n",
        "        f.append(3)\n",
        "        f.append(\"\")\n",
        "        f.append(\"\")\n",
        "        f.append(\"\")\n",
        "        csv_writer_map.writerow(f) \n",
        "        csv_writer_no_map.writerow(e) \n",
        "\n",
        "    if(b[2]==\"FCE\"):\n",
        "        e.append(1)\n",
        "        e.append(\"\")\n",
        "        e.append(\"\")\n",
        "        e.append(\"\")\n",
        "\n",
        "        f.append(1)\n",
        "        f.append(\"\")\n",
        "        f.append(\"\")\n",
        "        f.append(\"\")\n",
        "        csv_writer_map.writerow(f) \n",
        "        csv_writer_no_map.writerow(e) \n",
        "\n",
        "    if(b[2]==\"PRM, FCE\"):\n",
        "        e.append(3)\n",
        "        e.append(\"\")\n",
        "        e.append(\"\")\n",
        "        e.append(\"\")\n",
        "\n",
        "        f.append(1)\n",
        "        f.append(\"\")\n",
        "        f.append(\"\")\n",
        "        f.append(\"\")\n",
        "        csv_writer_map.writerow(f) \n",
        "        csv_writer_no_map.writerow(e)\n",
        "\n",
        "        e = []\n",
        "        f = []\n",
        "\n",
        "        e.append(service_type)\n",
        "        e.append(service)\n",
        "        e.append(3)\n",
        "        e.append(\"\")\n",
        "        e.append(\"\")\n",
        "        e.append(\"\")\n",
        "\n",
        "        f.append(get_service_type_code(service_type))\n",
        "        f.append(get_service_code(service))\n",
        "        f.append(1)\n",
        "        f.append(\"\")\n",
        "        f.append(\"\")\n",
        "        f.append(\"\")\n",
        "\n",
        "        csv_writer_map.writerow(f) \n",
        "        csv_writer_no_map.writerow(e)\n",
        "    print(\"{}\".format(f))\n",
        "    f = []\n",
        "    e = []"
      ]
    },
    {
      "cell_type": "code",
      "execution_count": 534,
      "metadata": {},
      "outputs": [],
      "source": [
        "# b = []\n",
        "# e = []  \n",
        "# s= \"\"\n",
        "# for i in serv_type:\n",
        "#     print(mapping_for_sp_service_details(i))"
      ]
    },
    {
      "cell_type": "code",
      "execution_count": null,
      "metadata": {},
      "outputs": [],
      "source": []
    },
    {
      "cell_type": "code",
      "execution_count": null,
      "metadata": {},
      "outputs": [],
      "source": []
    }
  ]
}