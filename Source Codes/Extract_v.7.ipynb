{
  "nbformat": 4,
  "nbformat_minor": 0,
  "metadata": {
    "colab": {
      "name": "Extract_v.6.ipynb",
      "provenance": [],
      "collapsed_sections": []
    },
    "kernelspec": {
      "name": "python3",
      "display_name": "Python 3.9.0 64-bit",
      "metadata": {
        "interpreter": {
          "hash": "979f596de77a14df90d8571d9c3b2c64911dcbd90147564c8d29615a4c4484b8"
        }
      }
    }
  },
  "cells": [
    {
      "cell_type": "code",
      "metadata": {
        "id": "F-ekZFnpyI6O"
      },
      "source": [
        "import xlrd\n",
        "import json\n",
        "import csv\n",
        "import sys\n",
        "# from google.colab import files\n",
        "# uploaded = files.upload()"
      ],
      "execution_count": 1,
      "outputs": []
    },
    {
      "cell_type": "code",
      "metadata": {
        "id": "n7xQTEn4yOLl"
      },
      "source": [
        "book = xlrd.open_workbook(\"../RTW.xls\")"
      ],
      "execution_count": 2,
      "outputs": []
    },
    {
      "cell_type": "code",
      "metadata": {
        "id": "SipqwZleyOV8",
        "colab": {
          "base_uri": "https://localhost:8080/"
        },
        "outputId": "18d96f47-f37c-45da-8665-5e0816126d96"
      },
      "source": [
        "print(\"The number of worksheets is {0}\".format(book.nsheets))\n",
        "print(\"Worksheet name(s): {0}\".format(book.sheet_names()))"
      ],
      "execution_count": 3,
      "outputs": [
        {
          "output_type": "stream",
          "name": "stdout",
          "text": [
            "The number of worksheets is 19\nWorksheet name(s): ['JOHOR', 'MELAKA', 'N9', 'ZON SELATAN', 'PERLIS', 'KEDAH', 'PP', 'PERAK', 'ZON UTARA', 'PAHANG', 'KELANTAN', 'TERENGGANU', 'ZON TIMUR', 'SABAH', 'SARAWAK', 'ZON BORNEO', 'KUALA LUMPUR', 'SELANGOR', 'ZON LEMBAH KLANG NEW']\n"
          ]
        }
      ]
    },
    {
      "cell_type": "markdown",
      "metadata": {
        "id": "LycjCyvopWm-"
      },
      "source": [
        "<h1> Service Types </h1>"
      ]
    },
    {
      "cell_type": "code",
      "metadata": {
        "colab": {
          "base_uri": "https://localhost:8080/"
        },
        "id": "5LDfvntsnaFI",
        "outputId": "82747cd8-02de-4aba-fd28-8db79337b152"
      },
      "source": [
        "worksheet = book.sheet_by_index(0)\n",
        "print(\"-----------------\\n\")\n",
        "print(\"Service Type\\n\") \n",
        "print(\"-----------------\\n\")\n",
        "serv_type = []\n",
        "b = []\n",
        "for a in worksheet.row_values(0):\n",
        "  if(a!=\"\"):\n",
        "    serv_type.append(a.replace(\"\\n\",\" \"))\n",
        "    b.append(a)\n",
        "print(json.dumps(serv_type,indent=1))"
      ],
      "execution_count": 4,
      "outputs": [
        {
          "output_type": "stream",
          "name": "stdout",
          "text": [
            "-----------------\n\nService Type\n\n-----------------\n\n[\n \"PHYSIOTHERAPY\",\n \"OCCUPATIONAL THERAPY\",\n \"SPEECH THERAPY\",\n \"PSYCHOLOGY\",\n \"CONSULTATION\",\n \"ASSESSMENT & REPORT\",\n \"FUNCTIONAL CAPACITY EVALUATION & REPORT\",\n \"ADMINISTRATION SERVICES\",\n \"HOSTEL\",\n \"DRY NEEDLING/ ACUPUNCTURE\",\n \"SERVICES BY MODALITIES\",\n \"SERVICES BY PACKAGE\"\n]\n"
          ]
        }
      ]
    },
    {
      "cell_type": "markdown",
      "metadata": {
        "id": "yS3EAIYIpdw_"
      },
      "source": [
        "<h2>Service Type To Service Code Mapping </h2>"
      ]
    },
    {
      "cell_type": "code",
      "metadata": {
        "id": "_8FLjZdYU1xh",
        "outputId": "ca47167d-b593-4d7f-8f12-01428d02fdd9"
      },
      "source": [
        "print(\"-----------------\\n\")\n",
        "print(\"Service Type TO Service Code Mapping\\n\") \n",
        "print(\"-----------------\\n\")\n",
        "service_type_to_service_code = {}\n",
        "count = 0\n",
        "for i in serv_type:\n",
        "    if(i==\"SERVICES BY MODALITIES\"):\n",
        "        service_type_to_service_code.update({i:\"rtw_st_\"+\"sbm\"})\n",
        "    elif(i==\"SERVICES BY PACKAGE\"):\n",
        "        service_type_to_service_code.update({i:\"rtw_st_\"+\"sbp\"})\n",
        "    else:\n",
        "        service_type_to_service_code.update({i:\"rtw_st_\"+ i.lower()[0:3]})\n",
        "    count+=1\n",
        "# print(count)\n",
        "print(json.dumps(service_type_to_service_code,indent=1))"
      ],
      "execution_count": 5,
      "outputs": [
        {
          "output_type": "stream",
          "name": "stdout",
          "text": [
            "-----------------\n\nService Type TO Service Code Mapping\n\n-----------------\n\n{\n \"PHYSIOTHERAPY\": \"rtw_st_phy\",\n \"OCCUPATIONAL THERAPY\": \"rtw_st_occ\",\n \"SPEECH THERAPY\": \"rtw_st_spe\",\n \"PSYCHOLOGY\": \"rtw_st_psy\",\n \"CONSULTATION\": \"rtw_st_con\",\n \"ASSESSMENT & REPORT\": \"rtw_st_ass\",\n \"FUNCTIONAL CAPACITY EVALUATION & REPORT\": \"rtw_st_fun\",\n \"ADMINISTRATION SERVICES\": \"rtw_st_adm\",\n \"HOSTEL\": \"rtw_st_hos\",\n \"DRY NEEDLING/ ACUPUNCTURE\": \"rtw_st_dry\",\n \"SERVICES BY MODALITIES\": \"rtw_st_sbm\",\n \"SERVICES BY PACKAGE\": \"rtw_st_sbp\"\n}\n"
          ]
        }
      ]
    },
    {
      "cell_type": "code",
      "execution_count": 6,
      "metadata": {},
      "outputs": [],
      "source": [
        "def get_service_type_code(i):\n",
        "    if i in service_type_to_service_code:\n",
        "        return service_type_to_service_code[i]"
      ]
    },
    {
      "cell_type": "markdown",
      "metadata": {
        "id": "Ou5TSUuIXh94"
      },
      "source": [
        "<h3> How Many Services Does a Service Type Has ? i.e., COLUMN COUNT FOR EACH SERVICE</h3>"
      ]
    },
    {
      "cell_type": "code",
      "metadata": {
        "colab": {
          "base_uri": "https://localhost:8080/"
        },
        "id": "l4YIAQeeXhtL",
        "outputId": "6415522c-78f1-4d37-8719-9db1517fa630"
      },
      "source": [
        "print(\"-----------------\\n\")\n",
        "print(\"SERV___COLUMNS\\n\") \n",
        "print(\"-----------------\\n\")\n",
        "serv_columns = {}\n",
        "col = [24,18,1,1,4,14,10,2,1,1,62,14]\n",
        "for i in range(0,len(serv_type)):\n",
        "   serv_columns.update({serv_type[i]:col[i]})\n",
        "print(json.dumps(serv_columns,indent=1))"
      ],
      "execution_count": 7,
      "outputs": [
        {
          "output_type": "stream",
          "name": "stdout",
          "text": [
            "-----------------\n\nSERV___COLUMNS\n\n-----------------\n\n{\n \"PHYSIOTHERAPY\": 24,\n \"OCCUPATIONAL THERAPY\": 18,\n \"SPEECH THERAPY\": 1,\n \"PSYCHOLOGY\": 1,\n \"CONSULTATION\": 4,\n \"ASSESSMENT & REPORT\": 14,\n \"FUNCTIONAL CAPACITY EVALUATION & REPORT\": 10,\n \"ADMINISTRATION SERVICES\": 2,\n \"HOSTEL\": 1,\n \"DRY NEEDLING/ ACUPUNCTURE\": 1,\n \"SERVICES BY MODALITIES\": 62,\n \"SERVICES BY PACKAGE\": 14\n}\n"
          ]
        }
      ]
    },
    {
      "cell_type": "markdown",
      "metadata": {
        "id": "adCm53M8WEfG"
      },
      "source": [
        "<h1> Services</h1>"
      ]
    },
    {
      "cell_type": "code",
      "metadata": {
        "colab": {
          "base_uri": "https://localhost:8080/"
        },
        "id": "z51gcUyGsv8V",
        "outputId": "09aa62f1-0a97-403f-a97d-ac5db37a9e33"
      },
      "source": [
        "print(\"-----------------\\n\")\r\n",
        "print(\"Service\\n\") \r\n",
        "print(\"-----------------\\n\")\r\n",
        "serv = []\r\n",
        "for a in worksheet.row_values(1):\r\n",
        "  if(a!=\"\"):\r\n",
        "    serv.append((a.replace(\"\\n\",\"\")).strip())\r\n",
        "\r\n",
        "# Removing Bil & Panel Treatment options\r\n",
        "serv.pop(0)\r\n",
        "serv.pop(0)\r\n",
        "print(json.dumps(serv,indent=1))"
      ],
      "execution_count": 8,
      "outputs": [
        {
          "output_type": "stream",
          "name": "stdout",
          "text": [
            "-----------------\n\nService\n\n-----------------\n\n[\n \"Physiotherapy Treatment\",\n \"Manual Therapy\",\n \"Pain Management\",\n \"Musculoskeletal Rehabilitation\",\n \"Sport Injuries Rehabilitation\",\n \"Stroke rehabilitation\",\n \"Spinal Cord Injury Rehabilitation\",\n \"Traumatic Brain Injury Rehabilitation\",\n \"Amputee Rehabilitation\",\n \"Cardiorespiratory Rehabilitation\",\n \"Hydrotherapy\",\n \"Home Therapy + Mileage\",\n \"Group Therapy And Exercises\",\n \"Burn Management\",\n \"Patient And Family Education Including Talk Workshop And Training\",\n \"Women And Men Health\",\n \"Other Neurological Or Rare Diseases Rehabilitation Such As Parkinson/Multiple Sclerosis/Muscular Dysthropy/Systemic Lupus/Ankylosing Spondylotis/Gullain Barre 1Syndrome\",\n \"Alter-G (Anti Graviti) Physio\",\n \"Tbion (Tibion Bionic Technology) Rehab\",\n \"Chest Physiotherapy Manual\",\n \"Chest Physiotherapy Suction Machine\",\n \"Hand Function Training\",\n \"Fine Motor Training\",\n \"Cognitive Training\",\n \"Occupational Therapy Treatment\",\n \"Adl Training (Basic And Instrumental Adl)\",\n \"Therapeutic Activities\",\n \"Splinting\",\n \"Pressure Garment\",\n \"Cognitive And Perceptual Training\",\n \"Ot Tx/ Therapeutic Exercise\",\n \"Home Therapy + Mileage\",\n \"Aids And Adaptations\",\n \"Work Rehabilitation (Conditioning & Hardening)\",\n \"Work Simulation Training / Work Hardening\",\n \"Driving Training\",\n \"Vehicle Modification\",\n \"Functional Ergonomic Training\",\n \"Mobility Training (Wheelchair/ Walking Aids/ Prosthetic Etc)\",\n \"Patient And Family Education Including Talk Workshop And Training\",\n \"Transitional Living Care Facility\",\n \"Sensory Education\",\n \"Speech TherapyTreatment\",\n \"PsychologyTreatment\",\n \"Rehab Specialist (Initial Session)\",\n \"Rehab Specialist (Follow Up  Session)\",\n \"Medical Officer(Initial Session)\",\n \"Medical Officer (Follow Up Session)\",\n \"General Pt  Assessment & Report\",\n \"General Ot  Assessment & Report\",\n \"Neuro/ Spinal Cord Injury Assessment & Report\",\n \"Cognitive Assessment (Cognab)/ Perceptual Assessment & Repot\",\n \"Home Modification Assessment & Report\",\n \"Worksite Assessment & Report\",\n \"Driving Assessment & Report\",\n \"Wheelchair Assessment & Report\",\n \"Prosthetic/ Amputation Assessment & Report\",\n \"Speech Therapy Assessment & Report\",\n \"Psychological Assessment & Report\",\n \"Sensory Perception Test\",\n \"Clinical Observation Neuromotor Performance\",\n \"Visual Perception Test\",\n \"General FCE & Report\",\n \"Basic FCE\",\n \"Complete FCE (BTE PRIMUS)\",\n \"By Part FCE (BTE PRIMUS)\",\n \"Upper extremity & hand FCE & Report\",\n \"Trunk & lower extremity FCE & Report\",\n \"Upper, Trunk, lower extremity FCE & Report\",\n \"Neurological FCE & Report\",\n \"Cardiopulmonary FCE & Report\",\n \"Cognitive/ Perceptuan Function FCE & Report\",\n \"First Registration Fees\",\n \"Follow Up Registration Fess\",\n \"Inpatient - Hostel & Makan\",\n \"Dry Needling Package\",\n \"Basic Equipment -Therapeutic Ultrasound\",\n \"Basic Equipment - Hydrocollator pack\",\n \"Basic Equipment - Tens\",\n \"Basic Equipment -Cryocuff\",\n \"Basic Equipment - Ice pack\",\n \"Basic Equipment - Paraffin Wax\",\n \"Basic Equipment - Dumb bell\",\n \"Basic Equipment - Sandbag\",\n \"Basic Equipment - Gym ball\",\n \"Basic Equipment - Pulley\",\n \"Basic Equipment - Wall bar\",\n \"Basic Equipment - Parallel bar\",\n \"Basic Equipment - Tilt Table\",\n \"Basic Equipment - Plinth  and Bobath Plinth\",\n \"Basic Equipment - Exercise Mat\",\n \"Basic Equipment - Static cycle\",\n \"Basic Equipment -Mechanical traction\",\n \"Basic Equipment - Stairs\",\n \"Basic Equipment - ADL kits\",\n \"Basic Equipment - Fine motor kits\",\n \"Basic Equipment - Splint\",\n \"Basic Equipment - Pressure garment\",\n \"Basic Equipment - Thera putty\",\n \"Basic Equipment - Thera band\",\n \"Basic Equipment - Hand exerciser equipment\",\n \"Basic Equipment - SWD\",\n \"Basic Equipment - Continuous Passive Machine\",\n \"Basic Equipment - Interferential IFT\",\n \"Basic Equipment - Ambulation\",\n \"Basic Equipment - Hot Pack\",\n \"Basic Equipment - Traction\",\n \"Basic Equipment - Treadmill\",\n \"Basic Equipment - Electrical Stimulation\",\n \"Basic Equipment - Hydro Collator Pack\",\n \"Basic Equipment - Infrared\",\n \"Basic Equipment - Desensitisation Kit\",\n \"Basic Equipment - Exercise In Gym\",\n \"Basic Equipment - Hydro Collator Pack\",\n \"Basic Equipment - Mobilizing Exercise\",\n \"Advance Equipment - Multi gym equipment\",\n \"Advance Equipment - Walking hoist\",\n \"Advance Equipment - Biofeedback equipmentrd\",\n \"Advance Equipment - Erigo stand\",\n \"Advance Equipment - Armeo arm\",\n \"Advance Equipment - Locomat\",\n \"Advance Equipment - BTE Primus\",\n \"Advance Equipment - BTE Evaltech\",\n \"Advance Equipment - Vienna Test System\",\n \"Advance Equipment - Lowenstein Occupational Therapy Cognitive Assessment (LOTCA) / Chessington Occupational Therapy Neurological Assessment (COTNAB)\",\n \"Advance Equipment - Chessington Occupational Therapy Neurological Assessment (COTNAB)\",\n \"Advance Equipment - Driving Simulator\",\n \"Advance Equipment - T/PAL\",\n \"Advance Equipment - Valpar\",\n \"Advance Equipment - Laser \\u2013 Low Intensity or High Intensity\",\n \"Advance Equipment - Shock Wave Therapy\",\n \"Advance Equipment - Short Wave Therapy\",\n \"Advance Equipment - Magnetotherapy\",\n \"Advance Equipment - Motomed\",\n \"Advance Equipment - Hydro pool\",\n \"Advance Equipment - Cybernic Rehab\",\n \"Advance Equipment - Cryotherapy\",\n \"Advance Equipment - Faradic\",\n \"Pakej - Neuro Rehab\",\n \"Pakej - Spine/Back Injury\",\n \"Pakej - Neck Injury\",\n \"Pakej - Shoulder Injury\",\n \"Pakej - Hand Injury\",\n \"Pakej - Knee Injury\",\n \"Pakej - Fracture\",\n \"Pakej - Pain Management\",\n \"Pakej - Sport Rehab\",\n \"Pakej - Cardiac Rehab\",\n \"Pakej - General Exercise\",\n \"Pakej - Respiratory Exercise\",\n \"Pakej - 2 Electrical Modalities\",\n \"Pakej - 3 Electrical Modalities/ More\"\n]\n"
          ]
        }
      ]
    },
    {
      "cell_type": "markdown",
      "metadata": {
        "id": "6ZXRxh5LeIaT"
      },
      "source": [
        "<h2>Service TO Service Code Mapping </h2>"
      ]
    },
    {
      "cell_type": "code",
      "execution_count": 9,
      "metadata": {},
      "outputs": [
        {
          "output_type": "stream",
          "name": "stdout",
          "text": [
            "-----------------\n\nService TO Service Code Mapping\n\n-----------------\n\n{\n \"Physiotherapy Treatment\": \"rtw_s1_phy\",\n \"Manual Therapy\": \"rtw_s2_man\",\n \"Pain Management\": \"rtw_s3_pai\",\n \"Musculoskeletal Rehabilitation\": \"rtw_s4_mus\",\n \"Sport Injuries Rehabilitation\": \"rtw_s5_spo\",\n \"Stroke rehabilitation\": \"rtw_s6_str\",\n \"Spinal Cord Injury Rehabilitation\": \"rtw_s7_spi\",\n \"Traumatic Brain Injury Rehabilitation\": \"rtw_s8_tra\",\n \"Amputee Rehabilitation\": \"rtw_s9_amp\",\n \"Cardiorespiratory Rehabilitation\": \"rtw_s10_car\",\n \"Hydrotherapy\": \"rtw_s11_hyd\",\n \"Home Therapy + Mileage\": \"rtw_s32_hom\",\n \"Group Therapy And Exercises\": \"rtw_s13_gro\",\n \"Burn Management\": \"rtw_s14_bur\",\n \"Patient And Family Education Including Talk Workshop And Training\": \"rtw_s40_pat\",\n \"Women And Men Health\": \"rtw_s16_wom\",\n \"Other Neurological Or Rare Diseases Rehabilitation Such As Parkinson/Multiple Sclerosis/Muscular Dysthropy/Systemic Lupus/Ankylosing Spondylotis/Gullain Barre 1Syndrome\": \"rtw_s17_oth\",\n \"Alter-G (Anti Graviti) Physio\": \"rtw_s18_alt\",\n \"Tbion (Tibion Bionic Technology) Rehab\": \"rtw_s19_tbi\",\n \"Chest Physiotherapy Manual\": \"rtw_s20_che\",\n \"Chest Physiotherapy Suction Machine\": \"rtw_s21_che\",\n \"Hand Function Training\": \"rtw_s22_han\",\n \"Fine Motor Training\": \"rtw_s23_fin\",\n \"Cognitive Training\": \"rtw_s24_cog\",\n \"Occupational Therapy Treatment\": \"rtw_s25_occ\",\n \"Adl Training (Basic And Instrumental Adl)\": \"rtw_s26_adl\",\n \"Therapeutic Activities\": \"rtw_s27_the\",\n \"Splinting\": \"rtw_s28_spl\",\n \"Pressure Garment\": \"rtw_s29_pre\",\n \"Cognitive And Perceptual Training\": \"rtw_s30_cog\",\n \"Ot Tx/ Therapeutic Exercise\": \"rtw_s31_ot \",\n \"Aids And Adaptations\": \"rtw_s33_aid\",\n \"Work Rehabilitation (Conditioning & Hardening)\": \"rtw_s34_wor\",\n \"Work Simulation Training / Work Hardening\": \"rtw_s35_wor\",\n \"Driving Training\": \"rtw_s36_dri\",\n \"Vehicle Modification\": \"rtw_s37_veh\",\n \"Functional Ergonomic Training\": \"rtw_s38_fun\",\n \"Mobility Training (Wheelchair/ Walking Aids/ Prosthetic Etc)\": \"rtw_s39_mob\",\n \"Transitional Living Care Facility\": \"rtw_s41_tra\",\n \"Sensory Education\": \"rtw_s42_sen\",\n \"Speech TherapyTreatment\": \"rtw_s43_spe\",\n \"PsychologyTreatment\": \"rtw_s44_psy\",\n \"Rehab Specialist (Initial Session)\": \"rtw_s45_reh\",\n \"Rehab Specialist (Follow Up  Session)\": \"rtw_s46_reh\",\n \"Medical Officer(Initial Session)\": \"rtw_s47_med\",\n \"Medical Officer (Follow Up Session)\": \"rtw_s48_med\",\n \"General Pt  Assessment & Report\": \"rtw_s49_gen\",\n \"General Ot  Assessment & Report\": \"rtw_s50_gen\",\n \"Neuro/ Spinal Cord Injury Assessment & Report\": \"rtw_s51_neu\",\n \"Cognitive Assessment (Cognab)/ Perceptual Assessment & Repot\": \"rtw_s52_cog\",\n \"Home Modification Assessment & Report\": \"rtw_s53_hom\",\n \"Worksite Assessment & Report\": \"rtw_s54_wor\",\n \"Driving Assessment & Report\": \"rtw_s55_dri\",\n \"Wheelchair Assessment & Report\": \"rtw_s56_whe\",\n \"Prosthetic/ Amputation Assessment & Report\": \"rtw_s57_pro\",\n \"Speech Therapy Assessment & Report\": \"rtw_s58_spe\",\n \"Psychological Assessment & Report\": \"rtw_s59_psy\",\n \"Sensory Perception Test\": \"rtw_s60_sen\",\n \"Clinical Observation Neuromotor Performance\": \"rtw_s61_cli\",\n \"Visual Perception Test\": \"rtw_s62_vis\",\n \"General FCE & Report\": \"rtw_s63_gen\",\n \"Basic FCE\": \"rtw_s64_bas\",\n \"Complete FCE (BTE PRIMUS)\": \"rtw_s65_com\",\n \"By Part FCE (BTE PRIMUS)\": \"rtw_s66_by \",\n \"Upper extremity & hand FCE & Report\": \"rtw_s67_upp\",\n \"Trunk & lower extremity FCE & Report\": \"rtw_s68_tru\",\n \"Upper, Trunk, lower extremity FCE & Report\": \"rtw_s69_upp\",\n \"Neurological FCE & Report\": \"rtw_s70_neu\",\n \"Cardiopulmonary FCE & Report\": \"rtw_s71_car\",\n \"Cognitive/ Perceptuan Function FCE & Report\": \"rtw_s72_cog\",\n \"First Registration Fees\": \"rtw_s73_fir\",\n \"Follow Up Registration Fess\": \"rtw_s74_fol\",\n \"Inpatient - Hostel & Makan\": \"rtw_s75_inp\",\n \"Dry Needling Package\": \"rtw_s76_dry\",\n \"Basic Equipment -Therapeutic Ultrasound\": \"rtw_s77_bas\",\n \"Basic Equipment - Hydrocollator pack\": \"rtw_s78_bas\",\n \"Basic Equipment - Tens\": \"rtw_s79_bas\",\n \"Basic Equipment -Cryocuff\": \"rtw_s80_bas\",\n \"Basic Equipment - Ice pack\": \"rtw_s81_bas\",\n \"Basic Equipment - Paraffin Wax\": \"rtw_s82_bas\",\n \"Basic Equipment - Dumb bell\": \"rtw_s83_bas\",\n \"Basic Equipment - Sandbag\": \"rtw_s84_bas\",\n \"Basic Equipment - Gym ball\": \"rtw_s85_bas\",\n \"Basic Equipment - Pulley\": \"rtw_s86_bas\",\n \"Basic Equipment - Wall bar\": \"rtw_s87_bas\",\n \"Basic Equipment - Parallel bar\": \"rtw_s88_bas\",\n \"Basic Equipment - Tilt Table\": \"rtw_s89_bas\",\n \"Basic Equipment - Plinth  and Bobath Plinth\": \"rtw_s90_bas\",\n \"Basic Equipment - Exercise Mat\": \"rtw_s91_bas\",\n \"Basic Equipment - Static cycle\": \"rtw_s92_bas\",\n \"Basic Equipment -Mechanical traction\": \"rtw_s93_bas\",\n \"Basic Equipment - Stairs\": \"rtw_s94_bas\",\n \"Basic Equipment - ADL kits\": \"rtw_s95_bas\",\n \"Basic Equipment - Fine motor kits\": \"rtw_s96_bas\",\n \"Basic Equipment - Splint\": \"rtw_s97_bas\",\n \"Basic Equipment - Pressure garment\": \"rtw_s98_bas\",\n \"Basic Equipment - Thera putty\": \"rtw_s99_bas\",\n \"Basic Equipment - Thera band\": \"rtw_s100_bas\",\n \"Basic Equipment - Hand exerciser equipment\": \"rtw_s101_bas\",\n \"Basic Equipment - SWD\": \"rtw_s102_bas\",\n \"Basic Equipment - Continuous Passive Machine\": \"rtw_s103_bas\",\n \"Basic Equipment - Interferential IFT\": \"rtw_s104_bas\",\n \"Basic Equipment - Ambulation\": \"rtw_s105_bas\",\n \"Basic Equipment - Hot Pack\": \"rtw_s106_bas\",\n \"Basic Equipment - Traction\": \"rtw_s107_bas\",\n \"Basic Equipment - Treadmill\": \"rtw_s108_bas\",\n \"Basic Equipment - Electrical Stimulation\": \"rtw_s109_bas\",\n \"Basic Equipment - Hydro Collator Pack\": \"rtw_s114_bas\",\n \"Basic Equipment - Infrared\": \"rtw_s111_bas\",\n \"Basic Equipment - Desensitisation Kit\": \"rtw_s112_bas\",\n \"Basic Equipment - Exercise In Gym\": \"rtw_s113_bas\",\n \"Basic Equipment - Mobilizing Exercise\": \"rtw_s115_bas\",\n \"Advance Equipment - Multi gym equipment\": \"rtw_s116_adv\",\n \"Advance Equipment - Walking hoist\": \"rtw_s117_adv\",\n \"Advance Equipment - Biofeedback equipmentrd\": \"rtw_s118_adv\",\n \"Advance Equipment - Erigo stand\": \"rtw_s119_adv\",\n \"Advance Equipment - Armeo arm\": \"rtw_s120_adv\",\n \"Advance Equipment - Locomat\": \"rtw_s121_adv\",\n \"Advance Equipment - BTE Primus\": \"rtw_s122_adv\",\n \"Advance Equipment - BTE Evaltech\": \"rtw_s123_adv\",\n \"Advance Equipment - Vienna Test System\": \"rtw_s124_adv\",\n \"Advance Equipment - Lowenstein Occupational Therapy Cognitive Assessment (LOTCA) / Chessington Occupational Therapy Neurological Assessment (COTNAB)\": \"rtw_s125_adv\",\n \"Advance Equipment - Chessington Occupational Therapy Neurological Assessment (COTNAB)\": \"rtw_s126_adv\",\n \"Advance Equipment - Driving Simulator\": \"rtw_s127_adv\",\n \"Advance Equipment - T/PAL\": \"rtw_s128_adv\",\n \"Advance Equipment - Valpar\": \"rtw_s129_adv\",\n \"Advance Equipment - Laser \\u2013 Low Intensity or High Intensity\": \"rtw_s130_adv\",\n \"Advance Equipment - Shock Wave Therapy\": \"rtw_s131_adv\",\n \"Advance Equipment - Short Wave Therapy\": \"rtw_s132_adv\",\n \"Advance Equipment - Magnetotherapy\": \"rtw_s133_adv\",\n \"Advance Equipment - Motomed\": \"rtw_s134_adv\",\n \"Advance Equipment - Hydro pool\": \"rtw_s135_adv\",\n \"Advance Equipment - Cybernic Rehab\": \"rtw_s136_adv\",\n \"Advance Equipment - Cryotherapy\": \"rtw_s137_adv\",\n \"Advance Equipment - Faradic\": \"rtw_s138_adv\",\n \"Pakej - Neuro Rehab\": \"rtw_s139_pak\",\n \"Pakej - Spine/Back Injury\": \"rtw_s140_pak\",\n \"Pakej - Neck Injury\": \"rtw_s141_pak\",\n \"Pakej - Shoulder Injury\": \"rtw_s142_pak\",\n \"Pakej - Hand Injury\": \"rtw_s143_pak\",\n \"Pakej - Knee Injury\": \"rtw_s144_pak\",\n \"Pakej - Fracture\": \"rtw_s145_pak\",\n \"Pakej - Pain Management\": \"rtw_s146_pak\",\n \"Pakej - Sport Rehab\": \"rtw_s147_pak\",\n \"Pakej - Cardiac Rehab\": \"rtw_s148_pak\",\n \"Pakej - General Exercise\": \"rtw_s149_pak\",\n \"Pakej - Respiratory Exercise\": \"rtw_s150_pak\",\n \"Pakej - 2 Electrical Modalities\": \"rtw_s151_pak\",\n \"Pakej - 3 Electrical Modalities/ More\": \"rtw_s152_pak\"\n}\n"
          ]
        }
      ],
      "source": [
        "print(\"-----------------\\n\")\n",
        "print(\"Service TO Service Code Mapping\\n\") \n",
        "print(\"-----------------\\n\")\n",
        "service_to_service_code = {}\n",
        "a = []\n",
        "count= 0\n",
        "for i in serv:\n",
        "    count+=1\n",
        "    service_to_service_code.update({i:\"rtw_s\"+str(count)+\"_\"+i.lower()[0:3]})\n",
        "print(json.dumps(service_to_service_code,indent=1))"
      ]
    },
    {
      "cell_type": "code",
      "execution_count": 10,
      "metadata": {},
      "outputs": [],
      "source": [
        "def get_service_code(i):\n",
        "    if i in service_to_service_code:\n",
        "        return service_to_service_code[i]"
      ]
    },
    {
      "cell_type": "markdown",
      "metadata": {
        "id": "iCEu7ntGUfV5"
      },
      "source": [
        "<h1>Mapping Hierarchy :-</h1>\r\n",
        "<h2>Panel & Service TO Service Type TO State Mapping  </h2>"
      ]
    },
    {
      "cell_type": "code",
      "execution_count": 11,
      "metadata": {},
      "outputs": [],
      "source": [
        "d = []\n",
        "panel = []\n",
        "jsonfile = open(\"json_dump1.txt\",\"w+\")\n",
        "data_file = open('../CSV Files/CSV_Data_v.11.csv', 'w+') \n",
        "csv_writer = csv.writer(data_file,sys.stdout, lineterminator='\\n') "
      ]
    },
    {
      "cell_type": "markdown",
      "metadata": {
        "id": "UmWMkQ5eVTDE"
      },
      "source": [
        "<h2> Panel to Panel Code Mapping</h2>"
      ]
    },
    {
      "cell_type": "code",
      "metadata": {
        "colab": {
          "base_uri": "https://localhost:8080/",
          "height": 212
        },
        "id": "Kt-Zk6eMU1xl",
        "outputId": "c48d3380-656e-4bc5-cfea-e762775dd773"
      },
      "source": [
        "print(\"-----------------\\n\")\n",
        "print(\"Panel TO Panel Code Mapping\\n\") \n",
        "print(\"-----------------\\n\")\n",
        "service_to_service_code = {}\n",
        "a = []\n",
        "count= 0\n",
        "for i in serv:\n",
        "    count+=1\n",
        "    service_to_service_code.update({i:\"rtw_s\"+str(count)+\"_\"+i.lower()[0:3]})\n",
        "print(json.dumps(service_to_service_code,indent=1))"
      ],
      "execution_count": 12,
      "outputs": [
        {
          "output_type": "stream",
          "name": "stdout",
          "text": [
            "-----------------\n\nPanel TO Panel Code Mapping\n\n-----------------\n\n{\n \"Physiotherapy Treatment\": \"rtw_s1_phy\",\n \"Manual Therapy\": \"rtw_s2_man\",\n \"Pain Management\": \"rtw_s3_pai\",\n \"Musculoskeletal Rehabilitation\": \"rtw_s4_mus\",\n \"Sport Injuries Rehabilitation\": \"rtw_s5_spo\",\n \"Stroke rehabilitation\": \"rtw_s6_str\",\n \"Spinal Cord Injury Rehabilitation\": \"rtw_s7_spi\",\n \"Traumatic Brain Injury Rehabilitation\": \"rtw_s8_tra\",\n \"Amputee Rehabilitation\": \"rtw_s9_amp\",\n \"Cardiorespiratory Rehabilitation\": \"rtw_s10_car\",\n \"Hydrotherapy\": \"rtw_s11_hyd\",\n \"Home Therapy + Mileage\": \"rtw_s32_hom\",\n \"Group Therapy And Exercises\": \"rtw_s13_gro\",\n \"Burn Management\": \"rtw_s14_bur\",\n \"Patient And Family Education Including Talk Workshop And Training\": \"rtw_s40_pat\",\n \"Women And Men Health\": \"rtw_s16_wom\",\n \"Other Neurological Or Rare Diseases Rehabilitation Such As Parkinson/Multiple Sclerosis/Muscular Dysthropy/Systemic Lupus/Ankylosing Spondylotis/Gullain Barre 1Syndrome\": \"rtw_s17_oth\",\n \"Alter-G (Anti Graviti) Physio\": \"rtw_s18_alt\",\n \"Tbion (Tibion Bionic Technology) Rehab\": \"rtw_s19_tbi\",\n \"Chest Physiotherapy Manual\": \"rtw_s20_che\",\n \"Chest Physiotherapy Suction Machine\": \"rtw_s21_che\",\n \"Hand Function Training\": \"rtw_s22_han\",\n \"Fine Motor Training\": \"rtw_s23_fin\",\n \"Cognitive Training\": \"rtw_s24_cog\",\n \"Occupational Therapy Treatment\": \"rtw_s25_occ\",\n \"Adl Training (Basic And Instrumental Adl)\": \"rtw_s26_adl\",\n \"Therapeutic Activities\": \"rtw_s27_the\",\n \"Splinting\": \"rtw_s28_spl\",\n \"Pressure Garment\": \"rtw_s29_pre\",\n \"Cognitive And Perceptual Training\": \"rtw_s30_cog\",\n \"Ot Tx/ Therapeutic Exercise\": \"rtw_s31_ot \",\n \"Aids And Adaptations\": \"rtw_s33_aid\",\n \"Work Rehabilitation (Conditioning & Hardening)\": \"rtw_s34_wor\",\n \"Work Simulation Training / Work Hardening\": \"rtw_s35_wor\",\n \"Driving Training\": \"rtw_s36_dri\",\n \"Vehicle Modification\": \"rtw_s37_veh\",\n \"Functional Ergonomic Training\": \"rtw_s38_fun\",\n \"Mobility Training (Wheelchair/ Walking Aids/ Prosthetic Etc)\": \"rtw_s39_mob\",\n \"Transitional Living Care Facility\": \"rtw_s41_tra\",\n \"Sensory Education\": \"rtw_s42_sen\",\n \"Speech TherapyTreatment\": \"rtw_s43_spe\",\n \"PsychologyTreatment\": \"rtw_s44_psy\",\n \"Rehab Specialist (Initial Session)\": \"rtw_s45_reh\",\n \"Rehab Specialist (Follow Up  Session)\": \"rtw_s46_reh\",\n \"Medical Officer(Initial Session)\": \"rtw_s47_med\",\n \"Medical Officer (Follow Up Session)\": \"rtw_s48_med\",\n \"General Pt  Assessment & Report\": \"rtw_s49_gen\",\n \"General Ot  Assessment & Report\": \"rtw_s50_gen\",\n \"Neuro/ Spinal Cord Injury Assessment & Report\": \"rtw_s51_neu\",\n \"Cognitive Assessment (Cognab)/ Perceptual Assessment & Repot\": \"rtw_s52_cog\",\n \"Home Modification Assessment & Report\": \"rtw_s53_hom\",\n \"Worksite Assessment & Report\": \"rtw_s54_wor\",\n \"Driving Assessment & Report\": \"rtw_s55_dri\",\n \"Wheelchair Assessment & Report\": \"rtw_s56_whe\",\n \"Prosthetic/ Amputation Assessment & Report\": \"rtw_s57_pro\",\n \"Speech Therapy Assessment & Report\": \"rtw_s58_spe\",\n \"Psychological Assessment & Report\": \"rtw_s59_psy\",\n \"Sensory Perception Test\": \"rtw_s60_sen\",\n \"Clinical Observation Neuromotor Performance\": \"rtw_s61_cli\",\n \"Visual Perception Test\": \"rtw_s62_vis\",\n \"General FCE & Report\": \"rtw_s63_gen\",\n \"Basic FCE\": \"rtw_s64_bas\",\n \"Complete FCE (BTE PRIMUS)\": \"rtw_s65_com\",\n \"By Part FCE (BTE PRIMUS)\": \"rtw_s66_by \",\n \"Upper extremity & hand FCE & Report\": \"rtw_s67_upp\",\n \"Trunk & lower extremity FCE & Report\": \"rtw_s68_tru\",\n \"Upper, Trunk, lower extremity FCE & Report\": \"rtw_s69_upp\",\n \"Neurological FCE & Report\": \"rtw_s70_neu\",\n \"Cardiopulmonary FCE & Report\": \"rtw_s71_car\",\n \"Cognitive/ Perceptuan Function FCE & Report\": \"rtw_s72_cog\",\n \"First Registration Fees\": \"rtw_s73_fir\",\n \"Follow Up Registration Fess\": \"rtw_s74_fol\",\n \"Inpatient - Hostel & Makan\": \"rtw_s75_inp\",\n \"Dry Needling Package\": \"rtw_s76_dry\",\n \"Basic Equipment -Therapeutic Ultrasound\": \"rtw_s77_bas\",\n \"Basic Equipment - Hydrocollator pack\": \"rtw_s78_bas\",\n \"Basic Equipment - Tens\": \"rtw_s79_bas\",\n \"Basic Equipment -Cryocuff\": \"rtw_s80_bas\",\n \"Basic Equipment - Ice pack\": \"rtw_s81_bas\",\n \"Basic Equipment - Paraffin Wax\": \"rtw_s82_bas\",\n \"Basic Equipment - Dumb bell\": \"rtw_s83_bas\",\n \"Basic Equipment - Sandbag\": \"rtw_s84_bas\",\n \"Basic Equipment - Gym ball\": \"rtw_s85_bas\",\n \"Basic Equipment - Pulley\": \"rtw_s86_bas\",\n \"Basic Equipment - Wall bar\": \"rtw_s87_bas\",\n \"Basic Equipment - Parallel bar\": \"rtw_s88_bas\",\n \"Basic Equipment - Tilt Table\": \"rtw_s89_bas\",\n \"Basic Equipment - Plinth  and Bobath Plinth\": \"rtw_s90_bas\",\n \"Basic Equipment - Exercise Mat\": \"rtw_s91_bas\",\n \"Basic Equipment - Static cycle\": \"rtw_s92_bas\",\n \"Basic Equipment -Mechanical traction\": \"rtw_s93_bas\",\n \"Basic Equipment - Stairs\": \"rtw_s94_bas\",\n \"Basic Equipment - ADL kits\": \"rtw_s95_bas\",\n \"Basic Equipment - Fine motor kits\": \"rtw_s96_bas\",\n \"Basic Equipment - Splint\": \"rtw_s97_bas\",\n \"Basic Equipment - Pressure garment\": \"rtw_s98_bas\",\n \"Basic Equipment - Thera putty\": \"rtw_s99_bas\",\n \"Basic Equipment - Thera band\": \"rtw_s100_bas\",\n \"Basic Equipment - Hand exerciser equipment\": \"rtw_s101_bas\",\n \"Basic Equipment - SWD\": \"rtw_s102_bas\",\n \"Basic Equipment - Continuous Passive Machine\": \"rtw_s103_bas\",\n \"Basic Equipment - Interferential IFT\": \"rtw_s104_bas\",\n \"Basic Equipment - Ambulation\": \"rtw_s105_bas\",\n \"Basic Equipment - Hot Pack\": \"rtw_s106_bas\",\n \"Basic Equipment - Traction\": \"rtw_s107_bas\",\n \"Basic Equipment - Treadmill\": \"rtw_s108_bas\",\n \"Basic Equipment - Electrical Stimulation\": \"rtw_s109_bas\",\n \"Basic Equipment - Hydro Collator Pack\": \"rtw_s114_bas\",\n \"Basic Equipment - Infrared\": \"rtw_s111_bas\",\n \"Basic Equipment - Desensitisation Kit\": \"rtw_s112_bas\",\n \"Basic Equipment - Exercise In Gym\": \"rtw_s113_bas\",\n \"Basic Equipment - Mobilizing Exercise\": \"rtw_s115_bas\",\n \"Advance Equipment - Multi gym equipment\": \"rtw_s116_adv\",\n \"Advance Equipment - Walking hoist\": \"rtw_s117_adv\",\n \"Advance Equipment - Biofeedback equipmentrd\": \"rtw_s118_adv\",\n \"Advance Equipment - Erigo stand\": \"rtw_s119_adv\",\n \"Advance Equipment - Armeo arm\": \"rtw_s120_adv\",\n \"Advance Equipment - Locomat\": \"rtw_s121_adv\",\n \"Advance Equipment - BTE Primus\": \"rtw_s122_adv\",\n \"Advance Equipment - BTE Evaltech\": \"rtw_s123_adv\",\n \"Advance Equipment - Vienna Test System\": \"rtw_s124_adv\",\n \"Advance Equipment - Lowenstein Occupational Therapy Cognitive Assessment (LOTCA) / Chessington Occupational Therapy Neurological Assessment (COTNAB)\": \"rtw_s125_adv\",\n \"Advance Equipment - Chessington Occupational Therapy Neurological Assessment (COTNAB)\": \"rtw_s126_adv\",\n \"Advance Equipment - Driving Simulator\": \"rtw_s127_adv\",\n \"Advance Equipment - T/PAL\": \"rtw_s128_adv\",\n \"Advance Equipment - Valpar\": \"rtw_s129_adv\",\n \"Advance Equipment - Laser \\u2013 Low Intensity or High Intensity\": \"rtw_s130_adv\",\n \"Advance Equipment - Shock Wave Therapy\": \"rtw_s131_adv\",\n \"Advance Equipment - Short Wave Therapy\": \"rtw_s132_adv\",\n \"Advance Equipment - Magnetotherapy\": \"rtw_s133_adv\",\n \"Advance Equipment - Motomed\": \"rtw_s134_adv\",\n \"Advance Equipment - Hydro pool\": \"rtw_s135_adv\",\n \"Advance Equipment - Cybernic Rehab\": \"rtw_s136_adv\",\n \"Advance Equipment - Cryotherapy\": \"rtw_s137_adv\",\n \"Advance Equipment - Faradic\": \"rtw_s138_adv\",\n \"Pakej - Neuro Rehab\": \"rtw_s139_pak\",\n \"Pakej - Spine/Back Injury\": \"rtw_s140_pak\",\n \"Pakej - Neck Injury\": \"rtw_s141_pak\",\n \"Pakej - Shoulder Injury\": \"rtw_s142_pak\",\n \"Pakej - Hand Injury\": \"rtw_s143_pak\",\n \"Pakej - Knee Injury\": \"rtw_s144_pak\",\n \"Pakej - Fracture\": \"rtw_s145_pak\",\n \"Pakej - Pain Management\": \"rtw_s146_pak\",\n \"Pakej - Sport Rehab\": \"rtw_s147_pak\",\n \"Pakej - Cardiac Rehab\": \"rtw_s148_pak\",\n \"Pakej - General Exercise\": \"rtw_s149_pak\",\n \"Pakej - Respiratory Exercise\": \"rtw_s150_pak\",\n \"Pakej - 2 Electrical Modalities\": \"rtw_s151_pak\",\n \"Pakej - 3 Electrical Modalities/ More\": \"rtw_s152_pak\"\n}\n"
          ]
        }
      ]
    },
    {
      "cell_type": "code",
      "metadata": {
        "id": "XkQPOgOtU1xl"
      },
      "source": [
        "def get_panel_code(panel_name):\n",
        "    for i in data[\"panel\"]:\n",
        "        if(panel_name.lower() == i[\"DESC_EN\"].lower()):\n",
        "        # print(\"Service Type in DB = {} \\n REF_CODE = {}\".format(serv_type,i[\"REF_CODE\"]))\n",
        "        # print(\"----------------------------\")\n",
        "            return i[\"REF_CODE\"]\n",
        "            break"
      ],
      "execution_count": 13,
      "outputs": []
    },
    {
      "cell_type": "markdown",
      "metadata": {
        "id": "uubJW7sadPAo"
      },
      "source": [
        "<h3>Price to Service Mapping </h3>"
      ]
    },
    {
      "cell_type": "markdown",
      "metadata": {
        "id": "81xbWcT9oAc0"
      },
      "source": [
        "<h3>State Name TO Code Mapping <br> Zone Name TO Code Mapping</h3>"
      ]
    },
    {
      "cell_type": "code",
      "metadata": {
        "colab": {
          "base_uri": "https://localhost:8080/"
        },
        "id": "RsYbLryNnaFL",
        "outputId": "c315e755-740e-47d8-f3a5-a0f3a95c4f59"
      },
      "source": [
        "a = [\"Johor\",\"Kedah\",\"Kelantan\",\"Melaka\",\"Negeri Sembilan\",\"Pahang\",\"Pulau Pinang\",\"Perak\",\"Perlis\",\"Selangor\",\"Terengganu\",\"Sabah\",\"Sarawak\",\"Kuala Lumpur\",\"Labuan\",\"Putrajaya\",\"N9\",\"PP\"]\n",
        "b = [\"ZON UTARA\",\"ZON SELATAN\",\"ZON TIMUR\",\"ZON BORNEO\",\"ZON TENGAH\",\"ZON LEMBAH KLANG NEW\"]\n",
        "\n",
        "states_in_DB = {}\n",
        "zones_in_DB = {}\n",
        "for i in range(0,len(a)):\n",
        "    states_in_DB.update({a[i].lower():int(i+1)})\n",
        "for i in range(0,len(b)):\n",
        "    zones_in_DB.update({b[i].lower():int(i+1)})\n",
        "print(json.dumps(states_in_DB,indent=1))\n",
        "print(json.dumps(zones_in_DB,indent=1))"
      ],
      "execution_count": 14,
      "outputs": [
        {
          "output_type": "stream",
          "name": "stdout",
          "text": [
            "{\n \"johor\": 1,\n \"kedah\": 2,\n \"kelantan\": 3,\n \"melaka\": 4,\n \"negeri sembilan\": 5,\n \"pahang\": 6,\n \"pulau pinang\": 7,\n \"perak\": 8,\n \"perlis\": 9,\n \"selangor\": 10,\n \"terengganu\": 11,\n \"sabah\": 12,\n \"sarawak\": 13,\n \"kuala lumpur\": 14,\n \"labuan\": 15,\n \"putrajaya\": 16,\n \"n9\": 17,\n \"pp\": 18\n}\n{\n \"zon utara\": 1,\n \"zon selatan\": 2,\n \"zon timur\": 3,\n \"zon borneo\": 4,\n \"zon tengah\": 5,\n \"zon lembah klang new\": 6\n}\n"
          ]
        }
      ]
    },
    {
      "cell_type": "code",
      "metadata": {
        "id": "1sLSQIjvnaFL"
      },
      "source": [
        "def checkState(state_name):\n",
        "    if state_name in states_in_DB:\n",
        "        # print(\"State ={} , Value ={}\".format(state_name,states_in_DB[state_name]))\n",
        "        return states_in_DB[state_name]\n",
        "    else:\n",
        "        return -1\n",
        "            \n",
        "def checkZone(state_name):\n",
        "    if state_name in zones_in_DB:\n",
        "    #    print(\"Zone ={} , Value ={}\".format(state_name,zones_in_DB[state_name]))\n",
        "       return zones_in_DB[state_name]\n",
        "    else:   \n",
        "        return -2"
      ],
      "execution_count": 15,
      "outputs": []
    },
    {
      "cell_type": "code",
      "metadata": {
        "id": "8ZcydeujUfAg"
      },
      "source": [
        "def price(state_name,service_type,service,j,lower_bound,worksheet_no):\n",
        "  c = {}\n",
        "  d = []\n",
        "  s = \"\"\n",
        "  flag = False\n",
        "  count=0\n",
        "  worksheet = book.sheet_by_index(worksheet_no)\n",
        "  for i in range(2,lower_bound):\n",
        "    a = worksheet.cell_value(rowx=i,colx=j)\n",
        "    b = worksheet.cell_value(rowx=i,colx=1)\n",
        "    c.update({state_name:{service_type:{service:{b:a}}}})\n",
        "    x = checkZone(state_name.lower())\n",
        "    y = checkState(state_name.lower())\n",
        "    if(a!=\"\"):\n",
        "      # -------------------\n",
        "      # State Mapping\n",
        "      # -------------------\n",
        "      if(x==-2):\n",
        "        d.append(y)\n",
        "        d.append(\"\")\n",
        "      # -------------------\n",
        "      # Zone Mapping\n",
        "      # -------------------\n",
        "      if(y==-1):\n",
        "          d.append(\"\")\n",
        "          d.append(x)\n",
        "      # -------------------\n",
        "      # Service Type Mapping\n",
        "      # -------------------\n",
        "      d.append(get_service_type_code(service_type))\n",
        "      # -------------------\n",
        "      # Service Mapping\n",
        "      # -------------------\n",
        "      d.append(get_service_code(service))\n",
        "      # -------------------\n",
        "      # Panel Mapping\n",
        "      # -------------------\n",
        "      # d.append(\"rtw_panel_\"+(b.split(\"(\")[1][0:4]).lower())\n",
        "      s = s + \"rtw_panel_\" + (b[(b.index(\"(\"))+1:b.index(\")\")]).lower()\n",
        "      d.append(s)\n",
        "      d.append(a)\n",
        "      d.append(\"\")\n",
        "      d.append(\"\")\n",
        "      s = \"\"\n",
        "      print(\"___________________\")\n",
        "      print(\"\\t{}\\t\".format(d))\n",
        "      print(\"___________________\")\n",
        "      csv_writer.writerow(d) \n",
        "      d = []\n",
        "    return c"
      ],
      "execution_count": 20,
      "outputs": []
    },
    {
      "cell_type": "markdown",
      "metadata": {
        "id": "G6I2-mMwc1IQ"
      },
      "source": [
        "<h3> Service To Service Type Mapping<h3>"
      ]
    },
    {
      "cell_type": "code",
      "metadata": {
        "id": "9kbjTHDkxssw"
      },
      "source": [
        "def service_to_service_type(state_name,lower_bound,worksheet_no):\n",
        "  panel_to_serv_price = {}\n",
        "  serv_to_serv_price = {}\n",
        "  a = []\n",
        "  panel_to_serv={}\n",
        "  k = 2\n",
        "  for key,value in serv_columns.items():\n",
        "    for i in range(k,k+value):\n",
        "      b = price(state_name,key,serv[i-2],i,lower_bound,worksheet_no)\n",
        "      \n",
        "      a.append(b)\n",
        "    k = k + value\n",
        "  panel_to_serv.update({state_name:a})\n",
        "  return panel_to_serv"
      ],
      "execution_count": 21,
      "outputs": []
    },
    {
      "cell_type": "markdown",
      "metadata": {
        "id": "kTIf9GTBdVux"
      },
      "source": [
        "<h3>State To Service Type Mapping </h3>"
      ]
    },
    {
      "cell_type": "code",
      "metadata": {
        "colab": {
          "base_uri": "https://localhost:8080/"
        },
        "id": "ezMSWgndnaFN",
        "outputId": "afff0881-bf6e-4e1d-b94a-3c4ea3b87bef"
      },
      "source": [
        "print(\"------------------------------\")\n",
        "print(\"Final Data For Each Sheet\")\n",
        "print(\"------------------------------\")\n",
        "a = 0\n",
        "final_result = []\n",
        "sheet_column_count = {}\n",
        "state_to_service = {}\n",
        "for i in range(0,19):\n",
        "    for j in (book.sheet_by_index(i)).col_values(1):\n",
        "        if(j!=\"\"):\n",
        "            a+=1\n",
        "    sheet_column_count.update({book.sheet_by_index(i).name:a-2})\n",
        "    final_result.append(service_to_service_type(book.sheet_by_index(i).name,a-2,i))\n",
        "    a=0\n",
        "jsonfile.close()\n",
        "file1 = open(\"json_dump1.txt\",\"w+\")\n",
        "csv_writer.close()\n",
        "# print(json.dumps(final_result,indent=1))\n",
        "file1.write(json.dumps(final_result, indent=1)) "
      ],
      "execution_count": 22,
      "outputs": [
        {
          "output_type": "stream",
          "name": "stdout",
          "text": [
            "------------------------------\nFinal Data For Each Sheet\n------------------------------\n___________________\n\t[1, '', 'rtw_st_phy', 'rtw_s1_phy', 'rtw_panel_segamat', 80.0, '', '']\t\n___________________\n___________________\n\t[1, '', 'rtw_st_fun', 'rtw_s64_bas', 'rtw_panel_segamat', 95.0, '', '']\t\n___________________\n___________________\n\t[1, '', 'rtw_st_sbm', 'rtw_s107_bas', 'rtw_panel_segamat', 53.0, '', '']\t\n___________________\n___________________\n\t[1, '', 'rtw_st_sbp', 'rtw_s139_pak', 'rtw_panel_segamat', 45.0, '', '']\t\n___________________\n___________________\n\t[4, '', 'rtw_st_phy', 'rtw_s1_phy', 'rtw_panel_melaka', 70.0, '', '']\t\n___________________\n___________________\n\t[17, '', 'rtw_st_phy', 'rtw_s1_phy', 'rtw_panel_seremban', 90.0, '', '']\t\n___________________\n___________________\n\t[17, '', 'rtw_st_sbp', 'rtw_s139_pak', 'rtw_panel_seremban', 90.0, '', '']\t\n___________________\n___________________\n\t[17, '', 'rtw_st_sbp', 'rtw_s146_pak', 'rtw_panel_seremban', 70.0, '', '']\t\n___________________\n___________________\n\t[17, '', 'rtw_st_sbp', 'rtw_s147_pak', 'rtw_panel_seremban', 80.0, '', '']\t\n___________________\n___________________\n\t[17, '', 'rtw_st_sbp', 'rtw_s148_pak', 'rtw_panel_seremban', 70.0, '', '']\t\n___________________\n___________________\n\t[17, '', 'rtw_st_sbp', 'rtw_s149_pak', 'rtw_panel_seremban', 60.0, '', '']\t\n___________________\n___________________\n\t['', 2, 'rtw_st_phy', 'rtw_s1_phy', 'rtw_panel_segamat', 80.0, '', '']\t\n___________________\n___________________\n\t['', 2, 'rtw_st_fun', 'rtw_s64_bas', 'rtw_panel_segamat', 95.0, '', '']\t\n___________________\n___________________\n\t['', 2, 'rtw_st_sbm', 'rtw_s107_bas', 'rtw_panel_segamat', 53.0, '', '']\t\n___________________\n___________________\n\t['', 2, 'rtw_st_sbp', 'rtw_s139_pak', 'rtw_panel_segamat', 45.0, '', '']\t\n___________________\n___________________\n\t[2, '', 'rtw_st_phy', 'rtw_s1_phy', 'rtw_panel_dbc alor setar', 143.0, '', '']\t\n___________________\n___________________\n\t[2, '', 'rtw_st_ass', 'rtw_s49_gen', 'rtw_panel_dbc alor setar', 195.0, '', '']\t\n___________________\n___________________\n\t[2, '', 'rtw_st_fun', 'rtw_s64_bas', 'rtw_panel_dbc alor setar', 220.0, '', '']\t\n___________________\n___________________\n\t[18, '', 'rtw_st_phy', 'rtw_s22_han', 'rtw_panel_seberang perai', 40.0, '', '']\t\n___________________\n___________________\n\t[18, '', 'rtw_st_phy', 'rtw_s23_fin', 'rtw_panel_seberang perai', 35.0, '', '']\t\n___________________\n___________________\n\t[18, '', 'rtw_st_phy', 'rtw_s24_cog', 'rtw_panel_seberang perai', 40.0, '', '']\t\n___________________\n___________________\n\t[18, '', 'rtw_st_occ', 'rtw_s31_ot ', 'rtw_panel_seberang perai', 40.0, '', '']\t\n___________________\n___________________\n\t[18, '', 'rtw_st_occ', 'rtw_s35_wor', 'rtw_panel_seberang perai', 70.0, '', '']\t\n___________________\n___________________\n\t[18, '', 'rtw_st_occ', 'rtw_s42_sen', 'rtw_panel_seberang perai', 30.0, '', '']\t\n___________________\n___________________\n\t[18, '', 'rtw_st_ass', 'rtw_s50_gen', 'rtw_panel_seberang perai', 30.0, '', '']\t\n___________________\n___________________\n\t[18, '', 'rtw_st_adm', 'rtw_s73_fir', 'rtw_panel_seberang perai', 5.0, '', '']\t\n___________________\n___________________\n\t[18, '', 'rtw_st_adm', 'rtw_s74_fol', 'rtw_panel_seberang perai', 2.0, '', '']\t\n___________________\n___________________\n\t[18, '', 'rtw_st_sbm', 'rtw_s77_bas', 'rtw_panel_seberang perai', 30.0, '', '']\t\n___________________\n___________________\n\t[18, '', 'rtw_st_sbm', 'rtw_s82_bas', 'rtw_panel_seberang perai', 30.0, '', '']\t\n___________________\n___________________\n\t[18, '', 'rtw_st_sbm', 'rtw_s104_bas', 'rtw_panel_seberang perai', 30.0, '', '']\t\n___________________\n___________________\n\t[18, '', 'rtw_st_sbm', 'rtw_s106_bas', 'rtw_panel_seberang perai', 20.0, '', '']\t\n___________________\n___________________\n\t[18, '', 'rtw_st_sbm', 'rtw_s130_adv', 'rtw_panel_seberang perai', 80.0, '', '']\t\n___________________\n___________________\n\t[18, '', 'rtw_st_sbm', 'rtw_s131_adv', 'rtw_panel_seberang perai', 80.0, '', '']\t\n___________________\n___________________\n\t[18, '', 'rtw_st_sbm', 'rtw_s137_adv', 'rtw_panel_seberang perai', 20.0, '', '']\t\n___________________\n___________________\n\t[18, '', 'rtw_st_sbp', 'rtw_s150_pak', 'rtw_panel_seberang perai', 50.0, '', '']\t\n___________________\n___________________\n\t[8, '', 'rtw_st_phy', 'rtw_s1_phy', 'rtw_panel_ipoh', 80.0, '', '']\t\n___________________\n___________________\n\t[8, '', 'rtw_st_sbp', 'rtw_s139_pak', 'rtw_panel_ipoh', 145.0, '', '']\t\n___________________\n___________________\n\t['', 1, 'rtw_st_phy', 'rtw_s1_phy', 'rtw_panel_dbc alor setar', 143.0, '', '']\t\n___________________\n___________________\n\t['', 1, 'rtw_st_ass', 'rtw_s49_gen', 'rtw_panel_dbc alor setar', 195.0, '', '']\t\n___________________\n___________________\n\t['', 1, 'rtw_st_fun', 'rtw_s64_bas', 'rtw_panel_dbc alor setar', 220.0, '', '']\t\n___________________\n___________________\n\t[6, '', 'rtw_st_phy', 'rtw_s1_phy', 'rtw_panel_kuantan', 80.0, '', '']\t\n___________________\n___________________\n\t[6, '', 'rtw_st_sbp', 'rtw_s139_pak', 'rtw_panel_kuantan', 80.0, '', '']\t\n___________________\n___________________\n\t[6, '', 'rtw_st_sbp', 'rtw_s152_pak', 'rtw_panel_kuantan', 80.0, '', '']\t\n___________________\n___________________\n\t[3, '', 'rtw_st_phy', 'rtw_s1_phy', 'rtw_panel_potckb', 70.0, '', '']\t\n___________________\n___________________\n\t[3, '', 'rtw_st_phy', 'rtw_s11_hyd', 'rtw_panel_potckb', 50.0, '', '']\t\n___________________\n___________________\n\t[3, '', 'rtw_st_phy', 'rtw_s32_hom', 'rtw_panel_potckb', 100.0, '', '']\t\n___________________\n___________________\n\t[3, '', 'rtw_st_occ', 'rtw_s25_occ', 'rtw_panel_potckb', 70.0, '', '']\t\n___________________\n___________________\n\t[3, '', 'rtw_st_spe', 'rtw_s43_spe', 'rtw_panel_potckb', 70.0, '', '']\t\n___________________\n___________________\n\t[11, '', 'rtw_st_sbm', 'rtw_s77_bas', 'rtw_panel_kemaman', 25.0, '', '']\t\n___________________\n___________________\n\t[11, '', 'rtw_st_sbm', 'rtw_s79_bas', 'rtw_panel_kemaman', 25.0, '', '']\t\n___________________\n___________________\n\t[11, '', 'rtw_st_sbm', 'rtw_s82_bas', 'rtw_panel_kemaman', 25.0, '', '']\t\n___________________\n___________________\n\t[11, '', 'rtw_st_sbm', 'rtw_s104_bas', 'rtw_panel_kemaman', 25.0, '', '']\t\n___________________\n___________________\n\t[11, '', 'rtw_st_sbm', 'rtw_s106_bas', 'rtw_panel_kemaman', 25.0, '', '']\t\n___________________\n___________________\n\t[11, '', 'rtw_st_sbm', 'rtw_s107_bas', 'rtw_panel_kemaman', 25.0, '', '']\t\n___________________\n___________________\n\t[11, '', 'rtw_st_sbm', 'rtw_s111_bas', 'rtw_panel_kemaman', 25.0, '', '']\t\n___________________\n___________________\n\t[11, '', 'rtw_st_sbm', 'rtw_s115_bas', 'rtw_panel_kemaman', 25.0, '', '']\t\n___________________\n___________________\n\t[11, '', 'rtw_st_sbm', 'rtw_s137_adv', 'rtw_panel_kemaman', 25.0, '', '']\t\n___________________\n___________________\n\t['', 3, 'rtw_st_phy', 'rtw_s1_phy', 'rtw_panel_kuantan', 80.0, '', '']\t\n___________________\n___________________\n\t['', 3, 'rtw_st_sbp', 'rtw_s139_pak', 'rtw_panel_kuantan', 80.0, '', '']\t\n___________________\n___________________\n\t['', 3, 'rtw_st_sbp', 'rtw_s152_pak', 'rtw_panel_kuantan', 80.0, '', '']\t\n___________________\n___________________\n\t[12, '', 'rtw_st_phy', 'rtw_s1_phy', 'rtw_panel_labuan', 80.0, '', '']\t\n___________________\n___________________\n\t[12, '', 'rtw_st_phy', 'rtw_s32_hom', 'rtw_panel_labuan', 100.0, '', '']\t\n___________________\n___________________\n\t[12, '', 'rtw_st_ass', 'rtw_s49_gen', 'rtw_panel_labuan', 30.0, '', '']\t\n___________________\n___________________\n\t[12, '', 'rtw_st_sbp', 'rtw_s139_pak', 'rtw_panel_labuan', 80.0, '', '']\t\n___________________\n___________________\n\t[12, '', 'rtw_st_sbp', 'rtw_s152_pak', 'rtw_panel_labuan', 80.0, '', '']\t\n___________________\n___________________\n\t[13, '', 'rtw_st_phy', 'rtw_s1_phy', 'rtw_panel_ dbc kuching', 143.0, '', '']\t\n___________________\n___________________\n\t[13, '', 'rtw_st_ass', 'rtw_s50_gen', 'rtw_panel_ dbc kuching', 195.0, '', '']\t\n___________________\n___________________\n\t[13, '', 'rtw_st_fun', 'rtw_s65_com', 'rtw_panel_ dbc kuching', 220.0, '', '']\t\n___________________\n___________________\n\t['', 4, 'rtw_st_phy', 'rtw_s1_phy', 'rtw_panel_labuan', 80.0, '', '']\t\n___________________\n___________________\n\t['', 4, 'rtw_st_phy', 'rtw_s32_hom', 'rtw_panel_labuan', 100.0, '', '']\t\n___________________\n___________________\n\t['', 4, 'rtw_st_ass', 'rtw_s49_gen', 'rtw_panel_labuan', 30.0, '', '']\t\n___________________\n___________________\n\t['', 4, 'rtw_st_sbp', 'rtw_s139_pak', 'rtw_panel_labuan', 80.0, '', '']\t\n___________________\n___________________\n\t['', 4, 'rtw_st_sbp', 'rtw_s152_pak', 'rtw_panel_labuan', 80.0, '', '']\t\n___________________\n___________________\n\t[14, '', 'rtw_st_phy', 'rtw_s1_phy', 'rtw_panel_dbc hq', 143.0, '', '']\t\n___________________\n___________________\n\t[14, '', 'rtw_st_ass', 'rtw_s49_gen', 'rtw_panel_dbc hq', 195.0, '', '']\t\n___________________\n___________________\n\t[14, '', 'rtw_st_fun', 'rtw_s64_bas', 'rtw_panel_dbc hq', 220.0, '', '']\t\n___________________\n___________________\n\t[10, '', 'rtw_st_phy', 'rtw_s1_phy', 'rtw_panel_kelana jayai', 90.0, '', '']\t\n___________________\n___________________\n\t[10, '', 'rtw_st_phy', 'rtw_s11_hyd', 'rtw_panel_kelana jayai', 80.0, '', '']\t\n___________________\n___________________\n\t[10, '', 'rtw_st_occ', 'rtw_s25_occ', 'rtw_panel_kelana jayai', 90.0, '', '']\t\n___________________\n___________________\n\t[10, '', 'rtw_st_occ', 'rtw_s42_sen', 'rtw_panel_kelana jayai', 80.0, '', '']\t\n___________________\n___________________\n\t[10, '', 'rtw_st_spe', 'rtw_s43_spe', 'rtw_panel_kelana jayai', 150.0, '', '']\t\n___________________\n___________________\n\t[10, '', 'rtw_st_psy', 'rtw_s44_psy', 'rtw_panel_kelana jayai', 110.0, '', '']\t\n___________________\n___________________\n\t[10, '', 'rtw_st_con', 'rtw_s45_reh', 'rtw_panel_kelana jayai', 190.0, '', '']\t\n___________________\n___________________\n\t[10, '', 'rtw_st_con', 'rtw_s46_reh', 'rtw_panel_kelana jayai', 190.0, '', '']\t\n___________________\n___________________\n\t[10, '', 'rtw_st_con', 'rtw_s47_med', 'rtw_panel_kelana jayai', 50.0, '', '']\t\n___________________\n___________________\n\t[10, '', 'rtw_st_ass', 'rtw_s51_neu', 'rtw_panel_kelana jayai', 120.0, '', '']\t\n___________________\n___________________\n\t[10, '', 'rtw_st_ass', 'rtw_s52_cog', 'rtw_panel_kelana jayai', 160.0, '', '']\t\n___________________\n___________________\n\t[10, '', 'rtw_st_ass', 'rtw_s55_dri', 'rtw_panel_kelana jayai', 550.0, '', '']\t\n___________________\n___________________\n\t[10, '', 'rtw_st_ass', 'rtw_s57_pro', 'rtw_panel_kelana jayai', 250.0, '', '']\t\n___________________\n___________________\n\t[10, '', 'rtw_st_ass', 'rtw_s58_spe', 'rtw_panel_kelana jayai', 250.0, '', '']\t\n___________________\n___________________\n\t[10, '', 'rtw_st_ass', 'rtw_s59_psy', 'rtw_panel_kelana jayai', 250.0, '', '']\t\n___________________\n___________________\n\t[10, '', 'rtw_st_ass', 'rtw_s60_sen', 'rtw_panel_kelana jayai', 80.0, '', '']\t\n___________________\n___________________\n\t[10, '', 'rtw_st_ass', 'rtw_s61_cli', 'rtw_panel_kelana jayai', 100.0, '', '']\t\n___________________\n___________________\n\t[10, '', 'rtw_st_ass', 'rtw_s62_vis', 'rtw_panel_kelana jayai', 120.0, '', '']\t\n___________________\n___________________\n\t[10, '', 'rtw_st_fun', 'rtw_s65_com', 'rtw_panel_kelana jayai', 550.0, '', '']\t\n___________________\n___________________\n\t[10, '', 'rtw_st_fun', 'rtw_s66_by ', 'rtw_panel_kelana jayai', '200 - 500', '', '']\t\n___________________\n___________________\n\t[10, '', 'rtw_st_sbm', 'rtw_s105_bas', 'rtw_panel_kelana jayai', 110.0, '', '']\t\n___________________\n___________________\n\t['', 6, 'rtw_st_phy', 'rtw_s1_phy', 'rtw_panel_dbc hq', 143.0, '', '']\t\n___________________\n___________________\n\t['', 6, 'rtw_st_ass', 'rtw_s49_gen', 'rtw_panel_dbc hq', 195.0, '', '']\t\n___________________\n___________________\n\t['', 6, 'rtw_st_fun', 'rtw_s64_bas', 'rtw_panel_dbc hq', 220.0, '', '']\t\n___________________\n"
          ]
        },
        {
          "output_type": "error",
          "ename": "AttributeError",
          "evalue": "'_csv.writer' object has no attribute 'close'",
          "traceback": [
            "\u001b[1;31m---------------------------------------------------------------------------\u001b[0m",
            "\u001b[1;31mAttributeError\u001b[0m                            Traceback (most recent call last)",
            "\u001b[1;32m<ipython-input-22-bb23b0406e45>\u001b[0m in \u001b[0;36m<module>\u001b[1;34m\u001b[0m\n\u001b[0;32m     15\u001b[0m \u001b[0mjsonfile\u001b[0m\u001b[1;33m.\u001b[0m\u001b[0mclose\u001b[0m\u001b[1;33m(\u001b[0m\u001b[1;33m)\u001b[0m\u001b[1;33m\u001b[0m\u001b[1;33m\u001b[0m\u001b[0m\n\u001b[0;32m     16\u001b[0m \u001b[0mfile1\u001b[0m \u001b[1;33m=\u001b[0m \u001b[0mopen\u001b[0m\u001b[1;33m(\u001b[0m\u001b[1;34m\"json_dump1.txt\"\u001b[0m\u001b[1;33m,\u001b[0m\u001b[1;34m\"w+\"\u001b[0m\u001b[1;33m)\u001b[0m\u001b[1;33m\u001b[0m\u001b[1;33m\u001b[0m\u001b[0m\n\u001b[1;32m---> 17\u001b[1;33m \u001b[0mcsv_writer\u001b[0m\u001b[1;33m.\u001b[0m\u001b[0mclose\u001b[0m\u001b[1;33m(\u001b[0m\u001b[1;33m)\u001b[0m\u001b[1;33m\u001b[0m\u001b[1;33m\u001b[0m\u001b[0m\n\u001b[0m\u001b[0;32m     18\u001b[0m \u001b[1;31m# print(json.dumps(final_result,indent=1))\u001b[0m\u001b[1;33m\u001b[0m\u001b[1;33m\u001b[0m\u001b[1;33m\u001b[0m\u001b[0m\n\u001b[0;32m     19\u001b[0m \u001b[0mfile1\u001b[0m\u001b[1;33m.\u001b[0m\u001b[0mwrite\u001b[0m\u001b[1;33m(\u001b[0m\u001b[0mjson\u001b[0m\u001b[1;33m.\u001b[0m\u001b[0mdumps\u001b[0m\u001b[1;33m(\u001b[0m\u001b[0mfinal_result\u001b[0m\u001b[1;33m,\u001b[0m \u001b[0mindent\u001b[0m\u001b[1;33m=\u001b[0m\u001b[1;36m1\u001b[0m\u001b[1;33m)\u001b[0m\u001b[1;33m)\u001b[0m\u001b[1;33m\u001b[0m\u001b[1;33m\u001b[0m\u001b[0m\n",
            "\u001b[1;31mAttributeError\u001b[0m: '_csv.writer' object has no attribute 'close'"
          ]
        }
      ]
    },
    {
      "cell_type": "code",
      "execution_count": 23,
      "metadata": {},
      "outputs": [
        {
          "output_type": "stream",
          "name": "stdout",
          "text": [
            "DBC HQ\n"
          ]
        }
      ],
      "source": [
        "panel = \"DOCUMENTATION BASED CARE (DBC HQ)\"\n",
        "print(panel[(panel.index(\"(\"))+1:panel.index(\")\")])"
      ]
    },
    {
      "cell_type": "code",
      "execution_count": 24,
      "metadata": {},
      "outputs": [],
      "source": [
        "# with open(\"../CSV Files/CSV_Data_v.9.csv\", newline='') as input_file :\n",
        "#     with open('../CSV Files/CSV_Data_v.10.csv', 'w', newline='') as output_file:\n",
        "#         writer = csv.writer(output_file)"
      ]
    },
    {
      "cell_type": "markdown",
      "metadata": {
        "id": "jbRPYT0_WW8q"
      },
      "source": []
    },
    {
      "cell_type": "code",
      "metadata": {
        "id": "R-um--4EU1xr",
        "outputId": "b7ca829f-eba7-476d-bb68-b38e1430a226"
      },
      "source": [
        "# for row in csv:\n",
        "#     if row or any(row) or any(field.strip() for field in row):\n",
        "#         csv_writer.writerow(row)"
      ],
      "execution_count": 22,
      "outputs": []
    },
    {
      "cell_type": "code",
      "execution_count": null,
      "metadata": {},
      "outputs": [],
      "source": []
    }
  ]
}