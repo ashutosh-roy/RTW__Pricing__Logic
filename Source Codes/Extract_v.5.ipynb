{
  "nbformat": 4,
  "nbformat_minor": 0,
  "metadata": {
    "colab": {
      "name": "Extract_v.4.ipynb",
      "provenance": [],
      "collapsed_sections": []
    },
    "kernelspec": {
      "name": "python3",
      "display_name": "Python 3.9.0 64-bit",
      "metadata": {
        "interpreter": {
          "hash": "979f596de77a14df90d8571d9c3b2c64911dcbd90147564c8d29615a4c4484b8"
        }
      }
    }
  },
  "cells": [
    {
      "cell_type": "code",
      "metadata": {
        "id": "F-ekZFnpyI6O",
        "colab": {
          "resources": {
            "http://localhost:8080/nbextensions/google.colab/files.js": {
              "data": "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",
              "ok": true,
              "headers": [
                [
                  "content-type",
                  "application/javascript"
                ]
              ],
              "status": 200,
              "status_text": ""
            }
          },
          "base_uri": "https://localhost:8080/",
          "height": 73
        },
        "outputId": "f6e776e5-22d8-4b46-b020-dc6273c4a645"
      },
      "source": [
        "import xlrd\n",
        "import json\n",
        "import csv\n",
        "# from google.colab import files\n",
        "# uploaded = files.upload()"
      ],
      "execution_count": 1,
      "outputs": []
    },
    {
      "cell_type": "code",
      "metadata": {
        "id": "n7xQTEn4yOLl"
      },
      "source": [
        "book = xlrd.open_workbook(\"../RTW.xls\")"
      ],
      "execution_count": 2,
      "outputs": []
    },
    {
      "cell_type": "code",
      "metadata": {
        "id": "SipqwZleyOV8",
        "colab": {
          "base_uri": "https://localhost:8080/"
        },
        "outputId": "18d96f47-f37c-45da-8665-5e0816126d96"
      },
      "source": [
        "print(\"The number of worksheets is {0}\".format(book.nsheets))\n",
        "print(\"Worksheet name(s): {0}\".format(book.sheet_names()))"
      ],
      "execution_count": 3,
      "outputs": [
        {
          "output_type": "stream",
          "name": "stdout",
          "text": [
            "The number of worksheets is 19\nWorksheet name(s): ['JOHOR', 'MELAKA', 'N9', 'ZON SELATAN', 'PERLIS', 'KEDAH', 'PP', 'PERAK', 'ZON UTARA', 'PAHANG', 'KELANTAN', 'TERENGGANU', 'ZON TIMUR', 'SABAH', 'SARAWAK', 'ZON BORNEO', 'KUALA LUMPUR', 'SELANGOR', 'ZON LEMBAH KLANG NEW']\n"
          ]
        }
      ]
    },
    {
      "cell_type": "markdown",
      "metadata": {
        "id": "LycjCyvopWm-"
      },
      "source": [
        "<h1> Service Types </h1>"
      ]
    },
    {
      "cell_type": "code",
      "metadata": {
        "colab": {
          "base_uri": "https://localhost:8080/"
        },
        "id": "5LDfvntsnaFI",
        "outputId": "82747cd8-02de-4aba-fd28-8db79337b152"
      },
      "source": [
        "worksheet = book.sheet_by_index(0)\n",
        "print(\"-----------------\\n\")\n",
        "print(\"Service Type\\n\") \n",
        "print(\"-----------------\\n\")\n",
        "serv_type = []\n",
        "b = []\n",
        "for a in worksheet.row_values(0):\n",
        "  if(a!=\"\"):\n",
        "    serv_type.append(a.replace(\"\\n\",\" \"))\n",
        "    b.append(a)\n",
        "print(json.dumps(serv_type,indent=1))"
      ],
      "execution_count": 4,
      "outputs": [
        {
          "output_type": "stream",
          "name": "stdout",
          "text": [
            "-----------------\n\nService Type\n\n-----------------\n\n[\n \"PHYSIOTHERAPY\",\n \"OCCUPATIONAL THERAPY\",\n \"SPEECH THERAPY\",\n \"PSYCHOLOGY\",\n \"CONSULTATION\",\n \"ASSESSMENT & REPORT\",\n \"FUNCTIONAL CAPACITY EVALUATION & REPORT\",\n \"ADMINISTRATION SERVICES\",\n \"HOSTEL\",\n \"DRY NEEDLING/ ACUPUNCTURE\",\n \"SERVICES BY MODALITIES\",\n \"SERVICES BY PACKAGE\"\n]\n"
          ]
        }
      ]
    },
    {
      "cell_type": "markdown",
      "metadata": {
        "id": "yS3EAIYIpdw_"
      },
      "source": [
        "<h2>Service Type To Service Code Mapping </h2>"
      ]
    },
    {
      "cell_type": "code",
      "execution_count": 5,
      "metadata": {},
      "outputs": [
        {
          "output_type": "stream",
          "name": "stdout",
          "text": [
            "\"PHYSIOTHERAPY\"\n"
          ]
        }
      ],
      "source": [
        "# Instructions TO Use:\n",
        "# Change from (\"--Service Type Code\\r\\nSELECT * FROM BEAMS_DEV.REF_TABLE rt WHERE CODE_CATEGORY ='rtw_sp_serviceType'\") to Service \n",
        "# -- Change the name of Parent Dictionary ['key'] as Service Type instead of the query i.e.,(\"--Service Type Code\\r\\nSELECT * FROM BEAMS_DEV.REF_TABLE rt WHERE CODE_CATEGORY ='rtw_sp_serviceType'\")\n",
        "\n",
        "\n",
        "with open('../JSON Strings/REF_TABLE__Service Type.json') as json_file: \n",
        "    data = json.load(json_file) \n",
        "# print(data[\"service type\"])\n",
        "print(json.dumps(data[\"service type\"][0][\"DESC_EN\"],indent=1))"
      ]
    },
    {
      "cell_type": "code",
      "execution_count": 6,
      "metadata": {},
      "outputs": [],
      "source": [
        "def extract_service_type_refcode(serv_type):\n",
        "    for i in data[\"service type\"]:\n",
        "        if(serv_type.lower() == i[\"DESC_EN\"].lower()):\n",
        "            # print(\"Service Type in DB = {} \\n REF_CODE = {}\".format(serv_type,i[\"REF_CODE\"]))\n",
        "            # print(\"----------------------------\")\n",
        "            return i[\"REF_CODE\"]\n",
        "            break"
      ]
    },
    {
      "cell_type": "code",
      "execution_count": 7,
      "metadata": {},
      "outputs": [
        {
          "output_type": "stream",
          "name": "stdout",
          "text": [
            "12\n{\n \"PHYSIOTHERAPY\": \"1\",\n \"OCCUPATIONAL THERAPY\": \"2\",\n \"SPEECH THERAPY\": \"4\",\n \"PSYCHOLOGY\": \"6\",\n \"CONSULTATION\": \"130\",\n \"ASSESSMENT & REPORT\": \"129\",\n \"FUNCTIONAL CAPACITY EVALUATION & REPORT\": \"128\",\n \"ADMINISTRATION SERVICES\": null,\n \"HOSTEL\": null,\n \"DRY NEEDLING/ ACUPUNCTURE\": null,\n \"SERVICES BY MODALITIES\": null,\n \"SERVICES BY PACKAGE\": null\n}\n"
          ]
        }
      ],
      "source": [
        "service_type_to_service_code = {}\n",
        "count = 0\n",
        "for i in serv_type:\n",
        "    # print(\"----------------------------\")\n",
        "    # print(\"Service Type in Table= {}\".format(i))\n",
        "    service_type_to_service_code.update({i:extract_service_type_refcode(i)})\n",
        "    count+=1\n",
        "print(count)\n",
        "print(json.dumps(service_type_to_service_code,indent=1))"
      ]
    },
    {
      "cell_type": "markdown",
      "metadata": {
        "id": "Ou5TSUuIXh94"
      },
      "source": [
        "<h3> How Many Services Does a Service Type Has ? i.e., COLUMN COUNT FOR EACH SERVICE</h3>"
      ]
    },
    {
      "cell_type": "code",
      "metadata": {
        "colab": {
          "base_uri": "https://localhost:8080/"
        },
        "id": "l4YIAQeeXhtL",
        "outputId": "6415522c-78f1-4d37-8719-9db1517fa630"
      },
      "source": [
        "print(\"-----------------\\n\")\n",
        "print(\"SERV___COLUMNS\\n\") \n",
        "print(\"-----------------\\n\")\n",
        "serv_columns = {}\n",
        "col = [24,18,1,1,4,14,10,2,1,1,62,14]\n",
        "for i in range(0,len(serv_type)):\n",
        "   serv_columns.update({serv_type[i]:col[i]})\n",
        "print(json.dumps(serv_columns,indent=1))"
      ],
      "execution_count": 8,
      "outputs": [
        {
          "output_type": "stream",
          "name": "stdout",
          "text": [
            "-----------------\n\nSERV___COLUMNS\n\n-----------------\n\n{\n \"PHYSIOTHERAPY\": 24,\n \"OCCUPATIONAL THERAPY\": 18,\n \"SPEECH THERAPY\": 1,\n \"PSYCHOLOGY\": 1,\n \"CONSULTATION\": 4,\n \"ASSESSMENT & REPORT\": 14,\n \"FUNCTIONAL CAPACITY EVALUATION & REPORT\": 10,\n \"ADMINISTRATION SERVICES\": 2,\n \"HOSTEL\": 1,\n \"DRY NEEDLING/ ACUPUNCTURE\": 1,\n \"SERVICES BY MODALITIES\": 62,\n \"SERVICES BY PACKAGE\": 14\n}\n"
          ]
        }
      ]
    },
    {
      "cell_type": "markdown",
      "metadata": {
        "id": "adCm53M8WEfG"
      },
      "source": [
        "<h1> Services</h1>"
      ]
    },
    {
      "cell_type": "code",
      "metadata": {
        "colab": {
          "base_uri": "https://localhost:8080/"
        },
        "id": "z51gcUyGsv8V",
        "outputId": "09aa62f1-0a97-403f-a97d-ac5db37a9e33"
      },
      "source": [
        "print(\"-----------------\\n\")\r\n",
        "print(\"Service\\n\") \r\n",
        "print(\"-----------------\\n\")\r\n",
        "serv = []\r\n",
        "for a in worksheet.row_values(1):\r\n",
        "  if(a!=\"\"):\r\n",
        "    serv.append((a.replace(\"\\n\",\"\")).strip())\r\n",
        "\r\n",
        "# Removing Bil & Panel Treatment options\r\n",
        "serv.pop(0)\r\n",
        "serv.pop(0)\r\n",
        "print(json.dumps(serv,indent=1))"
      ],
      "execution_count": 9,
      "outputs": [
        {
          "output_type": "stream",
          "name": "stdout",
          "text": [
            "-----------------\n\nService\n\n-----------------\n\n[\n \"Physiotherapy Treatment\",\n \"Manual Therapy\",\n \"Pain Management\",\n \"Musculoskeletal Rehabilitation\",\n \"Sport Injuries Rehabilitation\",\n \"Stroke rehabilitation\",\n \"Spinal Cord Injury Rehabilitation\",\n \"Traumatic Brain Injury Rehabilitation\",\n \"Amputee Rehabilitation\",\n \"Cardiorespiratory Rehabilitation\",\n \"Hydrotherapy\",\n \"Home Therapy + Mileage\",\n \"Group Therapy And Exercises\",\n \"Burn Management\",\n \"Patient And Family Education Including Talk Workshop And Training\",\n \"Women And Men Health\",\n \"Other Neurological Or Rare Diseases Rehabilitation Such As Parkinson/Multiple Sclerosis/Muscular Dysthropy/Systemic Lupus/Ankylosing Spondylotis/Gullain Barre 1Syndrome\",\n \"Alter-G (Anti Graviti) Physio\",\n \"Tbion (Tibion Bionic Technology) Rehab\",\n \"Chest Physiotherapy Manual\",\n \"Chest Physiotherapy Suction Machine\",\n \"Hand Function Training\",\n \"Fine Motor Training\",\n \"Cognitive Training\",\n \"Occupational Therapy Treatment\",\n \"Adl Training (Basic And Instrumental Adl)\",\n \"Therapeutic Activities\",\n \"Splinting\",\n \"Pressure Garment\",\n \"Cognitive And Perceptual Training\",\n \"Ot Tx/ Therapeutic Exercise\",\n \"Home Therapy + Mileage\",\n \"Aids And Adaptations\",\n \"Work Rehabilitation (Conditioning & Hardening)\",\n \"Work Simulation Training / Work Hardening\",\n \"Driving Training\",\n \"Vehicle Modification\",\n \"Functional Ergonomic Training\",\n \"Mobility Training (Wheelchair/ Walking Aids/ Prosthetic Etc)\",\n \"Patient And Family Education Including Talk Workshop And Training\",\n \"Transitional Living Care Facility\",\n \"Sensory Education\",\n \"Speech TherapyTreatment\",\n \"PsychologyTreatment\",\n \"Rehab Specialist (Initial Session)\",\n \"Rehab Specialist (Follow Up  Session)\",\n \"Medical Officer(Initial Session)\",\n \"Medical Officer (Follow Up Session)\",\n \"General Pt  Assessment & Report\",\n \"General Ot  Assessment & Report\",\n \"Neuro/ Spinal Cord Injury Assessment & Report\",\n \"Cognitive Assessment (Cognab)/ Perceptual Assessment & Repot\",\n \"Home Modification Assessment & Report\",\n \"Worksite Assessment & Report\",\n \"Driving Assessment & Report\",\n \"Wheelchair Assessment & Report\",\n \"Prosthetic/ Amputation Assessment & Report\",\n \"Speech Therapy Assessment & Report\",\n \"Psychological Assessment & Report\",\n \"Sensory Perception Test\",\n \"Clinical Observation Neuromotor Performance\",\n \"Visual Perception Test\",\n \"General FCE & Report\",\n \"Basic FCE\",\n \"Complete FCE (BTE PRIMUS)\",\n \"By Part FCE (BTE PRIMUS)\",\n \"Upper extremity & hand FCE & Report\",\n \"Trunk & lower extremity FCE & Report\",\n \"Upper, Trunk, lower extremity FCE & Report\",\n \"Neurological FCE & Report\",\n \"Cardiopulmonary FCE & Report\",\n \"Cognitive/ Perceptuan Function FCE & Report\",\n \"First Registration Fees\",\n \"Follow Up Registration Fess\",\n \"Inpatient - Hostel & Makan\",\n \"Dry Needling Package\",\n \"Basic Equipment -Therapeutic Ultrasound\",\n \"Basic Equipment - Hydrocollator pack\",\n \"Basic Equipment - Tens\",\n \"Basic Equipment -Cryocuff\",\n \"Basic Equipment - Ice pack\",\n \"Basic Equipment - Paraffin Wax\",\n \"Basic Equipment - Dumb bell\",\n \"Basic Equipment - Sandbag\",\n \"Basic Equipment - Gym ball\",\n \"Basic Equipment - Pulley\",\n \"Basic Equipment - Wall bar\",\n \"Basic Equipment - Parallel bar\",\n \"Basic Equipment - Tilt Table\",\n \"Basic Equipment - Plinth  and Bobath Plinth\",\n \"Basic Equipment - Exercise Mat\",\n \"Basic Equipment - Static cycle\",\n \"Basic Equipment -Mechanical traction\",\n \"Basic Equipment - Stairs\",\n \"Basic Equipment - ADL kits\",\n \"Basic Equipment - Fine motor kits\",\n \"Basic Equipment - Splint\",\n \"Basic Equipment - Pressure garment\",\n \"Basic Equipment - Thera putty\",\n \"Basic Equipment - Thera band\",\n \"Basic Equipment - Hand exerciser equipment\",\n \"Basic Equipment - SWD\",\n \"Basic Equipment - Continuous Passive Machine\",\n \"Basic Equipment - Interferential IFT\",\n \"Basic Equipment - Ambulation\",\n \"Basic Equipment - Hot Pack\",\n \"Basic Equipment - Traction\",\n \"Basic Equipment - Treadmill\",\n \"Basic Equipment - Electrical Stimulation\",\n \"Basic Equipment - Hydro Collator Pack\",\n \"Basic Equipment - Infrared\",\n \"Basic Equipment - Desensitisation Kit\",\n \"Basic Equipment - Exercise In Gym\",\n \"Basic Equipment - Hydro Collator Pack\",\n \"Basic Equipment - Mobilizing Exercise\",\n \"Advance Equipment - Multi gym equipment\",\n \"Advance Equipment - Walking hoist\",\n \"Advance Equipment - Biofeedback equipmentrd\",\n \"Advance Equipment - Erigo stand\",\n \"Advance Equipment - Armeo arm\",\n \"Advance Equipment - Locomat\",\n \"Advance Equipment - BTE Primus\",\n \"Advance Equipment - BTE Evaltech\",\n \"Advance Equipment - Vienna Test System\",\n \"Advance Equipment - Lowenstein Occupational Therapy Cognitive Assessment (LOTCA) / Chessington Occupational Therapy Neurological Assessment (COTNAB)\",\n \"Advance Equipment - Chessington Occupational Therapy Neurological Assessment (COTNAB)\",\n \"Advance Equipment - Driving Simulator\",\n \"Advance Equipment - T/PAL\",\n \"Advance Equipment - Valpar\",\n \"Advance Equipment - Laser \\u2013 Low Intensity or High Intensity\",\n \"Advance Equipment - Shock Wave Therapy\",\n \"Advance Equipment - Short Wave Therapy\",\n \"Advance Equipment - Magnetotherapy\",\n \"Advance Equipment - Motomed\",\n \"Advance Equipment - Hydro pool\",\n \"Advance Equipment - Cybernic Rehab\",\n \"Advance Equipment - Cryotherapy\",\n \"Advance Equipment - Faradic\",\n \"Pakej - Neuro Rehab\",\n \"Pakej - Spine/Back Injury\",\n \"Pakej - Neck Injury\",\n \"Pakej - Shoulder Injury\",\n \"Pakej - Hand Injury\",\n \"Pakej - Knee Injury\",\n \"Pakej - Fracture\",\n \"Pakej - Pain Management\",\n \"Pakej - Sport Rehab\",\n \"Pakej - Cardiac Rehab\",\n \"Pakej - General Exercise\",\n \"Pakej - Respiratory Exercise\",\n \"Pakej - 2 Electrical Modalities\",\n \"Pakej - 3 Electrical Modalities/ More\"\n]\n"
          ]
        }
      ]
    },
    {
      "cell_type": "code",
      "metadata": {
        "id": "HjkQgopbyOfE",
        "colab": {
          "base_uri": "https://localhost:8080/"
        },
        "outputId": "78fea026-9a9f-4c46-8078-59d8f79f739c"
      },
      "source": [
        "print('------------------------------------------------------')\n",
        "print('Service to Service Code Mapping')\n",
        "print('------------------------------------------------------')"
      ],
      "execution_count": 10,
      "outputs": [
        {
          "output_type": "stream",
          "name": "stdout",
          "text": [
            "------------------------------------------------------\nService to Service Code Mapping\n------------------------------------------------------\n"
          ]
        }
      ]
    },
    {
      "cell_type": "code",
      "metadata": {
        "id": "pC2z0ffZrJfQ"
      },
      "source": [
        "with open('../JSON Strings/REF_TABLE__Service.json') as json_file: \n",
        "    data = json.load(json_file) \n",
        "# print(data[\"service type\"])\n",
        "print(json.dumps(data[\"service\"][0][\"DESC_EN\"],indent=1))"
      ],
      "execution_count": 11,
      "outputs": [
        {
          "output_type": "stream",
          "name": "stdout",
          "text": [
            "\"Manual Therapy\"\n"
          ]
        }
      ]
    },
    {
      "cell_type": "code",
      "execution_count": 12,
      "metadata": {},
      "outputs": [],
      "source": [
        "def extract_service_refcode(serv):\n",
        "    for i in data[\"service\"]:\n",
        "        if(serv.lower() == i[\"DESC_EN\"].lower()):\n",
        "            # print(\"Service Type in DB = {} \\n REF_CODE = {}\".format(serv_type,i[\"REF_CODE\"]))\n",
        "            # print(\"----------------------------\")\n",
        "            return i[\"REF_CODE\"]\n",
        "            break"
      ]
    },
    {
      "cell_type": "code",
      "execution_count": 13,
      "metadata": {},
      "outputs": [
        {
          "output_type": "stream",
          "name": "stdout",
          "text": [
            "152\n",
            "\n",
            "------------------------------\n",
            "----- Ref Code Fetched ---- \n",
            "------------------------------\n",
            "{\n",
            " \"Manual Therapy\": \"1\",\n",
            " \"Pain Management\": \"2\",\n",
            " \"Musculoskeletal Rehabilitation\": \"3\",\n",
            " \"Sport Injuries Rehabilitation\": \"4\",\n",
            " \"Stroke rehabilitation\": \"5\",\n",
            " \"Spinal Cord Injury Rehabilitation\": \"6\",\n",
            " \"Traumatic Brain Injury Rehabilitation\": \"7\",\n",
            " \"Amputee Rehabilitation\": \"8\",\n",
            " \"Cardiorespiratory Rehabilitation\": \"9\",\n",
            " \"Group Therapy And Exercises\": \"12\",\n",
            " \"Burn Management\": \"13\",\n",
            " \"Patient And Family Education Including Talk Workshop And Training\": \"14\",\n",
            " \"Women And Men Health\": \"15\",\n",
            " \"Adl Training (Basic And Instrumental Adl)\": \"17\",\n",
            " \"Therapeutic Activities\": \"18\",\n",
            " \"Splinting\": \"19\",\n",
            " \"Pressure Garment\": \"20\",\n",
            " \"Cognitive And Perceptual Training\": \"21\",\n",
            " \"Aids And Adaptations\": \"23\",\n",
            " \"Work Rehabilitation (Conditioning & Hardening)\": \"24\",\n",
            " \"Driving Training\": \"26\",\n",
            " \"Vehicle Modification\": \"27\",\n",
            " \"Functional Ergonomic Training\": \"28\",\n",
            " \"Mobility Training (Wheelchair/ Walking Aids/ Prosthetic Etc)\": \"29\",\n",
            " \"Medical Officer(Initial Session)\": \"34\",\n",
            " \"Neuro/ Spinal Cord Injury Assessment & Report\": \"39\",\n",
            " \"Home Modification Assessment & Report\": \"41\",\n",
            " \"Worksite Assessment & Report\": \"42\",\n",
            " \"Driving Assessment & Report\": \"43\",\n",
            " \"Wheelchair Assessment & Report\": \"44\",\n",
            " \"Speech Therapy Assessment & Report\": \"46\",\n",
            " \"Psychological Assessment & Report\": \"47\",\n",
            " \"General FCE & Report\": \"48\",\n",
            " \"Upper extremity & hand FCE & Report\": \"49\",\n",
            " \"Trunk & lower extremity FCE & Report\": \"50\",\n",
            " \"Upper, Trunk, lower extremity FCE & Report\": \"51\",\n",
            " \"Neurological FCE & Report\": \"52\",\n",
            " \"Cardiopulmonary FCE & Report\": \"53\",\n",
            " \"Cognitive/ Perceptuan Function FCE & Report\": \"54\"\n",
            "}\n",
            "\n",
            "------------------------------\n",
            "----- Null Data Fetched ---- \n",
            "------------------------------\n",
            "{\n",
            " \"Physiotherapy Treatment\": null,\n",
            " \"Hydrotherapy\": null,\n",
            " \"Home Therapy + Mileage\": null,\n",
            " \"Other Neurological Or Rare Diseases Rehabilitation Such As Parkinson/Multiple Sclerosis/Muscular Dysthropy/Systemic Lupus/Ankylosing Spondylotis/Gullain Barre 1Syndrome\": null,\n",
            " \"Alter-G (Anti Graviti) Physio\": null,\n",
            " \"Tbion (Tibion Bionic Technology) Rehab\": null,\n",
            " \"Chest Physiotherapy Manual\": null,\n",
            " \"Chest Physiotherapy Suction Machine\": null,\n",
            " \"Hand Function Training\": null,\n",
            " \"Fine Motor Training\": null,\n",
            " \"Cognitive Training\": null,\n",
            " \"Occupational Therapy Treatment\": null,\n",
            " \"Ot Tx/ Therapeutic Exercise\": null,\n",
            " \"Work Simulation Training / Work Hardening\": null,\n",
            " \"Transitional Living Care Facility\": null,\n",
            " \"Sensory Education\": null,\n",
            " \"Speech TherapyTreatment\": null,\n",
            " \"PsychologyTreatment\": null,\n",
            " \"Rehab Specialist (Initial Session)\": null,\n",
            " \"Rehab Specialist (Follow Up  Session)\": null,\n",
            " \"Medical Officer (Follow Up Session)\": null,\n",
            " \"General Pt  Assessment & Report\": null,\n",
            " \"General Ot  Assessment & Report\": null,\n",
            " \"Cognitive Assessment (Cognab)/ Perceptual Assessment & Repot\": null,\n",
            " \"Prosthetic/ Amputation Assessment & Report\": null,\n",
            " \"Sensory Perception Test\": null,\n",
            " \"Clinical Observation Neuromotor Performance\": null,\n",
            " \"Visual Perception Test\": null,\n",
            " \"Basic FCE\": null,\n",
            " \"Complete FCE (BTE PRIMUS)\": null,\n",
            " \"By Part FCE (BTE PRIMUS)\": null,\n",
            " \"First Registration Fees\": null,\n",
            " \"Follow Up Registration Fess\": null,\n",
            " \"Inpatient - Hostel & Makan\": null,\n",
            " \"Dry Needling Package\": null,\n",
            " \"Basic Equipment -Therapeutic Ultrasound\": null,\n",
            " \"Basic Equipment - Hydrocollator pack\": null,\n",
            " \"Basic Equipment - Tens\": null,\n",
            " \"Basic Equipment -Cryocuff\": null,\n",
            " \"Basic Equipment - Ice pack\": null,\n",
            " \"Basic Equipment - Paraffin Wax\": null,\n",
            " \"Basic Equipment - Dumb bell\": null,\n",
            " \"Basic Equipment - Sandbag\": null,\n",
            " \"Basic Equipment - Gym ball\": null,\n",
            " \"Basic Equipment - Pulley\": null,\n",
            " \"Basic Equipment - Wall bar\": null,\n",
            " \"Basic Equipment - Parallel bar\": null,\n",
            " \"Basic Equipment - Tilt Table\": null,\n",
            " \"Basic Equipment - Plinth  and Bobath Plinth\": null,\n",
            " \"Basic Equipment - Exercise Mat\": null,\n",
            " \"Basic Equipment - Static cycle\": null,\n",
            " \"Basic Equipment -Mechanical traction\": null,\n",
            " \"Basic Equipment - Stairs\": null,\n",
            " \"Basic Equipment - ADL kits\": null,\n",
            " \"Basic Equipment - Fine motor kits\": null,\n",
            " \"Basic Equipment - Splint\": null,\n",
            " \"Basic Equipment - Pressure garment\": null,\n",
            " \"Basic Equipment - Thera putty\": null,\n",
            " \"Basic Equipment - Thera band\": null,\n",
            " \"Basic Equipment - Hand exerciser equipment\": null,\n",
            " \"Basic Equipment - SWD\": null,\n",
            " \"Basic Equipment - Continuous Passive Machine\": null,\n",
            " \"Basic Equipment - Interferential IFT\": null,\n",
            " \"Basic Equipment - Ambulation\": null,\n",
            " \"Basic Equipment - Hot Pack\": null,\n",
            " \"Basic Equipment - Traction\": null,\n",
            " \"Basic Equipment - Treadmill\": null,\n",
            " \"Basic Equipment - Electrical Stimulation\": null,\n",
            " \"Basic Equipment - Hydro Collator Pack\": null,\n",
            " \"Basic Equipment - Infrared\": null,\n",
            " \"Basic Equipment - Desensitisation Kit\": null,\n",
            " \"Basic Equipment - Exercise In Gym\": null,\n",
            " \"Basic Equipment - Mobilizing Exercise\": null,\n",
            " \"Advance Equipment - Multi gym equipment\": null,\n",
            " \"Advance Equipment - Walking hoist\": null,\n",
            " \"Advance Equipment - Biofeedback equipmentrd\": null,\n",
            " \"Advance Equipment - Erigo stand\": null,\n",
            " \"Advance Equipment - Armeo arm\": null,\n",
            " \"Advance Equipment - Locomat\": null,\n",
            " \"Advance Equipment - BTE Primus\": null,\n",
            " \"Advance Equipment - BTE Evaltech\": null,\n",
            " \"Advance Equipment - Vienna Test System\": null,\n",
            " \"Advance Equipment - Lowenstein Occupational Therapy Cognitive Assessment (LOTCA) / Chessington Occupational Therapy Neurological Assessment (COTNAB)\": null,\n",
            " \"Advance Equipment - Chessington Occupational Therapy Neurological Assessment (COTNAB)\": null,\n",
            " \"Advance Equipment - Driving Simulator\": null,\n",
            " \"Advance Equipment - T/PAL\": null,\n",
            " \"Advance Equipment - Valpar\": null,\n",
            " \"Advance Equipment - Laser \\u2013 Low Intensity or High Intensity\": null,\n",
            " \"Advance Equipment - Shock Wave Therapy\": null,\n",
            " \"Advance Equipment - Short Wave Therapy\": null,\n",
            " \"Advance Equipment - Magnetotherapy\": null,\n",
            " \"Advance Equipment - Motomed\": null,\n",
            " \"Advance Equipment - Hydro pool\": null,\n",
            " \"Advance Equipment - Cybernic Rehab\": null,\n",
            " \"Advance Equipment - Cryotherapy\": null,\n",
            " \"Advance Equipment - Faradic\": null,\n",
            " \"Pakej - Neuro Rehab\": null,\n",
            " \"Pakej - Spine/Back Injury\": null,\n",
            " \"Pakej - Neck Injury\": null,\n",
            " \"Pakej - Shoulder Injury\": null,\n",
            " \"Pakej - Hand Injury\": null,\n",
            " \"Pakej - Knee Injury\": null,\n",
            " \"Pakej - Fracture\": null,\n",
            " \"Pakej - Pain Management\": null,\n",
            " \"Pakej - Sport Rehab\": null,\n",
            " \"Pakej - Cardiac Rehab\": null,\n",
            " \"Pakej - General Exercise\": null,\n",
            " \"Pakej - Respiratory Exercise\": null,\n",
            " \"Pakej - 2 Electrical Modalities\": null,\n",
            " \"Pakej - 3 Electrical Modalities/ More\": null\n",
            "}\n"
          ]
        }
      ],
      "source": [
        "service_to_service_code = {}\n",
        "nulldata = {}\n",
        "count = 0\n",
        "for i in serv:\n",
        "    a = extract_service_refcode(i)\n",
        "    if(a==None):\n",
        "        nulldata.update({i:a})\n",
        "    else:\n",
        "        service_to_service_code.update({i:a})\n",
        "    count+=1\n",
        "print(count)\n",
        "print(\"\\n------------------------------\\n----- Ref Code Fetched ---- \\n------------------------------\\n{}\".format(json.dumps(service_to_service_code,indent=1)))\n",
        "print(\"\\n------------------------------\\n----- Null Data Fetched ---- \\n------------------------------\\n{}\".format(json.dumps(nulldata,indent=1)))"
      ]
    },
    {
      "cell_type": "markdown",
      "metadata": {
        "id": "iCEu7ntGUfV5"
      },
      "source": [
        "<h1>Mapping Hierarchy :-</h1>\r\n",
        "<h2>Panel & Service TO Service Type TO State Mapping  </h2>"
      ]
    },
    {
      "cell_type": "code",
      "metadata": {
        "id": "QSVTWxzGn1B2"
      },
      "source": [
        "d = []\n",
        "panel = []\n",
        "jsonfile = open(\"json_dump1.txt\",\"w+\")\n",
        "data_file = open('../CSV Files/CSV_Data_v.4.csv', 'w+') \n",
        "  \n",
        "# create the csv writer object \n",
        "csv_writer = csv.writer(data_file) "
      ],
      "execution_count": 14,
      "outputs": []
    },
    {
      "cell_type": "code",
      "execution_count": 15,
      "metadata": {},
      "outputs": [
        {
          "output_type": "stream",
          "name": "stdout",
          "text": [
            "------------------------------------------------------\nPanel to Panel Code Mapping\n------------------------------------------------------\n"
          ]
        }
      ],
      "source": [
        "print('------------------------------------------------------')\n",
        "print('Panel to Panel Code Mapping')\n",
        "print('------------------------------------------------------')"
      ]
    },
    {
      "cell_type": "code",
      "execution_count": 16,
      "metadata": {},
      "outputs": [
        {
          "output_type": "stream",
          "name": "stdout",
          "text": [
            "\"SINAR REHABILITATION CENTRE (SEGAMAT)\"\n"
          ]
        }
      ],
      "source": [
        "with open('../JSON Strings/REF_TABLE__Panel.json') as json_file: \n",
        "    data = json.load(json_file) \n",
        "# print(data[\"service type\"])\n",
        "print(json.dumps(data[\"panel\"][0][\"DESC_EN\"],indent=1))"
      ]
    },
    {
      "cell_type": "code",
      "execution_count": 17,
      "metadata": {},
      "outputs": [],
      "source": [
        "def extract_panel_refcode(panel_name):\n",
        "    for i in data[\"panel\"]:\n",
        "        if(panel_name.lower() == i[\"DESC_EN\"].lower()):\n",
        "        # print(\"Service Type in DB = {} \\n REF_CODE = {}\".format(serv_type,i[\"REF_CODE\"]))\n",
        "        # print(\"----------------------------\")\n",
        "            return i[\"REF_CODE\"]\n",
        "            break"
      ]
    },
    {
      "cell_type": "markdown",
      "metadata": {
        "id": "uubJW7sadPAo"
      },
      "source": [
        "<h3>Price to Service Mapping </h3>"
      ]
    },
    {
      "cell_type": "markdown",
      "metadata": {
        "id": "81xbWcT9oAc0"
      },
      "source": [
        "<h3>State Name TO Code Mapping <br> Zone Name TO Code Mapping</h3>"
      ]
    },
    {
      "cell_type": "code",
      "metadata": {
        "colab": {
          "base_uri": "https://localhost:8080/"
        },
        "id": "RsYbLryNnaFL",
        "outputId": "c315e755-740e-47d8-f3a5-a0f3a95c4f59"
      },
      "source": [
        "a = [\"Johor\",\"Kedah\",\"Kelantan\",\"Melaka\",\"Negeri Sembilan\",\"Pahang\",\"Pulau Pinang\",\"Perak\",\"Perlis\",\"Selangor\",\"Terengganu\",\"Sabah\",\"Sarawak\",\"Kuala Lumpur\",\"Labuan\",\"Putrajaya\",\"N9\",\"PP\"]\n",
        "b = [\"ZON UTARA\",\"ZON SELATAN\",\"ZON TIMUR\",\"ZON BORNEO\",\"ZON TENGAH\",\"ZON LEMBAH KLANG NEW\"]\n",
        "\n",
        "states_in_DB = {}\n",
        "zones_in_DB = {}\n",
        "for i in range(0,len(a)):\n",
        "    states_in_DB.update({a[i].lower():int(i+1)})\n",
        "for i in range(0,len(b)):\n",
        "    zones_in_DB.update({b[i].lower():int(i+1)})\n",
        "print(json.dumps(states_in_DB,indent=1))\n",
        "print(json.dumps(zones_in_DB,indent=1))\n"
      ],
      "execution_count": 18,
      "outputs": [
        {
          "output_type": "stream",
          "name": "stdout",
          "text": [
            "{\n \"johor\": 1,\n \"kedah\": 2,\n \"kelantan\": 3,\n \"melaka\": 4,\n \"negeri sembilan\": 5,\n \"pahang\": 6,\n \"pulau pinang\": 7,\n \"perak\": 8,\n \"perlis\": 9,\n \"selangor\": 10,\n \"terengganu\": 11,\n \"sabah\": 12,\n \"sarawak\": 13,\n \"kuala lumpur\": 14,\n \"labuan\": 15,\n \"putrajaya\": 16,\n \"n9\": 17,\n \"pp\": 18\n}\n{\n \"zon utara\": 1,\n \"zon selatan\": 2,\n \"zon timur\": 3,\n \"zon borneo\": 4,\n \"zon tengah\": 5,\n \"zon lembah klang new\": 6\n}\n"
          ]
        }
      ]
    },
    {
      "cell_type": "code",
      "metadata": {
        "id": "1sLSQIjvnaFL"
      },
      "source": [
        "def checkState(state_name):\n",
        "    if state_name in states_in_DB:\n",
        "        # print(\"State ={} , Value ={}\".format(state_name,states_in_DB[state_name]))\n",
        "        return states_in_DB[state_name]\n",
        "    else:\n",
        "        return -1\n",
        "            \n",
        "def checkZone(state_name):\n",
        "    if state_name in zones_in_DB:\n",
        "    #    print(\"Zone ={} , Value ={}\".format(state_name,zones_in_DB[state_name]))\n",
        "       return zones_in_DB[state_name]\n",
        "    else:   \n",
        "        return -2"
      ],
      "execution_count": 19,
      "outputs": []
    },
    {
      "cell_type": "code",
      "metadata": {
        "colab": {
          "base_uri": "https://localhost:8080/"
        },
        "id": "bNgRuXGFnaFM",
        "outputId": "2165db30-7545-4457-c058-8103237ef970"
      },
      "source": [
        "# states=0\n",
        "# zones=0\n",
        "# for i in book.sheet_names():\n",
        "#     a = checkZone(i.lower())\n",
        "#     b = checkState(i.lower())\n",
        "#     if(a==-2):\n",
        "#         print(b)\n",
        "#         states+=1\n",
        "\n",
        "#     if(b==-1):\n",
        "#         print(a)  \n",
        "#         zones+=1\n",
        "# print(\"States = {}\".format(states))\n",
        "# print(\"Zones = {}\".format(zones))"
      ],
      "execution_count": 20,
      "outputs": []
    },
    {
      "cell_type": "code",
      "metadata": {
        "id": "8ZcydeujUfAg"
      },
      "source": [
        "def price(state_name,service_type,service,j,lower_bound,worksheet_no):\n",
        "  c = {}\n",
        "  d = []\n",
        "  flag = False\n",
        "  count=0\n",
        "  worksheet = book.sheet_by_index(worksheet_no)\n",
        "  for i in range(2,lower_bound):\n",
        "    a = worksheet.cell_value(rowx=i,colx=j)\n",
        "    b = worksheet.cell_value(rowx=i,colx=1)\n",
        "    c.update({state_name:{service_type:{service:{b:a}}}})\n",
        "\n",
        "    x = checkZone(state_name.lower())\n",
        "    y = checkState(state_name.lower())\n",
        "    z = extract_panel_refcode(b)\n",
        "    # -------------------\n",
        "    # Panel Mapping\n",
        "    # -------------------\n",
        "\n",
        "    # print(\"\\n-------------------\\nPanel Code Mapping\\n-------------------\\n\")\n",
        "    # print(\"Panel Name = {} \\nPanel Code = {} -------------------\\n\".format(b,z))\n",
        "    if(count==0):\n",
        "      panel.append({state_name:{b:z}})\n",
        "      count+=1\n",
        "    # -------------------\n",
        "    # State Mapping\n",
        "    # -------------------\n",
        "    if(x==-2):\n",
        "      d.append(y)\n",
        "      d.append(\"\")\n",
        "\n",
        "    # -------------------\n",
        "    # Zone Mapping\n",
        "    # -------------------\n",
        "    if(y==-1):\n",
        "        d.append(\"\")\n",
        "        d.append(x)\n",
        "    \n",
        "    d.append(service_type.replace(\"\\n\", \" \"))\n",
        "    d.append(service.replace(\"\\n\", \" \"))\n",
        "    d.append(z)\n",
        "    d.append(a)\n",
        "    # print(\"___________________\")\n",
        "    # print(\"\\t{}\\t\".format(d))\n",
        "    # print(\"___________________\")\n",
        "    csv_writer.writerow(d) \n",
        "    d = []\n",
        "    return c"
      ],
      "execution_count": 21,
      "outputs": []
    },
    {
      "cell_type": "markdown",
      "metadata": {
        "id": "G6I2-mMwc1IQ"
      },
      "source": [
        "<h3> Service To Service Type Mapping<h3>"
      ]
    },
    {
      "cell_type": "code",
      "metadata": {
        "id": "9kbjTHDkxssw"
      },
      "source": [
        "def service_to_service_type(state_name,lower_bound,worksheet_no):\n",
        "  panel_to_serv_price = {}\n",
        "  serv_to_serv_price = {}\n",
        "  a = []\n",
        "  panel_to_serv={}\n",
        "  k = 2\n",
        "  for key,value in serv_columns.items():\n",
        "    for i in range(k,k+value):\n",
        "      b = price(state_name,key,serv[i-2],i,lower_bound,worksheet_no)\n",
        "      \n",
        "      a.append(b)\n",
        "    k = k + value\n",
        "  panel_to_serv.update({state_name:a})\n",
        "  return panel_to_serv"
      ],
      "execution_count": 22,
      "outputs": []
    },
    {
      "cell_type": "markdown",
      "metadata": {
        "id": "kTIf9GTBdVux"
      },
      "source": [
        "<h3>State To Service Type Mapping </h3>"
      ]
    },
    {
      "cell_type": "code",
      "metadata": {
        "colab": {
          "base_uri": "https://localhost:8080/"
        },
        "id": "ezMSWgndnaFN",
        "outputId": "afff0881-bf6e-4e1d-b94a-3c4ea3b87bef"
      },
      "source": [
        "print(\"------------------------------\")\n",
        "print(\"Final Data For Each Sheet\")\n",
        "print(\"------------------------------\")\n",
        "a = 0\n",
        "final_result = []\n",
        "sheet_column_count = {}\n",
        "state_to_service = {}\n",
        "for i in range(0,19):\n",
        "    for j in (book.sheet_by_index(i)).col_values(1):\n",
        "        if(j!=\"\"):\n",
        "            a+=1\n",
        "    sheet_column_count.update({book.sheet_by_index(i).name:a-2})\n",
        "    final_result.append(service_to_service_type(book.sheet_by_index(i).name,a-2,i))\n",
        "    a=0\n",
        "jsonfile.close()\n",
        "file1 = open(\"json_dump1.txt\",\"w+\")\n",
        "# print(json.dumps(final_result,indent=1))\n",
        "file1.write(json.dumps(final_result, indent=1)) "
      ],
      "execution_count": 23,
      "outputs": [
        {
          "output_type": "stream",
          "name": "stdout",
          "text": [
            "------------------------------\nFinal Data For Each Sheet\n------------------------------\n"
          ]
        },
        {
          "output_type": "execute_result",
          "data": {
            "text/plain": [
              "494652"
            ]
          },
          "metadata": {},
          "execution_count": 23
        }
      ]
    },
    {
      "cell_type": "markdown",
      "metadata": {
        "id": "jbRPYT0_WW8q"
      },
      "source": []
    },
    {
      "cell_type": "code",
      "execution_count": 30,
      "metadata": {},
      "outputs": [
        {
          "output_type": "stream",
          "name": "stdout",
          "text": [
            "{'JOHOR': {'SINAR REHABILITATION CENTRE (SEGAMAT)': '1'}}\n{'SINAR REHABILITATION CENTRE (SEGAMAT)': '1'}\n{'JOHOR': {'SINAR REHABILITATION CENTRE (SEGAMAT)': '1'}}\n{'SINAR REHABILITATION CENTRE (SEGAMAT)': '1'}\n{'JOHOR': {'SINAR REHABILITATION CENTRE (SEGAMAT)': '1'}}\n{'SINAR REHABILITATION CENTRE (SEGAMAT)': '1'}\n{'JOHOR': {'SINAR REHABILITATION CENTRE (SEGAMAT)': '1'}}\n{'SINAR REHABILITATION CENTRE (SEGAMAT)': '1'}\n{'JOHOR': {'SINAR REHABILITATION CENTRE (SEGAMAT)': '1'}}\n{'SINAR REHABILITATION CENTRE (SEGAMAT)': '1'}\n{'JOHOR': {'SINAR REHABILITATION CENTRE (SEGAMAT)': '1'}}\n{'SINAR REHABILITATION CENTRE (SEGAMAT)': '1'}\n{'JOHOR': {'SINAR REHABILITATION CENTRE (SEGAMAT)': '1'}}\n{'SINAR REHABILITATION CENTRE (SEGAMAT)': '1'}\n{'JOHOR': {'SINAR REHABILITATION CENTRE (SEGAMAT)': '1'}}\n{'SINAR REHABILITATION CENTRE (SEGAMAT)': '1'}\n{'JOHOR': {'SINAR REHABILITATION CENTRE (SEGAMAT)': '1'}}\n{'SINAR REHABILITATION CENTRE (SEGAMAT)': '1'}\n{'JOHOR': {'SINAR REHABILITATION CENTRE (SEGAMAT)': '1'}}\n{'SINAR REHABILITATION CENTRE (SEGAMAT)': '1'}\n{'JOHOR': {'SINAR REHABILITATION CENTRE (SEGAMAT)': '1'}}\n{'SINAR REHABILITATION CENTRE (SEGAMAT)': '1'}\n{'JOHOR': {'SINAR REHABILITATION CENTRE (SEGAMAT)': '1'}}\n{'SINAR REHABILITATION CENTRE (SEGAMAT)': '1'}\n{'JOHOR': {'SINAR REHABILITATION CENTRE (SEGAMAT)': '1'}}\n{'SINAR REHABILITATION CENTRE (SEGAMAT)': '1'}\n{'JOHOR': {'SINAR REHABILITATION CENTRE (SEGAMAT)': '1'}}\n{'SINAR REHABILITATION CENTRE (SEGAMAT)': '1'}\n{'JOHOR': {'SINAR REHABILITATION CENTRE (SEGAMAT)': '1'}}\n{'SINAR REHABILITATION CENTRE (SEGAMAT)': '1'}\n{'JOHOR': {'SINAR REHABILITATION CENTRE (SEGAMAT)': '1'}}\n{'SINAR REHABILITATION CENTRE (SEGAMAT)': '1'}\n{'JOHOR': {'SINAR REHABILITATION CENTRE (SEGAMAT)': '1'}}\n{'SINAR REHABILITATION CENTRE (SEGAMAT)': '1'}\n{'JOHOR': {'SINAR REHABILITATION CENTRE (SEGAMAT)': '1'}}\n{'SINAR REHABILITATION CENTRE (SEGAMAT)': '1'}\n{'JOHOR': {'SINAR REHABILITATION CENTRE (SEGAMAT)': '1'}}\n{'SINAR REHABILITATION CENTRE (SEGAMAT)': '1'}\n{'JOHOR': {'SINAR REHABILITATION CENTRE (SEGAMAT)': '1'}}\n{'SINAR REHABILITATION CENTRE (SEGAMAT)': '1'}\n{'JOHOR': {'SINAR REHABILITATION CENTRE (SEGAMAT)': '1'}}\n{'SINAR REHABILITATION CENTRE (SEGAMAT)': '1'}\n{'JOHOR': {'SINAR REHABILITATION CENTRE (SEGAMAT)': '1'}}\n{'SINAR REHABILITATION CENTRE (SEGAMAT)': '1'}\n{'JOHOR': {'SINAR REHABILITATION CENTRE (SEGAMAT)': '1'}}\n{'SINAR REHABILITATION CENTRE (SEGAMAT)': '1'}\n{'JOHOR': {'SINAR REHABILITATION CENTRE (SEGAMAT)': '1'}}\n{'SINAR REHABILITATION CENTRE (SEGAMAT)': '1'}\n{'JOHOR': {'SINAR REHABILITATION CENTRE (SEGAMAT)': '1'}}\n{'SINAR REHABILITATION CENTRE (SEGAMAT)': '1'}\n{'JOHOR': {'SINAR REHABILITATION CENTRE (SEGAMAT)': '1'}}\n{'SINAR REHABILITATION CENTRE (SEGAMAT)': '1'}\n{'JOHOR': {'SINAR REHABILITATION CENTRE (SEGAMAT)': '1'}}\n{'SINAR REHABILITATION CENTRE (SEGAMAT)': '1'}\n{'JOHOR': {'SINAR REHABILITATION CENTRE (SEGAMAT)': '1'}}\n{'SINAR REHABILITATION CENTRE (SEGAMAT)': '1'}\n{'JOHOR': {'SINAR REHABILITATION CENTRE (SEGAMAT)': '1'}}\n{'SINAR REHABILITATION CENTRE (SEGAMAT)': '1'}\n{'JOHOR': {'SINAR REHABILITATION CENTRE (SEGAMAT)': '1'}}\n{'SINAR REHABILITATION CENTRE (SEGAMAT)': '1'}\n{'JOHOR': {'SINAR REHABILITATION CENTRE (SEGAMAT)': '1'}}\n{'SINAR REHABILITATION CENTRE (SEGAMAT)': '1'}\n{'JOHOR': {'SINAR REHABILITATION CENTRE (SEGAMAT)': '1'}}\n{'SINAR REHABILITATION CENTRE (SEGAMAT)': '1'}\n{'JOHOR': {'SINAR REHABILITATION CENTRE (SEGAMAT)': '1'}}\n{'SINAR REHABILITATION CENTRE (SEGAMAT)': '1'}\n{'JOHOR': {'SINAR REHABILITATION CENTRE (SEGAMAT)': '1'}}\n{'SINAR REHABILITATION CENTRE (SEGAMAT)': '1'}\n{'JOHOR': {'SINAR REHABILITATION CENTRE (SEGAMAT)': '1'}}\n{'SINAR REHABILITATION CENTRE (SEGAMAT)': '1'}\n{'JOHOR': {'SINAR REHABILITATION CENTRE (SEGAMAT)': '1'}}\n{'SINAR REHABILITATION CENTRE (SEGAMAT)': '1'}\n{'JOHOR': {'SINAR REHABILITATION CENTRE (SEGAMAT)': '1'}}\n{'SINAR REHABILITATION CENTRE (SEGAMAT)': '1'}\n{'JOHOR': {'SINAR REHABILITATION CENTRE (SEGAMAT)': '1'}}\n{'SINAR REHABILITATION CENTRE (SEGAMAT)': '1'}\n{'JOHOR': {'SINAR REHABILITATION CENTRE (SEGAMAT)': '1'}}\n{'SINAR REHABILITATION CENTRE (SEGAMAT)': '1'}\n{'JOHOR': {'SINAR REHABILITATION CENTRE (SEGAMAT)': '1'}}\n{'SINAR REHABILITATION CENTRE (SEGAMAT)': '1'}\n{'JOHOR': {'SINAR REHABILITATION CENTRE (SEGAMAT)': '1'}}\n{'SINAR REHABILITATION CENTRE (SEGAMAT)': '1'}\n{'JOHOR': {'SINAR REHABILITATION CENTRE (SEGAMAT)': '1'}}\n{'SINAR REHABILITATION CENTRE (SEGAMAT)': '1'}\n{'JOHOR': {'SINAR REHABILITATION CENTRE (SEGAMAT)': '1'}}\n{'SINAR REHABILITATION CENTRE (SEGAMAT)': '1'}\n{'JOHOR': {'SINAR REHABILITATION CENTRE (SEGAMAT)': '1'}}\n{'SINAR REHABILITATION CENTRE (SEGAMAT)': '1'}\n{'JOHOR': {'SINAR REHABILITATION CENTRE (SEGAMAT)': '1'}}\n{'SINAR REHABILITATION CENTRE (SEGAMAT)': '1'}\n{'JOHOR': {'SINAR REHABILITATION CENTRE (SEGAMAT)': '1'}}\n{'SINAR REHABILITATION CENTRE (SEGAMAT)': '1'}\n{'JOHOR': {'SINAR REHABILITATION CENTRE (SEGAMAT)': '1'}}\n{'SINAR REHABILITATION CENTRE (SEGAMAT)': '1'}\n{'JOHOR': {'SINAR REHABILITATION CENTRE (SEGAMAT)': '1'}}\n{'SINAR REHABILITATION CENTRE (SEGAMAT)': '1'}\n{'JOHOR': {'SINAR REHABILITATION CENTRE (SEGAMAT)': '1'}}\n{'SINAR REHABILITATION CENTRE (SEGAMAT)': '1'}\n{'JOHOR': {'SINAR REHABILITATION CENTRE (SEGAMAT)': '1'}}\n{'SINAR REHABILITATION CENTRE (SEGAMAT)': '1'}\n{'JOHOR': {'SINAR REHABILITATION CENTRE (SEGAMAT)': '1'}}\n{'SINAR REHABILITATION CENTRE (SEGAMAT)': '1'}\n{'JOHOR': {'SINAR REHABILITATION CENTRE (SEGAMAT)': '1'}}\n{'SINAR REHABILITATION CENTRE (SEGAMAT)': '1'}\n{'JOHOR': {'SINAR REHABILITATION CENTRE (SEGAMAT)': '1'}}\n{'SINAR REHABILITATION CENTRE (SEGAMAT)': '1'}\n{'JOHOR': {'SINAR REHABILITATION CENTRE (SEGAMAT)': '1'}}\n{'SINAR REHABILITATION CENTRE (SEGAMAT)': '1'}\n{'JOHOR': {'SINAR REHABILITATION CENTRE (SEGAMAT)': '1'}}\n{'SINAR REHABILITATION CENTRE (SEGAMAT)': '1'}\n{'JOHOR': {'SINAR REHABILITATION CENTRE (SEGAMAT)': '1'}}\n{'SINAR REHABILITATION CENTRE (SEGAMAT)': '1'}\n{'JOHOR': {'SINAR REHABILITATION CENTRE (SEGAMAT)': '1'}}\n{'SINAR REHABILITATION CENTRE (SEGAMAT)': '1'}\n{'JOHOR': {'SINAR REHABILITATION CENTRE (SEGAMAT)': '1'}}\n{'SINAR REHABILITATION CENTRE (SEGAMAT)': '1'}\n{'JOHOR': {'SINAR REHABILITATION CENTRE (SEGAMAT)': '1'}}\n{'SINAR REHABILITATION CENTRE (SEGAMAT)': '1'}\n{'JOHOR': {'SINAR REHABILITATION CENTRE (SEGAMAT)': '1'}}\n{'SINAR REHABILITATION CENTRE (SEGAMAT)': '1'}\n{'JOHOR': {'SINAR REHABILITATION CENTRE (SEGAMAT)': '1'}}\n{'SINAR REHABILITATION CENTRE (SEGAMAT)': '1'}\n{'JOHOR': {'SINAR REHABILITATION CENTRE (SEGAMAT)': '1'}}\n{'SINAR REHABILITATION CENTRE (SEGAMAT)': '1'}\n{'JOHOR': {'SINAR REHABILITATION CENTRE (SEGAMAT)': '1'}}\n{'SINAR REHABILITATION CENTRE (SEGAMAT)': '1'}\n{'JOHOR': {'SINAR REHABILITATION CENTRE (SEGAMAT)': '1'}}\n{'SINAR REHABILITATION CENTRE (SEGAMAT)': '1'}\n{'JOHOR': {'SINAR REHABILITATION CENTRE (SEGAMAT)': '1'}}\n{'SINAR REHABILITATION CENTRE (SEGAMAT)': '1'}\n{'JOHOR': {'SINAR REHABILITATION CENTRE (SEGAMAT)': '1'}}\n{'SINAR REHABILITATION CENTRE (SEGAMAT)': '1'}\n{'JOHOR': {'SINAR REHABILITATION CENTRE (SEGAMAT)': '1'}}\n{'SINAR REHABILITATION CENTRE (SEGAMAT)': '1'}\n{'JOHOR': {'SINAR REHABILITATION CENTRE (SEGAMAT)': '1'}}\n{'SINAR REHABILITATION CENTRE (SEGAMAT)': '1'}\n{'JOHOR': {'SINAR REHABILITATION CENTRE (SEGAMAT)': '1'}}\n{'SINAR REHABILITATION CENTRE (SEGAMAT)': '1'}\n{'JOHOR': {'SINAR REHABILITATION CENTRE (SEGAMAT)': '1'}}\n{'SINAR REHABILITATION CENTRE (SEGAMAT)': '1'}\n{'JOHOR': {'SINAR REHABILITATION CENTRE (SEGAMAT)': '1'}}\n{'SINAR REHABILITATION CENTRE (SEGAMAT)': '1'}\n{'JOHOR': {'SINAR REHABILITATION CENTRE (SEGAMAT)': '1'}}\n{'SINAR REHABILITATION CENTRE (SEGAMAT)': '1'}\n{'JOHOR': {'SINAR REHABILITATION CENTRE (SEGAMAT)': '1'}}\n{'SINAR REHABILITATION CENTRE (SEGAMAT)': '1'}\n{'JOHOR': {'SINAR REHABILITATION CENTRE (SEGAMAT)': '1'}}\n{'SINAR REHABILITATION CENTRE (SEGAMAT)': '1'}\n{'JOHOR': {'SINAR REHABILITATION CENTRE (SEGAMAT)': '1'}}\n{'SINAR REHABILITATION CENTRE (SEGAMAT)': '1'}\n{'JOHOR': {'SINAR REHABILITATION CENTRE (SEGAMAT)': '1'}}\n{'SINAR REHABILITATION CENTRE (SEGAMAT)': '1'}\n{'JOHOR': {'SINAR REHABILITATION CENTRE (SEGAMAT)': '1'}}\n{'SINAR REHABILITATION CENTRE (SEGAMAT)': '1'}\n{'JOHOR': {'SINAR REHABILITATION CENTRE (SEGAMAT)': '1'}}\n{'SINAR REHABILITATION CENTRE (SEGAMAT)': '1'}\n{'JOHOR': {'SINAR REHABILITATION CENTRE (SEGAMAT)': '1'}}\n{'SINAR REHABILITATION CENTRE (SEGAMAT)': '1'}\n{'JOHOR': {'SINAR REHABILITATION CENTRE (SEGAMAT)': '1'}}\n{'SINAR REHABILITATION CENTRE (SEGAMAT)': '1'}\n{'JOHOR': {'SINAR REHABILITATION CENTRE (SEGAMAT)': '1'}}\n{'SINAR REHABILITATION CENTRE (SEGAMAT)': '1'}\n{'JOHOR': {'SINAR REHABILITATION CENTRE (SEGAMAT)': '1'}}\n{'SINAR REHABILITATION CENTRE (SEGAMAT)': '1'}\n{'JOHOR': {'SINAR REHABILITATION CENTRE (SEGAMAT)': '1'}}\n{'SINAR REHABILITATION CENTRE (SEGAMAT)': '1'}\n{'JOHOR': {'SINAR REHABILITATION CENTRE (SEGAMAT)': '1'}}\n{'SINAR REHABILITATION CENTRE (SEGAMAT)': '1'}\n{'JOHOR': {'SINAR REHABILITATION CENTRE (SEGAMAT)': '1'}}\n{'SINAR REHABILITATION CENTRE (SEGAMAT)': '1'}\n{'JOHOR': {'SINAR REHABILITATION CENTRE (SEGAMAT)': '1'}}\n{'SINAR REHABILITATION CENTRE (SEGAMAT)': '1'}\n{'JOHOR': {'SINAR REHABILITATION CENTRE (SEGAMAT)': '1'}}\n{'SINAR REHABILITATION CENTRE (SEGAMAT)': '1'}\n{'JOHOR': {'SINAR REHABILITATION CENTRE (SEGAMAT)': '1'}}\n{'SINAR REHABILITATION CENTRE (SEGAMAT)': '1'}\n{'JOHOR': {'SINAR REHABILITATION CENTRE (SEGAMAT)': '1'}}\n{'SINAR REHABILITATION CENTRE (SEGAMAT)': '1'}\n{'JOHOR': {'SINAR REHABILITATION CENTRE (SEGAMAT)': '1'}}\n{'SINAR REHABILITATION CENTRE (SEGAMAT)': '1'}\n{'JOHOR': {'SINAR REHABILITATION CENTRE (SEGAMAT)': '1'}}\n{'SINAR REHABILITATION CENTRE (SEGAMAT)': '1'}\n{'JOHOR': {'SINAR REHABILITATION CENTRE (SEGAMAT)': '1'}}\n{'SINAR REHABILITATION CENTRE (SEGAMAT)': '1'}\n{'JOHOR': {'SINAR REHABILITATION CENTRE (SEGAMAT)': '1'}}\n{'SINAR REHABILITATION CENTRE (SEGAMAT)': '1'}\n{'JOHOR': {'SINAR REHABILITATION CENTRE (SEGAMAT)': '1'}}\n{'SINAR REHABILITATION CENTRE (SEGAMAT)': '1'}\n{'JOHOR': {'SINAR REHABILITATION CENTRE (SEGAMAT)': '1'}}\n{'SINAR REHABILITATION CENTRE (SEGAMAT)': '1'}\n{'JOHOR': {'SINAR REHABILITATION CENTRE (SEGAMAT)': '1'}}\n{'SINAR REHABILITATION CENTRE (SEGAMAT)': '1'}\n{'JOHOR': {'SINAR REHABILITATION CENTRE (SEGAMAT)': '1'}}\n{'SINAR REHABILITATION CENTRE (SEGAMAT)': '1'}\n{'JOHOR': {'SINAR REHABILITATION CENTRE (SEGAMAT)': '1'}}\n{'SINAR REHABILITATION CENTRE (SEGAMAT)': '1'}\n{'JOHOR': {'SINAR REHABILITATION CENTRE (SEGAMAT)': '1'}}\n{'SINAR REHABILITATION CENTRE (SEGAMAT)': '1'}\n{'JOHOR': {'SINAR REHABILITATION CENTRE (SEGAMAT)': '1'}}\n{'SINAR REHABILITATION CENTRE (SEGAMAT)': '1'}\n{'JOHOR': {'SINAR REHABILITATION CENTRE (SEGAMAT)': '1'}}\n{'SINAR REHABILITATION CENTRE (SEGAMAT)': '1'}\n{'JOHOR': {'SINAR REHABILITATION CENTRE (SEGAMAT)': '1'}}\n{'SINAR REHABILITATION CENTRE (SEGAMAT)': '1'}\n{'JOHOR': {'SINAR REHABILITATION CENTRE (SEGAMAT)': '1'}}\n{'SINAR REHABILITATION CENTRE (SEGAMAT)': '1'}\n{'JOHOR': {'SINAR REHABILITATION CENTRE (SEGAMAT)': '1'}}\n{'SINAR REHABILITATION CENTRE (SEGAMAT)': '1'}\n{'JOHOR': {'SINAR REHABILITATION CENTRE (SEGAMAT)': '1'}}\n{'SINAR REHABILITATION CENTRE (SEGAMAT)': '1'}\n{'JOHOR': {'SINAR REHABILITATION CENTRE (SEGAMAT)': '1'}}\n{'SINAR REHABILITATION CENTRE (SEGAMAT)': '1'}\n{'JOHOR': {'SINAR REHABILITATION CENTRE (SEGAMAT)': '1'}}\n{'SINAR REHABILITATION CENTRE (SEGAMAT)': '1'}\n{'JOHOR': {'SINAR REHABILITATION CENTRE (SEGAMAT)': '1'}}\n{'SINAR REHABILITATION CENTRE (SEGAMAT)': '1'}\n{'JOHOR': {'SINAR REHABILITATION CENTRE (SEGAMAT)': '1'}}\n{'SINAR REHABILITATION CENTRE (SEGAMAT)': '1'}\n{'JOHOR': {'SINAR REHABILITATION CENTRE (SEGAMAT)': '1'}}\n{'SINAR REHABILITATION CENTRE (SEGAMAT)': '1'}\n{'JOHOR': {'SINAR REHABILITATION CENTRE (SEGAMAT)': '1'}}\n{'SINAR REHABILITATION CENTRE (SEGAMAT)': '1'}\n{'JOHOR': {'SINAR REHABILITATION CENTRE (SEGAMAT)': '1'}}\n{'SINAR REHABILITATION CENTRE (SEGAMAT)': '1'}\n{'JOHOR': {'SINAR REHABILITATION CENTRE (SEGAMAT)': '1'}}\n{'SINAR REHABILITATION CENTRE (SEGAMAT)': '1'}\n{'JOHOR': {'SINAR REHABILITATION CENTRE (SEGAMAT)': '1'}}\n{'SINAR REHABILITATION CENTRE (SEGAMAT)': '1'}\n{'JOHOR': {'SINAR REHABILITATION CENTRE (SEGAMAT)': '1'}}\n{'SINAR REHABILITATION CENTRE (SEGAMAT)': '1'}\n{'JOHOR': {'SINAR REHABILITATION CENTRE (SEGAMAT)': '1'}}\n{'SINAR REHABILITATION CENTRE (SEGAMAT)': '1'}\n{'JOHOR': {'SINAR REHABILITATION CENTRE (SEGAMAT)': '1'}}\n{'SINAR REHABILITATION CENTRE (SEGAMAT)': '1'}\n{'JOHOR': {'SINAR REHABILITATION CENTRE (SEGAMAT)': '1'}}\n{'SINAR REHABILITATION CENTRE (SEGAMAT)': '1'}\n{'JOHOR': {'SINAR REHABILITATION CENTRE (SEGAMAT)': '1'}}\n{'SINAR REHABILITATION CENTRE (SEGAMAT)': '1'}\n{'JOHOR': {'SINAR REHABILITATION CENTRE (SEGAMAT)': '1'}}\n{'SINAR REHABILITATION CENTRE (SEGAMAT)': '1'}\n{'JOHOR': {'SINAR REHABILITATION CENTRE (SEGAMAT)': '1'}}\n{'SINAR REHABILITATION CENTRE (SEGAMAT)': '1'}\n{'JOHOR': {'SINAR REHABILITATION CENTRE (SEGAMAT)': '1'}}\n{'SINAR REHABILITATION CENTRE (SEGAMAT)': '1'}\n{'JOHOR': {'SINAR REHABILITATION CENTRE (SEGAMAT)': '1'}}\n{'SINAR REHABILITATION CENTRE (SEGAMAT)': '1'}\n{'JOHOR': {'SINAR REHABILITATION CENTRE (SEGAMAT)': '1'}}\n{'SINAR REHABILITATION CENTRE (SEGAMAT)': '1'}\n{'JOHOR': {'SINAR REHABILITATION CENTRE (SEGAMAT)': '1'}}\n{'SINAR REHABILITATION CENTRE (SEGAMAT)': '1'}\n{'JOHOR': {'SINAR REHABILITATION CENTRE (SEGAMAT)': '1'}}\n{'SINAR REHABILITATION CENTRE (SEGAMAT)': '1'}\n{'JOHOR': {'SINAR REHABILITATION CENTRE (SEGAMAT)': '1'}}\n{'SINAR REHABILITATION CENTRE (SEGAMAT)': '1'}\n{'JOHOR': {'SINAR REHABILITATION CENTRE (SEGAMAT)': '1'}}\n{'SINAR REHABILITATION CENTRE (SEGAMAT)': '1'}\n{'JOHOR': {'SINAR REHABILITATION CENTRE (SEGAMAT)': '1'}}\n{'SINAR REHABILITATION CENTRE (SEGAMAT)': '1'}\n{'JOHOR': {'SINAR REHABILITATION CENTRE (SEGAMAT)': '1'}}\n{'SINAR REHABILITATION CENTRE (SEGAMAT)': '1'}\n{'JOHOR': {'SINAR REHABILITATION CENTRE (SEGAMAT)': '1'}}\n{'SINAR REHABILITATION CENTRE (SEGAMAT)': '1'}\n{'JOHOR': {'SINAR REHABILITATION CENTRE (SEGAMAT)': '1'}}\n{'SINAR REHABILITATION CENTRE (SEGAMAT)': '1'}\n{'JOHOR': {'SINAR REHABILITATION CENTRE (SEGAMAT)': '1'}}\n{'SINAR REHABILITATION CENTRE (SEGAMAT)': '1'}\n{'JOHOR': {'SINAR REHABILITATION CENTRE (SEGAMAT)': '1'}}\n{'SINAR REHABILITATION CENTRE (SEGAMAT)': '1'}\n{'JOHOR': {'SINAR REHABILITATION CENTRE (SEGAMAT)': '1'}}\n{'SINAR REHABILITATION CENTRE (SEGAMAT)': '1'}\n{'JOHOR': {'SINAR REHABILITATION CENTRE (SEGAMAT)': '1'}}\n{'SINAR REHABILITATION CENTRE (SEGAMAT)': '1'}\n{'JOHOR': {'SINAR REHABILITATION CENTRE (SEGAMAT)': '1'}}\n{'SINAR REHABILITATION CENTRE (SEGAMAT)': '1'}\n{'JOHOR': {'SINAR REHABILITATION CENTRE (SEGAMAT)': '1'}}\n{'SINAR REHABILITATION CENTRE (SEGAMAT)': '1'}\n{'JOHOR': {'SINAR REHABILITATION CENTRE (SEGAMAT)': '1'}}\n{'SINAR REHABILITATION CENTRE (SEGAMAT)': '1'}\n{'JOHOR': {'SINAR REHABILITATION CENTRE (SEGAMAT)': '1'}}\n{'SINAR REHABILITATION CENTRE (SEGAMAT)': '1'}\n{'JOHOR': {'SINAR REHABILITATION CENTRE (SEGAMAT)': '1'}}\n{'SINAR REHABILITATION CENTRE (SEGAMAT)': '1'}\n{'JOHOR': {'SINAR REHABILITATION CENTRE (SEGAMAT)': '1'}}\n{'SINAR REHABILITATION CENTRE (SEGAMAT)': '1'}\n{'JOHOR': {'SINAR REHABILITATION CENTRE (SEGAMAT)': '1'}}\n{'SINAR REHABILITATION CENTRE (SEGAMAT)': '1'}\n{'JOHOR': {'SINAR REHABILITATION CENTRE (SEGAMAT)': '1'}}\n{'SINAR REHABILITATION CENTRE (SEGAMAT)': '1'}\n{'JOHOR': {'SINAR REHABILITATION CENTRE (SEGAMAT)': '1'}}\n{'SINAR REHABILITATION CENTRE (SEGAMAT)': '1'}\n{'JOHOR': {'SINAR REHABILITATION CENTRE (SEGAMAT)': '1'}}\n{'SINAR REHABILITATION CENTRE (SEGAMAT)': '1'}\n{'JOHOR': {'SINAR REHABILITATION CENTRE (SEGAMAT)': '1'}}\n{'SINAR REHABILITATION CENTRE (SEGAMAT)': '1'}\n{'JOHOR': {'SINAR REHABILITATION CENTRE (SEGAMAT)': '1'}}\n{'SINAR REHABILITATION CENTRE (SEGAMAT)': '1'}\n{'JOHOR': {'SINAR REHABILITATION CENTRE (SEGAMAT)': '1'}}\n{'SINAR REHABILITATION CENTRE (SEGAMAT)': '1'}\n{'JOHOR': {'SINAR REHABILITATION CENTRE (SEGAMAT)': '1'}}\n{'SINAR REHABILITATION CENTRE (SEGAMAT)': '1'}\n{'JOHOR': {'SINAR REHABILITATION CENTRE (SEGAMAT)': '1'}}\n{'SINAR REHABILITATION CENTRE (SEGAMAT)': '1'}\n{'JOHOR': {'SINAR REHABILITATION CENTRE (SEGAMAT)': '1'}}\n{'SINAR REHABILITATION CENTRE (SEGAMAT)': '1'}\n{'MELAKA': {'TAGS SPINE & JOINT SPECIALISTS (MELAKA)': '15'}}\n"
          ]
        },
        {
          "output_type": "error",
          "ename": "KeyError",
          "evalue": "'JOHOR'",
          "traceback": [
            "\u001b[1;31m---------------------------------------------------------------------------\u001b[0m",
            "\u001b[1;31mKeyError\u001b[0m                                  Traceback (most recent call last)",
            "\u001b[1;32m<ipython-input-30-c7c3a96b9eef>\u001b[0m in \u001b[0;36m<module>\u001b[1;34m\u001b[0m\n\u001b[0;32m      2\u001b[0m     \u001b[1;32mfor\u001b[0m \u001b[0mi\u001b[0m \u001b[1;32min\u001b[0m \u001b[0mpanel\u001b[0m\u001b[1;33m:\u001b[0m\u001b[1;33m\u001b[0m\u001b[1;33m\u001b[0m\u001b[0m\n\u001b[0;32m      3\u001b[0m         \u001b[0mprint\u001b[0m\u001b[1;33m(\u001b[0m\u001b[0mi\u001b[0m\u001b[1;33m)\u001b[0m\u001b[1;33m\u001b[0m\u001b[1;33m\u001b[0m\u001b[0m\n\u001b[1;32m----> 4\u001b[1;33m         \u001b[0mprint\u001b[0m\u001b[1;33m(\u001b[0m\u001b[0mi\u001b[0m\u001b[1;33m[\u001b[0m\u001b[0mj\u001b[0m\u001b[1;33m]\u001b[0m\u001b[1;33m)\u001b[0m\u001b[1;33m\u001b[0m\u001b[1;33m\u001b[0m\u001b[0m\n\u001b[0m",
            "\u001b[1;31mKeyError\u001b[0m: 'JOHOR'"
          ]
        }
      ],
      "source": [
        "# for j in book.sheet_names():\n",
        "#     for i in panel:\n",
        "#         print(i)\n",
        "#         print(i[j])"
      ]
    },
    {
      "cell_type": "code",
      "execution_count": 28,
      "metadata": {},
      "outputs": [
        {
          "output_type": "error",
          "ename": "TypeError",
          "evalue": "list indices must be integers or slices, not str",
          "traceback": [
            "\u001b[1;31m---------------------------------------------------------------------------\u001b[0m",
            "\u001b[1;31mTypeError\u001b[0m                                 Traceback (most recent call last)",
            "\u001b[1;32m<ipython-input-28-d0169b09db5d>\u001b[0m in \u001b[0;36m<module>\u001b[1;34m\u001b[0m\n\u001b[1;32m----> 1\u001b[1;33m \u001b[0mpanel\u001b[0m\u001b[1;33m[\u001b[0m\u001b[1;34m\"MELAKA\"\u001b[0m\u001b[1;33m]\u001b[0m\u001b[1;33m\u001b[0m\u001b[1;33m\u001b[0m\u001b[0m\n\u001b[0m",
            "\u001b[1;31mTypeError\u001b[0m: list indices must be integers or slices, not str"
          ]
        }
      ],
      "source": []
    }
  ]
}